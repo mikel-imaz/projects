{
 "cells": [
  {
   "cell_type": "markdown",
   "id": "c3712641-a3c0-4c9b-95c0-85b00f69e474",
   "metadata": {},
   "source": [
    "(urban-tree-species)=\n",
    "# Urban Tree Species\n",
    "---"
   ]
  },
  {
   "cell_type": "markdown",
   "id": "f9df63cd-b5a2-4f17-914d-07c0d08aea4a",
   "metadata": {},
   "source": [
    "I have always been fond of urban trees. They are a breather in the concrete jungle and a significant presence. However, there is no census of them in my town. I thought that maybe I could record the bulk of them in a dataset and conduct a little study to learn about them.\n",
    "\n",
    "And so I am gathering that information!"
   ]
  },
  {
   "cell_type": "code",
   "execution_count": null,
   "id": "3eb18a9f-64d3-41b7-87e9-e40869c96394",
   "metadata": {},
   "outputs": [],
   "source": []
  }
 ],
 "metadata": {
  "kernelspec": {
   "display_name": "Python 3 (ipykernel)",
   "language": "python",
   "name": "python3"
  },
  "language_info": {
   "codemirror_mode": {
    "name": "ipython",
    "version": 3
   },
   "file_extension": ".py",
   "mimetype": "text/x-python",
   "name": "python",
   "nbconvert_exporter": "python",
   "pygments_lexer": "ipython3",
   "version": "3.9.12"
  }
 },
 "nbformat": 4,
 "nbformat_minor": 5
}
