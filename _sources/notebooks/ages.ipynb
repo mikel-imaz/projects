{
 "cells": [
  {
   "cell_type": "markdown",
   "id": "7b953d24-8ced-460a-af2e-b50abfb5b696",
   "metadata": {},
   "source": [
    "# Median Ages"
   ]
  },
  {
   "cell_type": "code",
   "execution_count": 12,
   "id": "22e133da-eb18-4ab1-b947-11ea280d950d",
   "metadata": {
    "executionTime": 926,
    "lastSuccessfullyExecutedCode": "# Import packages\nimport pandas as pd\nimport matplotlib.pyplot as plt\nimport seaborn as sns\n\n# Read data from file\nniger = pd.read_csv(\"data/Niger-2022.csv\")\njapan = pd.read_csv(\"data/Japan-2022.csv\")\n\n# Prepare to plot\nniger[\"M\"] = -niger[\"M\"]\njapan[\"M\"] = -japan[\"M\"]\n\n# Plot\nfig, ax = plt.subplots(1, 2, sharey=True, figsize=(10, 5))\n\nsns.barplot(ax=ax[0], x=\"F\", y=\"Age\", data=niger, color=\"lightcoral\")\nsns.barplot(ax=ax[0], x=\"M\", y=\"Age\", data=niger, color=\"steelblue\")\nsns.barplot(ax=ax[1], x=\"F\", y=\"Age\", data=japan, color=\"lightcoral\")\nsns.barplot(ax=ax[1], x=\"M\", y=\"Age\", data=japan, color=\"steelblue\")\n\nax[0].invert_yaxis()\nax[0].axis(\"off\")\nax[1].axis(\"off\")\n\nplt.show()",
    "tags": [
     "hide-input"
    ]
   },
   "outputs": [
    {
     "data": {
      "image/png": "[encoded data removed]",
      "text/plain": [
       "<Figure size 1000x500 with 2 Axes>"
      ]
     },
     "metadata": {},
     "output_type": "display_data"
    }
   ],
   "source": [
    "# Import packages\n",
    "import pandas as pd\n",
    "import matplotlib.pyplot as plt\n",
    "import seaborn as sns\n",
    "\n",
    "# Read data from file\n",
    "niger = pd.read_csv(\"data/Niger-2022.csv\")\n",
    "japan = pd.read_csv(\"data/Japan-2022.csv\")\n",
    "\n",
    "# Prepare to plot\n",
    "niger[\"M\"] = -niger[\"M\"]\n",
    "japan[\"M\"] = -japan[\"M\"]\n",
    "\n",
    "# Plot\n",
    "fig, ax = plt.subplots(1, 2, sharey=True, figsize=(10, 5))\n",
    "\n",
    "sns.barplot(ax=ax[0], x=\"F\", y=\"Age\", data=niger, color=\"lightcoral\")\n",
    "sns.barplot(ax=ax[0], x=\"M\", y=\"Age\", data=niger, color=\"steelblue\")\n",
    "sns.barplot(ax=ax[1], x=\"F\", y=\"Age\", data=japan, color=\"lightcoral\")\n",
    "sns.barplot(ax=ax[1], x=\"M\", y=\"Age\", data=japan, color=\"steelblue\")\n",
    "\n",
    "ax[0].invert_yaxis()\n",
    "ax[0].axis(\"off\")\n",
    "ax[1].axis(\"off\")\n",
    "\n",
    "plt.show()"
   ]
  },
  {
   "cell_type": "markdown",
   "id": "c0661d57-64b5-4863-8143-4f4784732bc1",
   "metadata": {},
   "source": [
    "Population pyramid of Niger (left) and Japan (right) in 2022."
   ]
  },
  {
   "cell_type": "markdown",
   "id": "481227be-c0f3-4943-83bd-dfcdff6dbeea",
   "metadata": {},
   "source": [
    "Apr, 2023\n",
    "> *Data Analysis*"
   ]
  },
  {
   "cell_type": "markdown",
   "id": "5f089a02-290e-4627-8a72-bd67903f7824",
   "metadata": {},
   "source": [
    "## Background\n",
    "Given a certain group, how many people there are older than you? And how many are younger than you? When you are a newborn, everybody else is older. When you are the oldest one, everybody else is younger. In between, there will be a percentage of people older than you, and a complementary percentage younger than you.\n",
    "\n",
    "The *median age* is defined so that 50% of the people are older and 50% are younger. The global average median age was 30 years in 2021 – half of the world population was older than 30 years, and the other half was younger. Japan has the highest median age at almost 49 years. One of the lowest is Niger at some 15 years. The median age in Spain is around 44 years.\n",
    "\n",
    "When I turned 49 last year, it was clear to me that I had already left behind half of my life (life expectancy is some 84 years here). But population is aging in my town and I wondered where I was among my fellow citizens. It could be the case that even if I had left behind the *middle* age, I was still around the *median* age!"
   ]
  },
  {
   "cell_type": "markdown",
   "id": "16181d07-7062-442b-871d-71dc833ee0fa",
   "metadata": {},
   "source": [
    "## The data\n",
    "Instead of downloading the CSV, I provided the URL from https://www.gipuzkoairekia.eus/ to directly access the [data](https://www.gipuzkoairekia.eus/es/datu-irekien-katalogoa/-/openDataSearcher/detail/detailView/ca39b82b-3444-4e47-8d9a-8dcfa9355f80): population of [Urretxu](https://en.wikipedia.org/wiki/Urretxu) in **2022** according to the age, gender and neighbourhood."
   ]
  },
  {
   "cell_type": "code",
   "execution_count": 13,
   "id": "313ee222-9803-4027-b5df-aaa338628330",
   "metadata": {
    "executionTime": 1240,
    "lastSuccessfullyExecutedCode": "# Define URL of the data\nurl = 'https://www.gipuzkoairekia.eus/es/datu-irekien-katalogoa/-/openDataSearcher/download/downloadResource/a4085d92-8e7e-4a2c-9472-16a2b7aa9a4f'\n\n# Read the data\npop = pd.read_csv(url,\n                  encoding=\"iso-8859-1\",\n                  sep=\";\",\n                  on_bad_lines=\"skip\",\n                  usecols=[\"NOMBRE CALLE\", \"EDAD\", \"CANTIDAD MUJERES\", \"CANTIDAD HOMBRES\"])\n\nprint(pop)",
    "tags": [
     "hide-input"
    ]
   },
   "outputs": [
    {
     "name": "stdout",
     "output_type": "stream",
     "text": [
      "         NOMBRE CALLE EDAD  CANTIDAD MUJERES  CANTIDAD HOMBRES\n",
      "0            AREIZAGA    1                 1                 0\n",
      "1            AREIZAGA    2                 2                 0\n",
      "2            AREIZAGA    3                 0                 2\n",
      "3            AREIZAGA    4                 2                 0\n",
      "4            AREIZAGA    5                 0                 2\n",
      "...               ...  ...               ...               ...\n",
      "1799  BASAGASTI KALEA   78                 1                 0\n",
      "1800  BASAGASTI KALEA   79                 0                 0\n",
      "1801  BASAGASTI KALEA   80                 0                 0\n",
      "1802  BASAGASTI KALEA  >80                 2                 1\n",
      "1803  BASAGASTI KALEA  000                 0                 2\n",
      "\n",
      "[1804 rows x 4 columns]\n"
     ]
    }
   ],
   "source": [
    "# Define URL of the data\n",
    "url = 'https://www.gipuzkoairekia.eus/es/datu-irekien-katalogoa/-/openDataSearcher/download/downloadResource/a4085d92-8e7e-4a2c-9472-16a2b7aa9a4f'\n",
    "\n",
    "# Read the data\n",
    "pop = pd.read_csv(url,\n",
    "                  encoding=\"iso-8859-1\",\n",
    "                  sep=\";\",\n",
    "                  on_bad_lines=\"skip\",\n",
    "                  usecols=[\"NOMBRE CALLE\", \"EDAD\", \"CANTIDAD MUJERES\", \"CANTIDAD HOMBRES\"])\n",
    "\n",
    "print(pop)"
   ]
  },
  {
   "cell_type": "markdown",
   "id": "5c0e8fa0-1760-4c0d-a114-8225b6e4b645",
   "metadata": {},
   "source": [
    "## Data validation\n",
    "Unfortunately, the number of the people over the age of 80 is aggregated and appears with the label \">80\". I will replace the label to \"81\", and make it a number. I will consider that the people over 80 are all of them 81 years old (yes, it will look strange in the graphic representations but further information is missing)."
   ]
  },
  {
   "cell_type": "code",
   "execution_count": 14,
   "id": "41b18069-5ed6-4285-8d22-ddc0ca3f73f7",
   "metadata": {
    "executionTime": 184,
    "lastSuccessfullyExecutedCode": "# Replacement\npop = pop.replace(\">80\", \"81\")\n\n# Convert to integer\npop[\"EDAD\"] = pop[\"EDAD\"].astype(int)\n\n# Show dataframe info\npop.info()",
    "tags": [
     "hide-input"
    ]
   },
   "outputs": [
    {
     "name": "stdout",
     "output_type": "stream",
     "text": [
      "<class 'pandas.core.frame.DataFrame'>\n",
      "RangeIndex: 1804 entries, 0 to 1803\n",
      "Data columns (total 4 columns):\n",
      " #   Column            Non-Null Count  Dtype \n",
      "---  ------            --------------  ----- \n",
      " 0   NOMBRE CALLE      1804 non-null   object\n",
      " 1   EDAD              1804 non-null   int64 \n",
      " 2   CANTIDAD MUJERES  1804 non-null   int64 \n",
      " 3   CANTIDAD HOMBRES  1804 non-null   int64 \n",
      "dtypes: int64(3), object(1)\n",
      "memory usage: 56.5+ KB\n"
     ]
    }
   ],
   "source": [
    "# Replacement\n",
    "pop = pop.replace(\">80\", \"81\")\n",
    "\n",
    "# Convert to integer\n",
    "pop[\"EDAD\"] = pop[\"EDAD\"].astype(int)\n",
    "\n",
    "# Show dataframe info\n",
    "pop.info()"
   ]
  },
  {
   "cell_type": "markdown",
   "id": "baaf4291-d0ad-47e8-af44-ba8f621b9ddf",
   "metadata": {},
   "source": [
    "## Population pyramid\n",
    "Let's build the population pyramid for my town."
   ]
  },
  {
   "cell_type": "code",
   "execution_count": 15,
   "id": "4ffaccb8-dc95-4d69-9fcc-dc4439bc84d7",
   "metadata": {
    "executionTime": 571,
    "lastSuccessfullyExecutedCode": "# Group by age and sum women and men quantities\npop_ages = pop.groupby(\"EDAD\")[[\"CANTIDAD MUJERES\", \"CANTIDAD HOMBRES\"]].sum()\n\n# Establish age intervals for population pyramid\nbins = pd.IntervalIndex.from_tuples([(i, i + 4) for i in range(0, 85, 5)], closed='both')\n\n# Create new column with intervals\npop_ages[\"interval\"] = pd.cut(pop_ages.index, bins)\n\n# Group by intervals\npop_ages_pyr = pop_ages.groupby(\"interval\")[[\"CANTIDAD MUJERES\", \"CANTIDAD HOMBRES\"]].sum()\n\nprint(pop_ages_pyr)",
    "tags": [
     "hide-input"
    ]
   },
   "outputs": [
    {
     "name": "stdout",
     "output_type": "stream",
     "text": [
      "          CANTIDAD MUJERES  CANTIDAD HOMBRES\n",
      "interval                                    \n",
      "[0, 4]                  88                95\n",
      "[5, 9]                 110               124\n",
      "[10, 14]               196               205\n",
      "[15, 19]               194               212\n",
      "[20, 24]               180               203\n",
      "[25, 29]               153               157\n",
      "[30, 34]               140               140\n",
      "[35, 39]               138               175\n",
      "[40, 44]               195               204\n",
      "[45, 49]               301               288\n",
      "[50, 54]               260               274\n",
      "[55, 59]               272               289\n",
      "[60, 64]               235               260\n",
      "[65, 69]               206               176\n",
      "[70, 74]               180               161\n",
      "[75, 79]               167               137\n",
      "[80, 84]               314               174\n"
     ]
    }
   ],
   "source": [
    "# Group by age and sum women and men quantities\n",
    "pop_ages = pop.groupby(\"EDAD\")[[\"CANTIDAD MUJERES\", \"CANTIDAD HOMBRES\"]].sum()\n",
    "\n",
    "# Establish age intervals for population pyramid\n",
    "bins = pd.IntervalIndex.from_tuples([(i, i + 4) for i in range(0, 85, 5)], closed='both')\n",
    "\n",
    "# Create new column with intervals\n",
    "pop_ages[\"interval\"] = pd.cut(pop_ages.index, bins)\n",
    "\n",
    "# Group by intervals\n",
    "pop_ages_pyr = pop_ages.groupby(\"interval\")[[\"CANTIDAD MUJERES\", \"CANTIDAD HOMBRES\"]].sum()\n",
    "\n",
    "print(pop_ages_pyr)"
   ]
  },
  {
   "cell_type": "code",
   "execution_count": 16,
   "id": "812c9e85-e744-45d4-b615-e6a50332b3e9",
   "metadata": {
    "executionTime": 157,
    "lastSuccessfullyExecutedCode": "# Prepare to plot\npop_ages_pyr = pop_ages_pyr.reset_index()\npop_ages_pyr[\"CANTIDAD HOMBRES\"] = - pop_ages_pyr[\"CANTIDAD HOMBRES\"]\n\n# Plot\nfig, ax = plt.subplots(figsize=(5, 5))\n\nsns.barplot(ax=ax, x=\"CANTIDAD MUJERES\", y=\"interval\", data=pop_ages_pyr,\n            color=\"lightcoral\", order=pop_ages_pyr[\"interval\"])\nsns.barplot(ax=ax, x=\"CANTIDAD HOMBRES\", y=\"interval\", data=pop_ages_pyr,\n            color=\"steelblue\", order=pop_ages_pyr[\"interval\"])\n\nax.tick_params(axis='x', labelsize=9, rotation=0)\nax.tick_params(axis='y', labelsize=9)\nax.set_title(\"Population pyramid (Urretxu, 2022)\", fontsize=11)\nax.set_xlabel(\"quantity\", fontsize=11)\nax.set_ylabel(\"age group (years)\", fontsize=11)\nsns.despine()\n\nax.set_xticks(range(-300, 400, 100), labels=[300, 200, 100, 0, 100, 200, 300])\nax.set_xlim(-400, 400)\n\nax.invert_yaxis()\n\nylabels = [str(i)+\"-\"+str(i + 4) for i in range(0, 85, 5)]\nylabels[-1] = \">=80\"\nax.set_yticks(range(0, 17), labels=ylabels)\n\nax.text(225, 5, \"female\", fontsize=12, fontweight='bold', color=\"lightcoral\")\nax.text(-350, 5, \"male\", fontsize=12, fontweight='bold', color=\"steelblue\")\n\nplt.show()",
    "tags": [
     "hide-input"
    ]
   },
   "outputs": [
    {
     "data": {
      "image/png": "[encoded data removed]",
      "text/plain": [
       "<Figure size 500x500 with 1 Axes>"
      ]
     },
     "metadata": {},
     "output_type": "display_data"
    }
   ],
   "source": [
    "# Prepare to plot\n",
    "pop_ages_pyr = pop_ages_pyr.reset_index()\n",
    "pop_ages_pyr[\"CANTIDAD HOMBRES\"] = - pop_ages_pyr[\"CANTIDAD HOMBRES\"]\n",
    "\n",
    "# Plot\n",
    "fig, ax = plt.subplots(figsize=(5, 5))\n",
    "\n",
    "sns.barplot(ax=ax, x=\"CANTIDAD MUJERES\", y=\"interval\", data=pop_ages_pyr,\n",
    "            color=\"lightcoral\", order=pop_ages_pyr[\"interval\"])\n",
    "sns.barplot(ax=ax, x=\"CANTIDAD HOMBRES\", y=\"interval\", data=pop_ages_pyr,\n",
    "            color=\"steelblue\", order=pop_ages_pyr[\"interval\"])\n",
    "\n",
    "ax.tick_params(axis='x', labelsize=9, rotation=0)\n",
    "ax.tick_params(axis='y', labelsize=9)\n",
    "ax.set_title(\"Population pyramid (Urretxu, 2022)\", fontsize=11)\n",
    "ax.set_xlabel(\"quantity\", fontsize=11)\n",
    "ax.set_ylabel(\"age group (years)\", fontsize=11)\n",
    "sns.despine()\n",
    "\n",
    "ax.set_xticks(range(-300, 400, 100), labels=[300, 200, 100, 0, 100, 200, 300])\n",
    "ax.set_xlim(-400, 400)\n",
    "\n",
    "ax.invert_yaxis()\n",
    "\n",
    "ylabels = [str(i)+\"-\"+str(i + 4) for i in range(0, 85, 5)]\n",
    "ylabels[-1] = \">=80\"\n",
    "ax.set_yticks(range(0, 17), labels=ylabels)\n",
    "\n",
    "ax.text(225, 5, \"female\", fontsize=12, fontweight='bold', color=\"lightcoral\")\n",
    "ax.text(-350, 5, \"male\", fontsize=12, fontweight='bold', color=\"steelblue\")\n",
    "\n",
    "plt.show()"
   ]
  },
  {
   "cell_type": "markdown",
   "id": "2aa17890-1bfa-4fa9-b52d-487ce44903cc",
   "metadata": {},
   "source": [
    "Certainly, this pyramid is closer to the Japanese than to the pristine one of Niger. In fact, it looks like a house of cards that is going to fall apart, with that sort of beret on top of it. The effect is due to the aggregation of the elderly mentioned earlier, it is strange that the individual ages of those over 80 are not attended to, because they make up a large group. This omission feels inconsiderate nowadays. Among women, those over 80 constitute the largest group in town."
   ]
  },
  {
   "cell_type": "markdown",
   "id": "cc8028ff-617f-4387-abd4-fa157145478f",
   "metadata": {},
   "source": [
    "## Median age\n",
    "I was interested in calculating the median age, so I will compute total numbers adding men and women, then group by age and sum numbers creating a new dataframe."
   ]
  },
  {
   "cell_type": "code",
   "execution_count": 17,
   "id": "6631f97d-18d0-418c-9b69-015d72a68495",
   "metadata": {
    "executionTime": 183,
    "lastSuccessfullyExecutedCode": "# Create new column adding women and men numbers\npop_ages[\"TOTAL\"] = pop_ages[[\"CANTIDAD MUJERES\", \"CANTIDAD HOMBRES\"]].sum(axis=1)\n\n# Use just total values\npop_ages_all = pop_ages[[\"TOTAL\"]]\n\n# Append end of ages: 82 years, 0 people\npop_ages_all.loc[len(pop_ages_all)] = [0]\n\nprint(pop_ages_all)",
    "tags": [
     "hide-input"
    ]
   },
   "outputs": [
    {
     "name": "stdout",
     "output_type": "stream",
     "text": [
      "      TOTAL\n",
      "EDAD       \n",
      "0        22\n",
      "1        49\n",
      "2        31\n",
      "3        39\n",
      "4        42\n",
      "...     ...\n",
      "78       53\n",
      "79       58\n",
      "80       41\n",
      "81      447\n",
      "82        0\n",
      "\n",
      "[83 rows x 1 columns]\n"
     ]
    }
   ],
   "source": [
    "# Create new column adding women and men numbers\n",
    "pop_ages[\"TOTAL\"] = pop_ages[[\"CANTIDAD MUJERES\", \"CANTIDAD HOMBRES\"]].sum(axis=1)\n",
    "\n",
    "# Use just total values\n",
    "pop_ages_all = pop_ages[[\"TOTAL\"]]\n",
    "\n",
    "# Append end of ages: 82 years, 0 people\n",
    "pop_ages_all.loc[len(pop_ages_all)] = [0]\n",
    "\n",
    "print(pop_ages_all)"
   ]
  },
  {
   "cell_type": "code",
   "execution_count": 18,
   "id": "d29407ec-1c06-4114-a544-d8179d0d0380",
   "metadata": {
    "executionTime": 159,
    "lastSuccessfullyExecutedCode": "# Calculate total population\npop_total = pop_ages_all[\"TOTAL\"].sum()\nprint(f\"Total population in 2022 -> {pop_total}\")",
    "tags": [
     "hide-input"
    ]
   },
   "outputs": [
    {
     "name": "stdout",
     "output_type": "stream",
     "text": [
      "Total population in 2022 -> 6603\n"
     ]
    }
   ],
   "source": [
    "# Calculate total population\n",
    "pop_total = pop_ages_all[\"TOTAL\"].sum()\n",
    "print(f\"Total population in 2022 -> {pop_total}\")"
   ]
  },
  {
   "cell_type": "markdown",
   "id": "499ee0b6-c177-43a9-9b7d-77b4b10c5264",
   "metadata": {},
   "source": [
    "Now I am going to calculate the number (and percentage) of people younger and older for each age."
   ]
  },
  {
   "cell_type": "code",
   "execution_count": 19,
   "id": "8e42682f-b632-42a0-8003-4361e8c3f4fe",
   "metadata": {
    "executionTime": 189,
    "lastSuccessfullyExecutedCode": "# Sum number of younger population\npop_ages_all[\"younger\"] = pop_ages_all[\"TOTAL\"].shift(1).cumsum().fillna(0)\n\n# Calculate number of older population\npop_ages_all[\"older\"] = pop_total - pop_ages_all[\"younger\"]\n\n# Calculate percentages\npop_ages_all[\"younger_%\"] = - 100 * pop_ages_all[\"younger\"] / pop_total\npop_ages_all[\"older_%\"] = 100 * pop_ages_all[\"older\"] / pop_total\n\nprint(pop_ages_all)",
    "tags": [
     "hide-input"
    ]
   },
   "outputs": [
    {
     "name": "stdout",
     "output_type": "stream",
     "text": [
      "      TOTAL  younger   older   younger_%     older_%\n",
      "EDAD                                                \n",
      "0        22      0.0  6603.0   -0.000000  100.000000\n",
      "1        49     22.0  6581.0   -0.333182   99.666818\n",
      "2        31     71.0  6532.0   -1.075269   98.924731\n",
      "3        39    102.0  6501.0   -1.544752   98.455248\n",
      "4        42    141.0  6462.0   -2.135393   97.864607\n",
      "...     ...      ...     ...         ...         ...\n",
      "78       53   6004.0   599.0  -90.928366    9.071634\n",
      "79       58   6057.0   546.0  -91.731031    8.268969\n",
      "80       41   6115.0   488.0  -92.609420    7.390580\n",
      "81      447   6156.0   447.0  -93.230350    6.769650\n",
      "82        0   6603.0     0.0 -100.000000    0.000000\n",
      "\n",
      "[83 rows x 5 columns]\n"
     ]
    }
   ],
   "source": [
    "# Sum number of younger population\n",
    "pop_ages_all[\"younger\"] = pop_ages_all[\"TOTAL\"].shift(1).cumsum().fillna(0)\n",
    "\n",
    "# Calculate number of older population\n",
    "pop_ages_all[\"older\"] = pop_total - pop_ages_all[\"younger\"]\n",
    "\n",
    "# Calculate percentages\n",
    "pop_ages_all[\"younger_%\"] = - 100 * pop_ages_all[\"younger\"] / pop_total\n",
    "pop_ages_all[\"older_%\"] = 100 * pop_ages_all[\"older\"] / pop_total\n",
    "\n",
    "print(pop_ages_all)"
   ]
  },
  {
   "cell_type": "markdown",
   "id": "b869f9c1-dde9-48c7-93e8-32ca2e3350e2",
   "metadata": {},
   "source": [
    "Finally, let's find out the median age: the age at which older people than you drops for the first time below 50%."
   ]
  },
  {
   "cell_type": "code",
   "execution_count": 20,
   "id": "53a04e93-eb5f-4318-bfc3-3ae1a9252d13",
   "metadata": {
    "executionTime": 135,
    "lastSuccessfullyExecutedCode": "# Calculate the medium age\nmedium_age = pop_ages_all[pop_ages_all[\"older_%\"] < 50].index[0]\n\nprint(f'Median age -> {medium_age} years')",
    "tags": [
     "hide-input"
    ]
   },
   "outputs": [
    {
     "name": "stdout",
     "output_type": "stream",
     "text": [
      "Median age -> 49 years\n"
     ]
    }
   ],
   "source": [
    "# Calculate the medium age\n",
    "medium_age = pop_ages_all[pop_ages_all[\"older_%\"] < 50].index[0]\n",
    "\n",
    "print(f'Median age -> {medium_age} years')"
   ]
  },
  {
   "cell_type": "code",
   "execution_count": 21,
   "id": "0beaa48a-f9d0-46da-8169-e290c25475ac",
   "metadata": {
    "executionTime": 161,
    "lastSuccessfullyExecutedCode": "# Plot\nfig, ax = plt.subplots(figsize=(7.5, 5))\n\nax.grid(axis=\"y\")\nax.set_axisbelow(True)\nax.tick_params(axis='x', labelsize=9, rotation=0)\nax.tick_params(axis='y', labelsize=10)\nax.set_title(\"Population distribution (Urretxu, 2022)\", fontsize=12)\nax.set_xlabel(\"age\", fontsize=11)\nax.set_ylabel(\"population\", fontsize=11)\nax.set_xlim(0, 100)\nax.set_ylim(-100, 100)\nsns.despine()\n\nax.fill_between(pop_ages_all.index, 0, pop_ages_all[\"older_%\"], color=\"goldenrod\")\nax.fill_between(pop_ages_all.index, pop_ages_all[\"younger_%\"], 0, color=\"forestgreen\")\n\nax.set_xticks(range(0, 100, 10), labels=list(range(0, 100, 10)))\nax.set_yticks(range(-100, 125, 25), labels=['100 %', '75 %', '50 %', '25 %', '0 %',\n                                            '25 %', '50 %', '75 %', '100 %'])\n\nax.text(10, 50, \"older\", fontsize=15, fontweight='demibold', color=\"white\")\nax.text(60, -50, \"younger\", fontsize=15, fontweight='demibold', color=\"white\")\n\nax.plot(49, 50, marker=\"_\", markersize=11, color=\"black\")\nax.plot(49, -50, marker=\"_\", markersize=11, color=\"black\")\n\nax.annotate(\"\", xy=(49, -100), xytext=(49, 100),\n            arrowprops=dict(arrowstyle=\"-|>\", linestyle=\"--\", linewidth=0.5))\n\nplt.show()",
    "tags": [
     "hide-input"
    ]
   },
   "outputs": [
    {
     "data": {
      "image/png": "[encoded data removed]",
      "text/plain": [
       "<Figure size 750x500 with 1 Axes>"
      ]
     },
     "metadata": {},
     "output_type": "display_data"
    }
   ],
   "source": [
    "# Plot\n",
    "fig, ax = plt.subplots(figsize=(7.5, 5))\n",
    "\n",
    "ax.grid(axis=\"y\")\n",
    "ax.set_axisbelow(True)\n",
    "ax.tick_params(axis='x', labelsize=9, rotation=0)\n",
    "ax.tick_params(axis='y', labelsize=10)\n",
    "ax.set_title(\"Population distribution (Urretxu, 2022)\", fontsize=12)\n",
    "ax.set_xlabel(\"age\", fontsize=11)\n",
    "ax.set_ylabel(\"population\", fontsize=11)\n",
    "ax.set_xlim(0, 100)\n",
    "ax.set_ylim(-100, 100)\n",
    "sns.despine()\n",
    "\n",
    "ax.fill_between(pop_ages_all.index, 0, pop_ages_all[\"older_%\"], color=\"goldenrod\")\n",
    "ax.fill_between(pop_ages_all.index, pop_ages_all[\"younger_%\"], 0, color=\"forestgreen\")\n",
    "\n",
    "ax.set_xticks(range(0, 100, 10), labels=list(range(0, 100, 10)))\n",
    "ax.set_yticks(range(-100, 125, 25), labels=['100 %', '75 %', '50 %', '25 %', '0 %',\n",
    "                                            '25 %', '50 %', '75 %', '100 %'])\n",
    "\n",
    "ax.text(10, 50, \"older\", fontsize=15, fontweight='demibold', color=\"white\")\n",
    "ax.text(60, -50, \"younger\", fontsize=15, fontweight='demibold', color=\"white\")\n",
    "\n",
    "ax.plot(49, 50, marker=\"_\", markersize=11, color=\"black\")\n",
    "ax.plot(49, -50, marker=\"_\", markersize=11, color=\"black\")\n",
    "\n",
    "ax.annotate(\"\", xy=(49, -100), xytext=(49, 100),\n",
    "            arrowprops=dict(arrowstyle=\"-|>\", linestyle=\"--\", linewidth=0.5))\n",
    "\n",
    "plt.show()"
   ]
  },
  {
   "cell_type": "markdown",
   "id": "234592f6-e5ba-46f1-b0f5-99706c86f702",
   "metadata": {},
   "source": [
    "So here we have it: it turns out that when I turned 49 last year (2022), I was also turning the median age in my town in that same year!\n",
    "\n",
    "So I am not that old, considering."
   ]
  }
 ],
 "metadata": {
  "colab": {
   "name": "Welcome to DataCamp Workspaces.ipynb",
   "provenance": []
  },
  "kernelspec": {
   "display_name": "Python 3 (ipykernel)",
   "language": "python",
   "name": "python3"
  },
  "language_info": {
   "codemirror_mode": {
    "name": "ipython",
    "version": 3
   },
   "file_extension": ".py",
   "mimetype": "text/x-python",
   "name": "python",
   "nbconvert_exporter": "python",
   "pygments_lexer": "ipython3",
   "version": "3.9.12"
  }
 },
 "nbformat": 4,
 "nbformat_minor": 5
}
