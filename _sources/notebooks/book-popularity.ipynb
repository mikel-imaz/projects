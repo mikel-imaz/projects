{
 "cells": [
  {
   "cell_type": "markdown",
   "id": "d1a9df7c-7f23-4977-a894-0805093b0ab8",
   "metadata": {
    "editable": true,
    "slideshow": {
     "slide_type": ""
    },
    "tags": []
   },
   "source": [
    "# What makes a good book?\n",
    "![](img/books_pattern.jpg)\n",
    "\n",
    "*A [DataCamp](https://datacamp.com) challenge* &nbsp;&nbsp;&nbsp;&nbsp;{octicon}`calendar` Feb, 2025  \n",
    "\n",
    "{bdg-secondary-line}`Classification`\n",
    "\n",
    "## The project\n",
    "Build a model that accurately predicts book popularity, which will help a bookstore manage their stock better and tweak their marketing plans to suit what their readers love the most.\n",
    "\n",
    "## The data\n",
    "| Column     | Description              |\n",
    "|------------|--------------------------|\n",
    "| `'title'` | Book title. |\n",
    "| `'price'` | Book price. |\n",
    "| `'review/helpfulness'` | The number of helpful reviews over the total number of reviews. | \n",
    "| `'review/summary'` | The summary of the review. |\n",
    "| `'review/text'`| The review's full text. |\n",
    "| `'description'` | The book's description. |\n",
    "| `'authors'` | Author. | \n",
    "| `'categories'` | Book categories. |\n",
    "| `'popularity'` | Whether the book was popular or unpopular. | "
   ]
  },
  {
   "cell_type": "markdown",
   "id": "3a3f42fc-5376-4745-b474-9440b7712bc2",
   "metadata": {},
   "source": [
    "## Data validation\n",
    "### Read the data"
   ]
  },
  {
   "cell_type": "code",
   "execution_count": 1,
   "id": "d2469e4f-5f90-4dda-8dce-cad5e0d69d7b",
   "metadata": {
    "editable": true,
    "slideshow": {
     "slide_type": ""
    },
    "tags": [
     "hide-input"
    ]
   },
   "outputs": [
    {
     "data": {
      "text/html": [
       "<div>\n",
       "<style scoped>\n",
       "    .dataframe tbody tr th:only-of-type {\n",
       "        vertical-align: middle;\n",
       "    }\n",
       "\n",
       "    .dataframe tbody tr th {\n",
       "        vertical-align: top;\n",
       "    }\n",
       "\n",
       "    .dataframe thead th {\n",
       "        text-align: right;\n",
       "    }\n",
       "</style>\n",
       "<table border=\"1\" class=\"dataframe\">\n",
       "  <thead>\n",
       "    <tr style=\"text-align: right;\">\n",
       "      <th></th>\n",
       "      <th>title</th>\n",
       "      <th>price</th>\n",
       "      <th>review/helpfulness</th>\n",
       "      <th>review/summary</th>\n",
       "      <th>review/text</th>\n",
       "      <th>description</th>\n",
       "      <th>authors</th>\n",
       "      <th>categories</th>\n",
       "      <th>popularity</th>\n",
       "    </tr>\n",
       "  </thead>\n",
       "  <tbody>\n",
       "    <tr>\n",
       "      <th>0</th>\n",
       "      <td>We Band of Angels: The Untold Story of America...</td>\n",
       "      <td>10.88</td>\n",
       "      <td>2/3</td>\n",
       "      <td>A Great Book about women in WWII</td>\n",
       "      <td>I have alway been a fan of fiction books set i...</td>\n",
       "      <td>In the fall of 1941, the Philippines was a gar...</td>\n",
       "      <td>'Elizabeth Norman'</td>\n",
       "      <td>'History'</td>\n",
       "      <td>Unpopular</td>\n",
       "    </tr>\n",
       "    <tr>\n",
       "      <th>1</th>\n",
       "      <td>Prayer That Brings Revival: Interceding for Go...</td>\n",
       "      <td>9.35</td>\n",
       "      <td>0/0</td>\n",
       "      <td>Very helpful book for church prayer groups and...</td>\n",
       "      <td>Very helpful book to give you a better prayer ...</td>\n",
       "      <td>In Prayer That Brings Revival, best-selling au...</td>\n",
       "      <td>'Yong-gi Cho'</td>\n",
       "      <td>'Religion'</td>\n",
       "      <td>Unpopular</td>\n",
       "    </tr>\n",
       "    <tr>\n",
       "      <th>2</th>\n",
       "      <td>The Mystical Journey from Jesus to Christ</td>\n",
       "      <td>24.95</td>\n",
       "      <td>17/19</td>\n",
       "      <td>Universal Spiritual Awakening Guide With Some ...</td>\n",
       "      <td>The message of this book is to find yourself a...</td>\n",
       "      <td>THE MYSTICAL JOURNEY FROM JESUS TO CHRIST Disc...</td>\n",
       "      <td>'Muata Ashby'</td>\n",
       "      <td>'Body, Mind &amp; Spirit'</td>\n",
       "      <td>Unpopular</td>\n",
       "    </tr>\n",
       "    <tr>\n",
       "      <th>3</th>\n",
       "      <td>Death Row</td>\n",
       "      <td>7.99</td>\n",
       "      <td>0/1</td>\n",
       "      <td>Ben Kincaid tries to stop an execution.</td>\n",
       "      <td>The hero of William Bernhardt's Ben Kincaid no...</td>\n",
       "      <td>Upon receiving his execution date, one of the ...</td>\n",
       "      <td>'Lynden Harris'</td>\n",
       "      <td>'Social Science'</td>\n",
       "      <td>Unpopular</td>\n",
       "    </tr>\n",
       "    <tr>\n",
       "      <th>4</th>\n",
       "      <td>Sound and Form in Modern Poetry: Second Editio...</td>\n",
       "      <td>32.50</td>\n",
       "      <td>18/20</td>\n",
       "      <td>good introduction to modern prosody</td>\n",
       "      <td>There's a lot in this book which the reader wi...</td>\n",
       "      <td>An updated and expanded version of a classic a...</td>\n",
       "      <td>'Harvey Seymour Gross', 'Robert McDowell'</td>\n",
       "      <td>'Poetry'</td>\n",
       "      <td>Unpopular</td>\n",
       "    </tr>\n",
       "    <tr>\n",
       "      <th>...</th>\n",
       "      <td>...</td>\n",
       "      <td>...</td>\n",
       "      <td>...</td>\n",
       "      <td>...</td>\n",
       "      <td>...</td>\n",
       "      <td>...</td>\n",
       "      <td>...</td>\n",
       "      <td>...</td>\n",
       "      <td>...</td>\n",
       "    </tr>\n",
       "    <tr>\n",
       "      <th>15714</th>\n",
       "      <td>Attack of the Deranged Mutant Killer Monster S...</td>\n",
       "      <td>7.64</td>\n",
       "      <td>0/0</td>\n",
       "      <td>Great for Calvin lovers</td>\n",
       "      <td>Bought as a Christmas gift, great book for kin...</td>\n",
       "      <td>Online: gocomics.com/calvinandhobbes/</td>\n",
       "      <td>'Bill Watterson'</td>\n",
       "      <td>'Comics &amp; Graphic Novels'</td>\n",
       "      <td>Unpopular</td>\n",
       "    </tr>\n",
       "    <tr>\n",
       "      <th>15715</th>\n",
       "      <td>Book Savvy</td>\n",
       "      <td>33.99</td>\n",
       "      <td>2/2</td>\n",
       "      <td>literary pleasure</td>\n",
       "      <td>I thoroughly enjoyed Ms. Katona's Book Savvy. ...</td>\n",
       "      <td>Recounts the adventures of Mibs Beaumont, whos...</td>\n",
       "      <td>'Ingrid Law'</td>\n",
       "      <td>'Juvenile Fiction'</td>\n",
       "      <td>Popular</td>\n",
       "    </tr>\n",
       "    <tr>\n",
       "      <th>15716</th>\n",
       "      <td>Organizing to Win: New Research on Union Strat...</td>\n",
       "      <td>24.95</td>\n",
       "      <td>3/4</td>\n",
       "      <td>Great Book for Union Organizers!</td>\n",
       "      <td>This is a good reference tool for Union Organi...</td>\n",
       "      <td>As the American labour movement mobilizes for ...</td>\n",
       "      <td>'Kate Bronfenbrenner', 'Sheldon Friedman', 'Ri...</td>\n",
       "      <td>'Business &amp; Economics'</td>\n",
       "      <td>Popular</td>\n",
       "    </tr>\n",
       "    <tr>\n",
       "      <th>15717</th>\n",
       "      <td>The Dharma Bums</td>\n",
       "      <td>39.95</td>\n",
       "      <td>3/3</td>\n",
       "      <td>The Sad, Beautiful, Joyful World of Jack Kerouac</td>\n",
       "      <td>Jack Kerouac was intensely alive and his fiery...</td>\n",
       "      <td>THE DHARMA BUMS appeared just one year after t...</td>\n",
       "      <td>'Jack Kerouac'</td>\n",
       "      <td>'Fiction'</td>\n",
       "      <td>Popular</td>\n",
       "    </tr>\n",
       "    <tr>\n",
       "      <th>15718</th>\n",
       "      <td>Palomino</td>\n",
       "      <td>7.99</td>\n",
       "      <td>0/0</td>\n",
       "      <td>\"Palomino\"</td>\n",
       "      <td>This is an older novel of Danielle Steele's, a...</td>\n",
       "      <td>Samantha Taylor is shattered when her husband ...</td>\n",
       "      <td>'Danielle Steel'</td>\n",
       "      <td>'Fiction'</td>\n",
       "      <td>Popular</td>\n",
       "    </tr>\n",
       "  </tbody>\n",
       "</table>\n",
       "<p>15719 rows × 9 columns</p>\n",
       "</div>"
      ],
      "text/plain": [
       "                                                   title  price  \\\n",
       "0      We Band of Angels: The Untold Story of America...  10.88   \n",
       "1      Prayer That Brings Revival: Interceding for Go...   9.35   \n",
       "2              The Mystical Journey from Jesus to Christ  24.95   \n",
       "3                                              Death Row   7.99   \n",
       "4      Sound and Form in Modern Poetry: Second Editio...  32.50   \n",
       "...                                                  ...    ...   \n",
       "15714  Attack of the Deranged Mutant Killer Monster S...   7.64   \n",
       "15715                                         Book Savvy  33.99   \n",
       "15716  Organizing to Win: New Research on Union Strat...  24.95   \n",
       "15717                                    The Dharma Bums  39.95   \n",
       "15718                                           Palomino   7.99   \n",
       "\n",
       "      review/helpfulness                                     review/summary  \\\n",
       "0                    2/3                   A Great Book about women in WWII   \n",
       "1                    0/0  Very helpful book for church prayer groups and...   \n",
       "2                  17/19  Universal Spiritual Awakening Guide With Some ...   \n",
       "3                    0/1            Ben Kincaid tries to stop an execution.   \n",
       "4                  18/20                good introduction to modern prosody   \n",
       "...                  ...                                                ...   \n",
       "15714                0/0                            Great for Calvin lovers   \n",
       "15715                2/2                                  literary pleasure   \n",
       "15716                3/4                   Great Book for Union Organizers!   \n",
       "15717                3/3   The Sad, Beautiful, Joyful World of Jack Kerouac   \n",
       "15718                0/0                                         \"Palomino\"   \n",
       "\n",
       "                                             review/text  \\\n",
       "0      I have alway been a fan of fiction books set i...   \n",
       "1      Very helpful book to give you a better prayer ...   \n",
       "2      The message of this book is to find yourself a...   \n",
       "3      The hero of William Bernhardt's Ben Kincaid no...   \n",
       "4      There's a lot in this book which the reader wi...   \n",
       "...                                                  ...   \n",
       "15714  Bought as a Christmas gift, great book for kin...   \n",
       "15715  I thoroughly enjoyed Ms. Katona's Book Savvy. ...   \n",
       "15716  This is a good reference tool for Union Organi...   \n",
       "15717  Jack Kerouac was intensely alive and his fiery...   \n",
       "15718  This is an older novel of Danielle Steele's, a...   \n",
       "\n",
       "                                             description  \\\n",
       "0      In the fall of 1941, the Philippines was a gar...   \n",
       "1      In Prayer That Brings Revival, best-selling au...   \n",
       "2      THE MYSTICAL JOURNEY FROM JESUS TO CHRIST Disc...   \n",
       "3      Upon receiving his execution date, one of the ...   \n",
       "4      An updated and expanded version of a classic a...   \n",
       "...                                                  ...   \n",
       "15714              Online: gocomics.com/calvinandhobbes/   \n",
       "15715  Recounts the adventures of Mibs Beaumont, whos...   \n",
       "15716  As the American labour movement mobilizes for ...   \n",
       "15717  THE DHARMA BUMS appeared just one year after t...   \n",
       "15718  Samantha Taylor is shattered when her husband ...   \n",
       "\n",
       "                                                 authors  \\\n",
       "0                                     'Elizabeth Norman'   \n",
       "1                                          'Yong-gi Cho'   \n",
       "2                                          'Muata Ashby'   \n",
       "3                                        'Lynden Harris'   \n",
       "4              'Harvey Seymour Gross', 'Robert McDowell'   \n",
       "...                                                  ...   \n",
       "15714                                   'Bill Watterson'   \n",
       "15715                                       'Ingrid Law'   \n",
       "15716  'Kate Bronfenbrenner', 'Sheldon Friedman', 'Ri...   \n",
       "15717                                     'Jack Kerouac'   \n",
       "15718                                   'Danielle Steel'   \n",
       "\n",
       "                      categories popularity  \n",
       "0                      'History'  Unpopular  \n",
       "1                     'Religion'  Unpopular  \n",
       "2          'Body, Mind & Spirit'  Unpopular  \n",
       "3               'Social Science'  Unpopular  \n",
       "4                       'Poetry'  Unpopular  \n",
       "...                          ...        ...  \n",
       "15714  'Comics & Graphic Novels'  Unpopular  \n",
       "15715         'Juvenile Fiction'    Popular  \n",
       "15716     'Business & Economics'    Popular  \n",
       "15717                  'Fiction'    Popular  \n",
       "15718                  'Fiction'    Popular  \n",
       "\n",
       "[15719 rows x 9 columns]"
      ]
     },
     "execution_count": 1,
     "metadata": {},
     "output_type": "execute_result"
    }
   ],
   "source": [
    "# Import packages\n",
    "import matplotlib.pyplot as plt\n",
    "import nltk\n",
    "import numpy as np\n",
    "import pandas as pd\n",
    "import seaborn as sns\n",
    "from category_encoders import TargetEncoder\n",
    "from nltk import word_tokenize\n",
    "from nltk.sentiment.vader import SentimentIntensityAnalyzer\n",
    "from sklearn.linear_model import LogisticRegression\n",
    "from sklearn.metrics import accuracy_score, classification_report\n",
    "from sklearn.model_selection import train_test_split\n",
    "from sklearn.preprocessing import StandardScaler\n",
    "\n",
    "# Read the data\n",
    "books = pd.read_csv(\"data/books.csv\")\n",
    "books"
   ]
  },
  {
   "cell_type": "markdown",
   "id": "3f3cf780-4284-424a-b4f6-358e7e1d1ba9",
   "metadata": {},
   "source": [
    "### Check data quality"
   ]
  },
  {
   "cell_type": "markdown",
   "id": "80c7d9e3-1d20-412d-ace9-b39ce3c0541b",
   "metadata": {},
   "source": [
    "#### Missing values"
   ]
  },
  {
   "cell_type": "code",
   "execution_count": 2,
   "id": "4e67e735-18d2-4147-844c-c589a8e35828",
   "metadata": {
    "editable": true,
    "slideshow": {
     "slide_type": ""
    },
    "tags": [
     "hide-input"
    ]
   },
   "outputs": [
    {
     "name": "stdout",
     "output_type": "stream",
     "text": [
      "<class 'pandas.core.frame.DataFrame'>\n",
      "RangeIndex: 15719 entries, 0 to 15718\n",
      "Data columns (total 9 columns):\n",
      " #   Column              Non-Null Count  Dtype  \n",
      "---  ------              --------------  -----  \n",
      " 0   title               15719 non-null  object \n",
      " 1   price               15719 non-null  float64\n",
      " 2   review/helpfulness  15719 non-null  object \n",
      " 3   review/summary      15718 non-null  object \n",
      " 4   review/text         15719 non-null  object \n",
      " 5   description         15719 non-null  object \n",
      " 6   authors             15719 non-null  object \n",
      " 7   categories          15719 non-null  object \n",
      " 8   popularity          15719 non-null  object \n",
      "dtypes: float64(1), object(8)\n",
      "memory usage: 1.1+ MB\n"
     ]
    }
   ],
   "source": [
    "# Get df info\n",
    "books.info()"
   ]
  },
  {
   "cell_type": "markdown",
   "id": "5d5d956f-bd4b-4e5b-bb8e-d7eb290da101",
   "metadata": {},
   "source": [
    "There is only one missing values, I will drop that row."
   ]
  },
  {
   "cell_type": "code",
   "execution_count": 3,
   "id": "8297816c-0611-4902-9462-b794784a4c46",
   "metadata": {
    "editable": true,
    "slideshow": {
     "slide_type": ""
    },
    "tags": [
     "hide-input"
    ]
   },
   "outputs": [],
   "source": [
    "# Drop missing values\n",
    "books.dropna(inplace=True)"
   ]
  },
  {
   "cell_type": "markdown",
   "id": "c4b4ef1c-a7c8-40ef-9c9e-6a4441ab1778",
   "metadata": {},
   "source": [
    "#### Duplicated values"
   ]
  },
  {
   "cell_type": "code",
   "execution_count": 4,
   "id": "35d6ec16-b2b5-4ce3-8e84-b7c6902d9dd3",
   "metadata": {
    "editable": true,
    "slideshow": {
     "slide_type": ""
    },
    "tags": [
     "hide-input"
    ]
   },
   "outputs": [
    {
     "name": "stdout",
     "output_type": "stream",
     "text": [
      "Duplicated rows -> 3294\n"
     ]
    }
   ],
   "source": [
    "# Check on all columns\n",
    "print(f\"Duplicated rows -> {books.duplicated().sum()}\")"
   ]
  },
  {
   "cell_type": "markdown",
   "id": "f2f26c5b-68a9-48de-b666-0dd87248fec3",
   "metadata": {},
   "source": [
    "I will drop all duplicated records."
   ]
  },
  {
   "cell_type": "code",
   "execution_count": 5,
   "id": "6ee678d1-bb12-46e1-8f11-2ce3d02d9a6f",
   "metadata": {
    "editable": true,
    "slideshow": {
     "slide_type": ""
    },
    "tags": [
     "hide-input"
    ]
   },
   "outputs": [],
   "source": [
    "# Drop duplicated rows\n",
    "books.drop_duplicates(inplace=True)"
   ]
  },
  {
   "cell_type": "markdown",
   "id": "e98614f2-9677-48e6-810b-e4560c5f83e9",
   "metadata": {},
   "source": [
    "### Check value ranges\n",
    "#### Categorical data\n",
    "Let's see value ranges in categorical data columns `authors` and `categories`, and the balance of the target variable `popularity`."
   ]
  },
  {
   "cell_type": "code",
   "execution_count": 6,
   "id": "9aa1d3c8-cfd6-4d40-b7e2-dac72a3e076d",
   "metadata": {
    "editable": true,
    "slideshow": {
     "slide_type": ""
    },
    "tags": [
     "hide-input"
    ]
   },
   "outputs": [
    {
     "name": "stdout",
     "output_type": "stream",
     "text": [
      "Number of unique 'authors' -> 6447\n",
      "Number of unique 'categories' -> 313\n"
     ]
    }
   ],
   "source": [
    "# Print number of unique values\n",
    "print(f\"Number of unique 'authors' -> {books[\"authors\"].nunique()}\")\n",
    "print(f\"Number of unique 'categories' -> {books[\"categories\"].nunique()}\")"
   ]
  },
  {
   "cell_type": "markdown",
   "id": "1c2a41f6-f924-41c9-a845-1392d8222bc0",
   "metadata": {},
   "source": [
    "We can see that these categorical columns, especially \"authors\", have lots of unique values (\"high cardinality\")."
   ]
  },
  {
   "cell_type": "code",
   "execution_count": 7,
   "id": "c930c744-791a-4ed2-a7c0-b8c7942b9417",
   "metadata": {
    "editable": true,
    "slideshow": {
     "slide_type": ""
    },
    "tags": [
     "hide-input"
    ]
   },
   "outputs": [
    {
     "data": {
      "image/png": "[encoded data removed]",
      "text/plain": [
       "<Figure size 500x300 with 1 Axes>"
      ]
     },
     "metadata": {},
     "output_type": "display_data"
    }
   ],
   "source": [
    "# Plot the counting of top authors\n",
    "n_top = 25\n",
    "fig, ax = plt.subplots(figsize=(5, 3))\n",
    "books[\"authors\"].value_counts()[:n_top].plot(ax=ax, kind=\"bar\")\n",
    "ax.set_title(f\"Top {n_top} authors\", fontsize=11)\n",
    "ax.set_ylabel(\"Counts\")\n",
    "sns.despine()\n",
    "plt.show()"
   ]
  },
  {
   "cell_type": "markdown",
   "id": "28cf6351-410a-44d6-8c52-6172bcc32dc6",
   "metadata": {},
   "source": [
    "We also observe that some authors consist of more than one name, separated by a comma, as seen in the case of 'Charlotte Brontë, Marc Cactus' in the 4th position, and also 'Charlotte Brontë' in the 5th position."
   ]
  },
  {
   "cell_type": "code",
   "execution_count": 8,
   "id": "1471ba62-0a83-4737-8ab4-e1eb32caaf00",
   "metadata": {
    "editable": true,
    "slideshow": {
     "slide_type": ""
    },
    "tags": [
     "hide-input"
    ]
   },
   "outputs": [
    {
     "data": {
      "image/png": "[encoded data removed]",
      "text/plain": [
       "<Figure size 500x300 with 1 Axes>"
      ]
     },
     "metadata": {},
     "output_type": "display_data"
    }
   ],
   "source": [
    "# Plot the counting of top authors\n",
    "n_top = 25\n",
    "fig, ax = plt.subplots(figsize=(5, 3))\n",
    "books[\"categories\"].value_counts()[:n_top].plot(ax=ax, kind=\"bar\")\n",
    "ax.set_title(f\"Top {n_top} categories\", fontsize=11)\n",
    "ax.set_ylabel(\"Counts\")\n",
    "sns.despine()\n",
    "plt.show()"
   ]
  },
  {
   "cell_type": "code",
   "execution_count": 9,
   "id": "938ff0b4-aabd-4e5c-9eec-c1dc983213c4",
   "metadata": {
    "editable": true,
    "slideshow": {
     "slide_type": ""
    },
    "tags": [
     "hide-input"
    ]
   },
   "outputs": [
    {
     "data": {
      "image/png": "[encoded data removed]",
      "text/plain": [
       "<Figure size 400x300 with 1 Axes>"
      ]
     },
     "metadata": {},
     "output_type": "display_data"
    }
   ],
   "source": [
    "# Plot popularity counts\n",
    "fig, ax = plt.subplots(figsize=(4, 3))\n",
    "books[\"popularity\"].value_counts().plot(ax=ax, kind=\"bar\")\n",
    "ax.tick_params(axis=\"x\", labelsize=10, rotation=0)\n",
    "ax.set_ylabel(\"Counts\")\n",
    "sns.despine()\n",
    "plt.show()"
   ]
  },
  {
   "cell_type": "markdown",
   "id": "d5a1958b-ef07-4689-ada1-df72f0771fc9",
   "metadata": {},
   "source": [
    "#### Numerical data"
   ]
  },
  {
   "cell_type": "code",
   "execution_count": 10,
   "id": "8916543b-9e49-4b99-9977-16acf9ccccef",
   "metadata": {
    "editable": true,
    "slideshow": {
     "slide_type": ""
    },
    "tags": [
     "hide-input"
    ]
   },
   "outputs": [
    {
     "data": {
      "image/png": "[encoded data removed]",
      "text/plain": [
       "<Figure size 500x300 with 1 Axes>"
      ]
     },
     "metadata": {},
     "output_type": "display_data"
    }
   ],
   "source": [
    "# Plot prices' histogram\n",
    "fig, ax = plt.subplots(figsize=(5, 3))\n",
    "books[\"price\"].plot(ax=ax, kind=\"hist\")\n",
    "ax.set_xlabel(\"Price\")\n",
    "sns.despine()\n",
    "plt.show()"
   ]
  },
  {
   "cell_type": "markdown",
   "id": "99ca2d44-f9cf-4821-9fb2-3f93a9626656",
   "metadata": {},
   "source": [
    "### Data preprocessing"
   ]
  },
  {
   "cell_type": "markdown",
   "id": "7f1462c7-f5c6-461b-94a5-3713c4c6fe1e",
   "metadata": {},
   "source": [
    "#### Split \"review/helpfulness\"\n",
    "\"review/helpfulness\" column can be split into two different columns: \"helpful_reviews\" and \"total_reviews\"."
   ]
  },
  {
   "cell_type": "code",
   "execution_count": 11,
   "id": "948c3b3e-92ce-4461-9b27-89a94aabb1ed",
   "metadata": {
    "editable": true,
    "slideshow": {
     "slide_type": ""
    },
    "tags": [
     "hide-input"
    ]
   },
   "outputs": [
    {
     "data": {
      "text/html": [
       "<div>\n",
       "<style scoped>\n",
       "    .dataframe tbody tr th:only-of-type {\n",
       "        vertical-align: middle;\n",
       "    }\n",
       "\n",
       "    .dataframe tbody tr th {\n",
       "        vertical-align: top;\n",
       "    }\n",
       "\n",
       "    .dataframe thead th {\n",
       "        text-align: right;\n",
       "    }\n",
       "</style>\n",
       "<table border=\"1\" class=\"dataframe\">\n",
       "  <thead>\n",
       "    <tr style=\"text-align: right;\">\n",
       "      <th></th>\n",
       "      <th>review/helpfulness</th>\n",
       "      <th>helpful_reviews</th>\n",
       "      <th>total_reviews</th>\n",
       "    </tr>\n",
       "  </thead>\n",
       "  <tbody>\n",
       "    <tr>\n",
       "      <th>0</th>\n",
       "      <td>2/3</td>\n",
       "      <td>2</td>\n",
       "      <td>3</td>\n",
       "    </tr>\n",
       "    <tr>\n",
       "      <th>1</th>\n",
       "      <td>0/0</td>\n",
       "      <td>0</td>\n",
       "      <td>0</td>\n",
       "    </tr>\n",
       "    <tr>\n",
       "      <th>2</th>\n",
       "      <td>17/19</td>\n",
       "      <td>17</td>\n",
       "      <td>19</td>\n",
       "    </tr>\n",
       "    <tr>\n",
       "      <th>3</th>\n",
       "      <td>0/1</td>\n",
       "      <td>0</td>\n",
       "      <td>1</td>\n",
       "    </tr>\n",
       "    <tr>\n",
       "      <th>4</th>\n",
       "      <td>18/20</td>\n",
       "      <td>18</td>\n",
       "      <td>20</td>\n",
       "    </tr>\n",
       "  </tbody>\n",
       "</table>\n",
       "</div>"
      ],
      "text/plain": [
       "  review/helpfulness  helpful_reviews  total_reviews\n",
       "0                2/3                2              3\n",
       "1                0/0                0              0\n",
       "2              17/19               17             19\n",
       "3                0/1                0              1\n",
       "4              18/20               18             20"
      ]
     },
     "execution_count": 11,
     "metadata": {},
     "output_type": "execute_result"
    }
   ],
   "source": [
    "# Split strings around \"/\" separator, and convert new columns to numerical integer\n",
    "books[[\"helpful_reviews\", \"total_reviews\"]] = (\n",
    "    books[\"review/helpfulness\"].str.split(\"/\", expand=True).astype(\"int\")\n",
    ")\n",
    "\n",
    "# Show result in first rows\n",
    "books[[\"review/helpfulness\", \"helpful_reviews\", \"total_reviews\"]].head()"
   ]
  },
  {
   "cell_type": "code",
   "execution_count": 12,
   "id": "2cedecbf-a2bd-4b77-b127-cd9c73a8f759",
   "metadata": {
    "editable": true,
    "slideshow": {
     "slide_type": ""
    },
    "tags": [
     "hide-input"
    ]
   },
   "outputs": [],
   "source": [
    "# Drop processed column\n",
    "books.drop([\"review/helpfulness\"], axis=1, inplace=True)"
   ]
  },
  {
   "cell_type": "markdown",
   "id": "309f27a6-785a-449d-85b1-a3c94db8d5da",
   "metadata": {},
   "source": [
    "#### Sentiment analysis in review texts\n",
    "I will apply sentiment analysis to get a polarity score (between [-1, 1], with \"-1\" negative, \"0\" neutral, \"1\" positive) in \"review/summary\" and \"review/text\" columns."
   ]
  },
  {
   "cell_type": "code",
   "execution_count": 13,
   "id": "8301a7fa-0f9e-4d53-b68e-cf0ee125a3cc",
   "metadata": {
    "editable": true,
    "slideshow": {
     "slide_type": ""
    },
    "tags": [
     "hide-input"
    ]
   },
   "outputs": [
    {
     "data": {
      "text/html": [
       "<div>\n",
       "<style scoped>\n",
       "    .dataframe tbody tr th:only-of-type {\n",
       "        vertical-align: middle;\n",
       "    }\n",
       "\n",
       "    .dataframe tbody tr th {\n",
       "        vertical-align: top;\n",
       "    }\n",
       "\n",
       "    .dataframe thead th {\n",
       "        text-align: right;\n",
       "    }\n",
       "</style>\n",
       "<table border=\"1\" class=\"dataframe\">\n",
       "  <thead>\n",
       "    <tr style=\"text-align: right;\">\n",
       "      <th></th>\n",
       "      <th>review/summary</th>\n",
       "      <th>review_sum_sent</th>\n",
       "      <th>review/text</th>\n",
       "      <th>review_text_sent</th>\n",
       "    </tr>\n",
       "  </thead>\n",
       "  <tbody>\n",
       "    <tr>\n",
       "      <th>0</th>\n",
       "      <td>A Great Book about women in WWII</td>\n",
       "      <td>0.6249</td>\n",
       "      <td>I have alway been a fan of fiction books set i...</td>\n",
       "      <td>0.8482</td>\n",
       "    </tr>\n",
       "    <tr>\n",
       "      <th>1</th>\n",
       "      <td>Very helpful book for church prayer groups and...</td>\n",
       "      <td>0.4754</td>\n",
       "      <td>Very helpful book to give you a better prayer ...</td>\n",
       "      <td>0.8955</td>\n",
       "    </tr>\n",
       "    <tr>\n",
       "      <th>2</th>\n",
       "      <td>Universal Spiritual Awakening Guide With Some ...</td>\n",
       "      <td>0.0000</td>\n",
       "      <td>The message of this book is to find yourself a...</td>\n",
       "      <td>0.9155</td>\n",
       "    </tr>\n",
       "    <tr>\n",
       "      <th>3</th>\n",
       "      <td>Ben Kincaid tries to stop an execution.</td>\n",
       "      <td>-0.2960</td>\n",
       "      <td>The hero of William Bernhardt's Ben Kincaid no...</td>\n",
       "      <td>-0.2582</td>\n",
       "    </tr>\n",
       "    <tr>\n",
       "      <th>4</th>\n",
       "      <td>good introduction to modern prosody</td>\n",
       "      <td>0.4404</td>\n",
       "      <td>There's a lot in this book which the reader wi...</td>\n",
       "      <td>0.9571</td>\n",
       "    </tr>\n",
       "  </tbody>\n",
       "</table>\n",
       "</div>"
      ],
      "text/plain": [
       "                                      review/summary  review_sum_sent  \\\n",
       "0                   A Great Book about women in WWII           0.6249   \n",
       "1  Very helpful book for church prayer groups and...           0.4754   \n",
       "2  Universal Spiritual Awakening Guide With Some ...           0.0000   \n",
       "3            Ben Kincaid tries to stop an execution.          -0.2960   \n",
       "4                good introduction to modern prosody           0.4404   \n",
       "\n",
       "                                         review/text  review_text_sent  \n",
       "0  I have alway been a fan of fiction books set i...            0.8482  \n",
       "1  Very helpful book to give you a better prayer ...            0.8955  \n",
       "2  The message of this book is to find yourself a...            0.9155  \n",
       "3  The hero of William Bernhardt's Ben Kincaid no...           -0.2582  \n",
       "4  There's a lot in this book which the reader wi...            0.9571  "
      ]
     },
     "execution_count": 13,
     "metadata": {},
     "output_type": "execute_result"
    }
   ],
   "source": [
    "# Download the VADER lexicon\n",
    "nltk.download(\"vader_lexicon\", quiet=True)\n",
    "\n",
    "# Instanciate sentiment analyzer\n",
    "sentiment_analyzer = SentimentIntensityAnalyzer()\n",
    "\n",
    "# Apply to review summary and text columns creating new features\n",
    "books[\"review_sum_sent\"] = books[\"review/summary\"].apply(\n",
    "    lambda text: sentiment_analyzer.polarity_scores(text)[\"compound\"]\n",
    ")\n",
    "books[\"review_text_sent\"] = books[\"review/text\"].apply(\n",
    "    lambda text: sentiment_analyzer.polarity_scores(text)[\"compound\"]\n",
    ")\n",
    "\n",
    "# Show result in first rows\n",
    "books[[\"review/summary\", \"review_sum_sent\", \"review/text\", \"review_text_sent\"]].head()"
   ]
  },
  {
   "cell_type": "markdown",
   "id": "28731c91-332f-454c-84df-47d1eb82250c",
   "metadata": {},
   "source": [
    "Is there a positive correlation between the review text score and the summary sentiment score?"
   ]
  },
  {
   "cell_type": "code",
   "execution_count": 14,
   "id": "71279ac7-7eee-40fc-b135-ece97b99393e",
   "metadata": {
    "editable": true,
    "slideshow": {
     "slide_type": ""
    },
    "tags": [
     "hide-input"
    ]
   },
   "outputs": [
    {
     "name": "stdout",
     "output_type": "stream",
     "text": [
      "\n",
      "0.26 <- correlation between sentiment in review summary and text\n"
     ]
    }
   ],
   "source": [
    "# Check correlation\n",
    "corr = books[\"review_sum_sent\"].corr(books[\"review_text_sent\"])\n",
    "print(f\"\\n{corr:.2f} <- correlation between sentiment in review summary and text\")"
   ]
  },
  {
   "cell_type": "markdown",
   "id": "8ab791e7-e2a4-4b11-a684-8c67d6216a64",
   "metadata": {},
   "source": [
    "Scarce correlation. So I will leave it like that, without merging them in an average value."
   ]
  },
  {
   "cell_type": "markdown",
   "id": "12114422-2325-4ec7-8cf5-1c2ade731e2d",
   "metadata": {},
   "source": [
    "#### Word tokenize review texts\n",
    "I will compute the number of words-tokens in the review texts, this value may capture the interest the book has received."
   ]
  },
  {
   "cell_type": "code",
   "execution_count": 15,
   "id": "3ec06252-cb89-40bd-ae02-0666bea48ab7",
   "metadata": {
    "editable": true,
    "slideshow": {
     "slide_type": ""
    },
    "tags": [
     "hide-input"
    ]
   },
   "outputs": [
    {
     "data": {
      "text/html": [
       "<div>\n",
       "<style scoped>\n",
       "    .dataframe tbody tr th:only-of-type {\n",
       "        vertical-align: middle;\n",
       "    }\n",
       "\n",
       "    .dataframe tbody tr th {\n",
       "        vertical-align: top;\n",
       "    }\n",
       "\n",
       "    .dataframe thead th {\n",
       "        text-align: right;\n",
       "    }\n",
       "</style>\n",
       "<table border=\"1\" class=\"dataframe\">\n",
       "  <thead>\n",
       "    <tr style=\"text-align: right;\">\n",
       "      <th></th>\n",
       "      <th>review/text</th>\n",
       "      <th>review_text_ntokens</th>\n",
       "    </tr>\n",
       "  </thead>\n",
       "  <tbody>\n",
       "    <tr>\n",
       "      <th>0</th>\n",
       "      <td>I have alway been a fan of fiction books set i...</td>\n",
       "      <td>105</td>\n",
       "    </tr>\n",
       "    <tr>\n",
       "      <th>1</th>\n",
       "      <td>Very helpful book to give you a better prayer ...</td>\n",
       "      <td>25</td>\n",
       "    </tr>\n",
       "    <tr>\n",
       "      <th>2</th>\n",
       "      <td>The message of this book is to find yourself a...</td>\n",
       "      <td>1375</td>\n",
       "    </tr>\n",
       "    <tr>\n",
       "      <th>3</th>\n",
       "      <td>The hero of William Bernhardt's Ben Kincaid no...</td>\n",
       "      <td>430</td>\n",
       "    </tr>\n",
       "    <tr>\n",
       "      <th>4</th>\n",
       "      <td>There's a lot in this book which the reader wi...</td>\n",
       "      <td>407</td>\n",
       "    </tr>\n",
       "  </tbody>\n",
       "</table>\n",
       "</div>"
      ],
      "text/plain": [
       "                                         review/text  review_text_ntokens\n",
       "0  I have alway been a fan of fiction books set i...                  105\n",
       "1  Very helpful book to give you a better prayer ...                   25\n",
       "2  The message of this book is to find yourself a...                 1375\n",
       "3  The hero of William Bernhardt's Ben Kincaid no...                  430\n",
       "4  There's a lot in this book which the reader wi...                  407"
      ]
     },
     "execution_count": 15,
     "metadata": {},
     "output_type": "execute_result"
    }
   ],
   "source": [
    "# Download nltk necessary package\n",
    "nltk.download(\"punkt_tab\", quiet=True)\n",
    "\n",
    "# Apply tokenizer to the column, creating a new one with the value\n",
    "books[\"review_text_ntokens\"] = books[\"review/text\"].apply(\n",
    "    lambda text: len(word_tokenize(text))\n",
    ")\n",
    "\n",
    "# Show result in first rows\n",
    "books[[\"review/text\", \"review_text_ntokens\"]].head()"
   ]
  },
  {
   "cell_type": "markdown",
   "id": "4ee1bab6-147a-47a4-b336-8c8c1cb9de80",
   "metadata": {},
   "source": [
    "#### Split authors' names\n",
    "We saw earlier that some authors are composed by more than one name separated by comma. For example:"
   ]
  },
  {
   "cell_type": "code",
   "execution_count": 16,
   "id": "7853cc8c-3228-433c-ac30-cc630552b930",
   "metadata": {
    "editable": true,
    "slideshow": {
     "slide_type": ""
    },
    "tags": [
     "hide-input"
    ]
   },
   "outputs": [
    {
     "data": {
      "text/html": [
       "<div>\n",
       "<style scoped>\n",
       "    .dataframe tbody tr th:only-of-type {\n",
       "        vertical-align: middle;\n",
       "    }\n",
       "\n",
       "    .dataframe tbody tr th {\n",
       "        vertical-align: top;\n",
       "    }\n",
       "\n",
       "    .dataframe thead th {\n",
       "        text-align: right;\n",
       "    }\n",
       "</style>\n",
       "<table border=\"1\" class=\"dataframe\">\n",
       "  <thead>\n",
       "    <tr style=\"text-align: right;\">\n",
       "      <th></th>\n",
       "      <th>authors</th>\n",
       "    </tr>\n",
       "  </thead>\n",
       "  <tbody>\n",
       "    <tr>\n",
       "      <th>4</th>\n",
       "      <td>'Harvey Seymour Gross', 'Robert McDowell'</td>\n",
       "    </tr>\n",
       "  </tbody>\n",
       "</table>\n",
       "</div>"
      ],
      "text/plain": [
       "                                     authors\n",
       "4  'Harvey Seymour Gross', 'Robert McDowell'"
      ]
     },
     "execution_count": 16,
     "metadata": {},
     "output_type": "execute_result"
    }
   ],
   "source": [
    "# Filter records that contain comma and show first\n",
    "books.loc[books[\"authors\"].str.contains(\", \"), [\"authors\"]].head(1)"
   ]
  },
  {
   "cell_type": "markdown",
   "id": "5d6bc9c4-6ec9-4e57-85e5-c1b8479604c7",
   "metadata": {},
   "source": [
    "To differentiate them, I will split the names by the comma."
   ]
  },
  {
   "cell_type": "code",
   "execution_count": 17,
   "id": "41e3269d-2d7a-4d91-a339-fac259e891ff",
   "metadata": {
    "editable": true,
    "slideshow": {
     "slide_type": ""
    },
    "tags": [
     "hide-input"
    ]
   },
   "outputs": [
    {
     "data": {
      "text/html": [
       "<div>\n",
       "<style scoped>\n",
       "    .dataframe tbody tr th:only-of-type {\n",
       "        vertical-align: middle;\n",
       "    }\n",
       "\n",
       "    .dataframe tbody tr th {\n",
       "        vertical-align: top;\n",
       "    }\n",
       "\n",
       "    .dataframe thead th {\n",
       "        text-align: right;\n",
       "    }\n",
       "</style>\n",
       "<table border=\"1\" class=\"dataframe\">\n",
       "  <thead>\n",
       "    <tr style=\"text-align: right;\">\n",
       "      <th></th>\n",
       "      <th>authors</th>\n",
       "    </tr>\n",
       "  </thead>\n",
       "  <tbody>\n",
       "    <tr>\n",
       "      <th>0</th>\n",
       "      <td>['Elizabeth Norman']</td>\n",
       "    </tr>\n",
       "    <tr>\n",
       "      <th>1</th>\n",
       "      <td>['Yong-gi Cho']</td>\n",
       "    </tr>\n",
       "    <tr>\n",
       "      <th>2</th>\n",
       "      <td>['Muata Ashby']</td>\n",
       "    </tr>\n",
       "    <tr>\n",
       "      <th>3</th>\n",
       "      <td>['Lynden Harris']</td>\n",
       "    </tr>\n",
       "    <tr>\n",
       "      <th>4</th>\n",
       "      <td>['Harvey Seymour Gross', 'Robert McDowell']</td>\n",
       "    </tr>\n",
       "  </tbody>\n",
       "</table>\n",
       "</div>"
      ],
      "text/plain": [
       "                                       authors\n",
       "0                         ['Elizabeth Norman']\n",
       "1                              ['Yong-gi Cho']\n",
       "2                              ['Muata Ashby']\n",
       "3                            ['Lynden Harris']\n",
       "4  ['Harvey Seymour Gross', 'Robert McDowell']"
      ]
     },
     "execution_count": 17,
     "metadata": {},
     "output_type": "execute_result"
    }
   ],
   "source": [
    "# Split column by comma resulting in list\n",
    "books[\"authors\"] = books[\"authors\"].str.split(\", \")\n",
    "\n",
    "# Show result in first rows\n",
    "books[[\"authors\"]].head()"
   ]
  },
  {
   "cell_type": "markdown",
   "id": "6e9b7a1a-2c15-4c41-bed8-21e1c73acb43",
   "metadata": {},
   "source": [
    "And then I will \"explode\" this column now composed by lists, transforming each element to a row, replicating index values."
   ]
  },
  {
   "cell_type": "code",
   "execution_count": 18,
   "id": "c16e6ca9-0b2a-47f9-8f85-c171b7e78db2",
   "metadata": {
    "editable": true,
    "slideshow": {
     "slide_type": ""
    },
    "tags": [
     "hide-input"
    ]
   },
   "outputs": [
    {
     "data": {
      "text/html": [
       "<div>\n",
       "<style scoped>\n",
       "    .dataframe tbody tr th:only-of-type {\n",
       "        vertical-align: middle;\n",
       "    }\n",
       "\n",
       "    .dataframe tbody tr th {\n",
       "        vertical-align: top;\n",
       "    }\n",
       "\n",
       "    .dataframe thead th {\n",
       "        text-align: right;\n",
       "    }\n",
       "</style>\n",
       "<table border=\"1\" class=\"dataframe\">\n",
       "  <thead>\n",
       "    <tr style=\"text-align: right;\">\n",
       "      <th></th>\n",
       "      <th>authors</th>\n",
       "    </tr>\n",
       "  </thead>\n",
       "  <tbody>\n",
       "    <tr>\n",
       "      <th>0</th>\n",
       "      <td>'Elizabeth Norman'</td>\n",
       "    </tr>\n",
       "    <tr>\n",
       "      <th>1</th>\n",
       "      <td>'Yong-gi Cho'</td>\n",
       "    </tr>\n",
       "    <tr>\n",
       "      <th>2</th>\n",
       "      <td>'Muata Ashby'</td>\n",
       "    </tr>\n",
       "    <tr>\n",
       "      <th>3</th>\n",
       "      <td>'Lynden Harris'</td>\n",
       "    </tr>\n",
       "    <tr>\n",
       "      <th>4</th>\n",
       "      <td>'Harvey Seymour Gross'</td>\n",
       "    </tr>\n",
       "    <tr>\n",
       "      <th>4</th>\n",
       "      <td>'Robert McDowell'</td>\n",
       "    </tr>\n",
       "  </tbody>\n",
       "</table>\n",
       "</div>"
      ],
      "text/plain": [
       "                  authors\n",
       "0      'Elizabeth Norman'\n",
       "1           'Yong-gi Cho'\n",
       "2           'Muata Ashby'\n",
       "3         'Lynden Harris'\n",
       "4  'Harvey Seymour Gross'\n",
       "4       'Robert McDowell'"
      ]
     },
     "execution_count": 18,
     "metadata": {},
     "output_type": "execute_result"
    }
   ],
   "source": [
    "# Explode in the \"authors\" column\n",
    "books = books.explode(\"authors\")\n",
    "\n",
    "# Show result in first rows\n",
    "books[[\"authors\"]].head(6)"
   ]
  },
  {
   "cell_type": "markdown",
   "id": "d3558d26-9f35-4dd8-90c5-278d2df512c5",
   "metadata": {},
   "source": [
    "Author names are now untangled."
   ]
  },
  {
   "cell_type": "markdown",
   "id": "59cbe61e-ebcb-4e3d-88a3-3731f34937f9",
   "metadata": {},
   "source": [
    "#### Lowercase categories\n",
    "Adjust book categories to lowercase, because some of the entries were repeated in uppercase."
   ]
  },
  {
   "cell_type": "code",
   "execution_count": 19,
   "id": "096e7c12-abdd-483f-89e9-b3911d355794",
   "metadata": {
    "editable": true,
    "slideshow": {
     "slide_type": ""
    },
    "tags": [
     "hide-input"
    ]
   },
   "outputs": [
    {
     "data": {
      "text/html": [
       "<div>\n",
       "<style scoped>\n",
       "    .dataframe tbody tr th:only-of-type {\n",
       "        vertical-align: middle;\n",
       "    }\n",
       "\n",
       "    .dataframe tbody tr th {\n",
       "        vertical-align: top;\n",
       "    }\n",
       "\n",
       "    .dataframe thead th {\n",
       "        text-align: right;\n",
       "    }\n",
       "</style>\n",
       "<table border=\"1\" class=\"dataframe\">\n",
       "  <thead>\n",
       "    <tr style=\"text-align: right;\">\n",
       "      <th></th>\n",
       "      <th>categories</th>\n",
       "    </tr>\n",
       "  </thead>\n",
       "  <tbody>\n",
       "    <tr>\n",
       "      <th>576</th>\n",
       "      <td>'SAP R/3'</td>\n",
       "    </tr>\n",
       "    <tr>\n",
       "      <th>1009</th>\n",
       "      <td>'FAMILY &amp; RELATIONSHIPS'</td>\n",
       "    </tr>\n",
       "    <tr>\n",
       "      <th>1009</th>\n",
       "      <td>'FAMILY &amp; RELATIONSHIPS'</td>\n",
       "    </tr>\n",
       "    <tr>\n",
       "      <th>1801</th>\n",
       "      <td>'COMICS &amp; GRAPHIC NOVELS.'</td>\n",
       "    </tr>\n",
       "    <tr>\n",
       "      <th>1812</th>\n",
       "      <td>'FICTION'</td>\n",
       "    </tr>\n",
       "    <tr>\n",
       "      <th>1895</th>\n",
       "      <td>'LANGUAGE ARTS &amp; DISCIPLINES'</td>\n",
       "    </tr>\n",
       "    <tr>\n",
       "      <th>1895</th>\n",
       "      <td>'LANGUAGE ARTS &amp; DISCIPLINES'</td>\n",
       "    </tr>\n",
       "    <tr>\n",
       "      <th>1895</th>\n",
       "      <td>'LANGUAGE ARTS &amp; DISCIPLINES'</td>\n",
       "    </tr>\n",
       "    <tr>\n",
       "      <th>2119</th>\n",
       "      <td>'BIOGRAPHY &amp; AUTOBIOGRAPHY'</td>\n",
       "    </tr>\n",
       "    <tr>\n",
       "      <th>2205</th>\n",
       "      <td>'SAP R/3'</td>\n",
       "    </tr>\n",
       "  </tbody>\n",
       "</table>\n",
       "</div>"
      ],
      "text/plain": [
       "                         categories\n",
       "576                       'SAP R/3'\n",
       "1009       'FAMILY & RELATIONSHIPS'\n",
       "1009       'FAMILY & RELATIONSHIPS'\n",
       "1801     'COMICS & GRAPHIC NOVELS.'\n",
       "1812                      'FICTION'\n",
       "1895  'LANGUAGE ARTS & DISCIPLINES'\n",
       "1895  'LANGUAGE ARTS & DISCIPLINES'\n",
       "1895  'LANGUAGE ARTS & DISCIPLINES'\n",
       "2119    'BIOGRAPHY & AUTOBIOGRAPHY'\n",
       "2205                      'SAP R/3'"
      ]
     },
     "execution_count": 19,
     "metadata": {},
     "output_type": "execute_result"
    }
   ],
   "source": [
    "# Show some of the categories in uppercase\n",
    "books.loc[books[\"categories\"].str.isupper(), [\"categories\"]][:10]"
   ]
  },
  {
   "cell_type": "code",
   "execution_count": 20,
   "id": "f1993ad2-bc53-4424-9de6-a6f14579497a",
   "metadata": {
    "editable": true,
    "slideshow": {
     "slide_type": ""
    },
    "tags": [
     "hide-input"
    ]
   },
   "outputs": [],
   "source": [
    "# Convert all categories to lowercase\n",
    "books[\"categories\"] = books[\"categories\"].str.lower()"
   ]
  },
  {
   "cell_type": "markdown",
   "id": "7924e1c4-408b-410c-a0bf-ab33c27933c9",
   "metadata": {},
   "source": [
    "#### Convert data types"
   ]
  },
  {
   "cell_type": "markdown",
   "id": "65f32cfb-23f2-4818-9a1f-605b47d699cb",
   "metadata": {},
   "source": [
    "- I will replace the target variable \"popularity\" from \"Popular\" and \"Unpopular\" to numerical values \"0\" and \"1\".\n",
    "- I will convert \"authors\" and \"categories\" to categorical data types.\n",
    "- I will drop unnecessary columns for the project: \"title\", \"description\", \"review/summary\", \"review/text\"."
   ]
  },
  {
   "cell_type": "code",
   "execution_count": 21,
   "id": "32b24b30-f71a-48e3-839f-88c840afc120",
   "metadata": {
    "editable": true,
    "slideshow": {
     "slide_type": ""
    },
    "tags": [
     "hide-input"
    ]
   },
   "outputs": [
    {
     "name": "stdout",
     "output_type": "stream",
     "text": [
      "<class 'pandas.core.frame.DataFrame'>\n",
      "Index: 15275 entries, 0 to 15718\n",
      "Data columns (total 9 columns):\n",
      " #   Column               Non-Null Count  Dtype   \n",
      "---  ------               --------------  -----   \n",
      " 0   price                15275 non-null  float64 \n",
      " 1   authors              15275 non-null  category\n",
      " 2   categories           15275 non-null  category\n",
      " 3   popularity           15275 non-null  int64   \n",
      " 4   helpful_reviews      15275 non-null  int32   \n",
      " 5   total_reviews        15275 non-null  int32   \n",
      " 6   review_sum_sent      15275 non-null  float64 \n",
      " 7   review_text_sent     15275 non-null  float64 \n",
      " 8   review_text_ntokens  15275 non-null  int64   \n",
      "dtypes: category(2), float64(3), int32(2), int64(2)\n",
      "memory usage: 1.2 MB\n"
     ]
    }
   ],
   "source": [
    "# Replace target variable from category to numerical value\n",
    "books[\"popularity\"] = books[\"popularity\"].apply(\n",
    "    lambda popularity: 1 if popularity == \"Popular\" else 0\n",
    ")\n",
    "\n",
    "# Apply conversion to categorical\n",
    "books[[\"authors\", \"categories\"]] = books[[\"authors\", \"categories\"]].astype(\"category\")\n",
    "\n",
    "# Drop unnecessary columns\n",
    "books.drop(\n",
    "    [\"title\", \"description\", \"review/summary\", \"review/text\"], axis=1, inplace=True\n",
    ")\n",
    "\n",
    "# Show dataframe info\n",
    "books.info()"
   ]
  },
  {
   "cell_type": "markdown",
   "id": "b0999ce0-8668-48c0-ab01-43d2b07dfe25",
   "metadata": {},
   "source": [
    "We are now ready to test a model for classification."
   ]
  },
  {
   "cell_type": "markdown",
   "id": "79bf6b82-9744-41c4-a0c8-ce99f4b6461e",
   "metadata": {},
   "source": [
    "## Classifier"
   ]
  },
  {
   "cell_type": "markdown",
   "id": "125d3a61-3d81-4a4c-acd9-0e01e7c5cf44",
   "metadata": {},
   "source": [
    "I will define target and features:"
   ]
  },
  {
   "cell_type": "code",
   "execution_count": 22,
   "id": "3e7fb9bc-7f65-45e0-8a26-7d9966f0fb6c",
   "metadata": {
    "editable": true,
    "slideshow": {
     "slide_type": ""
    },
    "tags": [
     "hide-input"
    ]
   },
   "outputs": [
    {
     "data": {
      "text/html": [
       "<div>\n",
       "<style scoped>\n",
       "    .dataframe tbody tr th:only-of-type {\n",
       "        vertical-align: middle;\n",
       "    }\n",
       "\n",
       "    .dataframe tbody tr th {\n",
       "        vertical-align: top;\n",
       "    }\n",
       "\n",
       "    .dataframe thead th {\n",
       "        text-align: right;\n",
       "    }\n",
       "</style>\n",
       "<table border=\"1\" class=\"dataframe\">\n",
       "  <thead>\n",
       "    <tr style=\"text-align: right;\">\n",
       "      <th></th>\n",
       "      <th>price</th>\n",
       "      <th>authors</th>\n",
       "      <th>categories</th>\n",
       "      <th>helpful_reviews</th>\n",
       "      <th>total_reviews</th>\n",
       "      <th>review_sum_sent</th>\n",
       "      <th>review_text_sent</th>\n",
       "      <th>review_text_ntokens</th>\n",
       "    </tr>\n",
       "  </thead>\n",
       "  <tbody>\n",
       "    <tr>\n",
       "      <th>0</th>\n",
       "      <td>10.88</td>\n",
       "      <td>'Elizabeth Norman'</td>\n",
       "      <td>'history'</td>\n",
       "      <td>2</td>\n",
       "      <td>3</td>\n",
       "      <td>0.6249</td>\n",
       "      <td>0.8482</td>\n",
       "      <td>105</td>\n",
       "    </tr>\n",
       "    <tr>\n",
       "      <th>1</th>\n",
       "      <td>9.35</td>\n",
       "      <td>'Yong-gi Cho'</td>\n",
       "      <td>'religion'</td>\n",
       "      <td>0</td>\n",
       "      <td>0</td>\n",
       "      <td>0.4754</td>\n",
       "      <td>0.8955</td>\n",
       "      <td>25</td>\n",
       "    </tr>\n",
       "    <tr>\n",
       "      <th>2</th>\n",
       "      <td>24.95</td>\n",
       "      <td>'Muata Ashby'</td>\n",
       "      <td>'body, mind &amp; spirit'</td>\n",
       "      <td>17</td>\n",
       "      <td>19</td>\n",
       "      <td>0.0000</td>\n",
       "      <td>0.9155</td>\n",
       "      <td>1375</td>\n",
       "    </tr>\n",
       "    <tr>\n",
       "      <th>3</th>\n",
       "      <td>7.99</td>\n",
       "      <td>'Lynden Harris'</td>\n",
       "      <td>'social science'</td>\n",
       "      <td>0</td>\n",
       "      <td>1</td>\n",
       "      <td>-0.2960</td>\n",
       "      <td>-0.2582</td>\n",
       "      <td>430</td>\n",
       "    </tr>\n",
       "    <tr>\n",
       "      <th>4</th>\n",
       "      <td>32.50</td>\n",
       "      <td>'Harvey Seymour Gross'</td>\n",
       "      <td>'poetry'</td>\n",
       "      <td>18</td>\n",
       "      <td>20</td>\n",
       "      <td>0.4404</td>\n",
       "      <td>0.9571</td>\n",
       "      <td>407</td>\n",
       "    </tr>\n",
       "  </tbody>\n",
       "</table>\n",
       "</div>"
      ],
      "text/plain": [
       "   price                 authors             categories  helpful_reviews  \\\n",
       "0  10.88      'Elizabeth Norman'              'history'                2   \n",
       "1   9.35           'Yong-gi Cho'             'religion'                0   \n",
       "2  24.95           'Muata Ashby'  'body, mind & spirit'               17   \n",
       "3   7.99         'Lynden Harris'       'social science'                0   \n",
       "4  32.50  'Harvey Seymour Gross'               'poetry'               18   \n",
       "\n",
       "   total_reviews  review_sum_sent  review_text_sent  review_text_ntokens  \n",
       "0              3           0.6249            0.8482                  105  \n",
       "1              0           0.4754            0.8955                   25  \n",
       "2             19           0.0000            0.9155                 1375  \n",
       "3              1          -0.2960           -0.2582                  430  \n",
       "4             20           0.4404            0.9571                  407  "
      ]
     },
     "execution_count": 22,
     "metadata": {},
     "output_type": "execute_result"
    }
   ],
   "source": [
    "# Define target\n",
    "target = books[\"popularity\"]\n",
    "\n",
    "# Define the features\n",
    "features = books.drop(\"popularity\", axis=1)\n",
    "features.head()"
   ]
  },
  {
   "cell_type": "markdown",
   "id": "e28bee2a-91b4-423e-bab9-9c1822a387ef",
   "metadata": {},
   "source": [
    "I will also define a function, based on a Logistic Regression model, that will be used several times later."
   ]
  },
  {
   "cell_type": "code",
   "execution_count": 23,
   "id": "f5e26bbd-fb62-4581-b9b9-9e16001f0f6a",
   "metadata": {
    "editable": true,
    "slideshow": {
     "slide_type": ""
    },
    "tags": [
     "hide-input"
    ]
   },
   "outputs": [],
   "source": [
    "def lg_classifier(X_train, X_test, y_train, y_test):\n",
    "    \"\"\"Logistic Regression classifier\"\"\"\n",
    "\n",
    "    # Scale\n",
    "    scaler = StandardScaler()\n",
    "    X_train_scaled = pd.DataFrame(scaler.fit_transform(X_train), columns=X.columns)\n",
    "    X_test_scaled = pd.DataFrame(scaler.transform(X_test), columns=X.columns)\n",
    "\n",
    "    # Instantiate model\n",
    "    model = LogisticRegression()\n",
    "\n",
    "    # Fit model to the training set\n",
    "    model.fit(X_train_scaled, y_train)\n",
    "\n",
    "    # Predict test set values\n",
    "    y_pred = model.predict(X_test_scaled)\n",
    "\n",
    "    # Print results\n",
    "    print(f\"{accuracy_score(y_test, y_pred):.2f} <- Test-set accuracy \")\n",
    "    print(\n",
    "        f\"{accuracy_score(y_train, model.predict(X_train_scaled)):.2f} <- Train-set accuracy \"\n",
    "    )\n",
    "\n",
    "    return model, y_pred"
   ]
  },
  {
   "cell_type": "markdown",
   "id": "6d0e0a6c-6cdf-46e3-90d1-dc0a95ca326e",
   "metadata": {},
   "source": [
    "### 1) One-hot encoding"
   ]
  },
  {
   "cell_type": "markdown",
   "id": "2e16651c-9a19-4a89-a4ff-cba70b40ad5a",
   "metadata": {},
   "source": [
    "The first approach will be to one-hot encode \"authors\" and \"categories\":"
   ]
  },
  {
   "cell_type": "code",
   "execution_count": 24,
   "id": "37651096-e560-4044-990c-7cc5187eb1c2",
   "metadata": {
    "editable": true,
    "slideshow": {
     "slide_type": ""
    },
    "tags": [
     "hide-input"
    ]
   },
   "outputs": [
    {
     "data": {
      "text/plain": [
       "(15275, 8368)"
      ]
     },
     "execution_count": 24,
     "metadata": {},
     "output_type": "execute_result"
    }
   ],
   "source": [
    "# Get dummies for features\n",
    "features_dummied = pd.get_dummies(features, drop_first=True, dtype=\"int\")\n",
    "features_dummied.shape"
   ]
  },
  {
   "cell_type": "markdown",
   "id": "12512414-f9f3-4cb5-980d-846c33e7337a",
   "metadata": {},
   "source": [
    "Due to the high cardinality, it gives us a huge amount of columns. That will probably overfit the model. Let's check it out."
   ]
  },
  {
   "cell_type": "code",
   "execution_count": 25,
   "id": "6903104d-8dcb-4a6b-9b28-67f42178d8be",
   "metadata": {
    "editable": true,
    "slideshow": {
     "slide_type": ""
    },
    "tags": [
     "hide-input"
    ]
   },
   "outputs": [
    {
     "name": "stdout",
     "output_type": "stream",
     "text": [
      "0.63 <- Test-set accuracy \n",
      "0.88 <- Train-set accuracy \n"
     ]
    }
   ],
   "source": [
    "# Assign target a features\n",
    "y = target\n",
    "X = features_dummied\n",
    "\n",
    "# Split dataset into training and test set, and stratify\n",
    "X_train, X_test, y_train, y_test = train_test_split(\n",
    "    X, y, test_size=0.3, random_state=42, stratify=y\n",
    ")\n",
    "\n",
    "_, _ = lg_classifier(X_train, X_test, y_train, y_test)"
   ]
  },
  {
   "cell_type": "markdown",
   "id": "722b6afe-56dc-4eca-b258-92a2f0246df9",
   "metadata": {},
   "source": [
    "Indeed, it overfits the logistic regression model.  \n",
    "\n",
    "What if we drop categories and use only numeric features?"
   ]
  },
  {
   "cell_type": "code",
   "execution_count": 26,
   "id": "9b948fbe-7ea0-49d0-beba-f32932b7cac6",
   "metadata": {
    "editable": true,
    "slideshow": {
     "slide_type": ""
    },
    "tags": [
     "hide-input"
    ]
   },
   "outputs": [
    {
     "name": "stdout",
     "output_type": "stream",
     "text": [
      "0.64 <- Test-set accuracy \n",
      "0.63 <- Train-set accuracy \n"
     ]
    }
   ],
   "source": [
    "# Define features\n",
    "features = books.drop([\"popularity\", \"authors\", \"categories\"], axis=1)\n",
    "\n",
    "# Assign target a features\n",
    "y = target\n",
    "X = features\n",
    "\n",
    "# Split dataset into training and test set, and stratify\n",
    "X_train, X_test, y_train, y_test = train_test_split(\n",
    "    X, y, test_size=0.3, random_state=42, stratify=y\n",
    ")\n",
    "\n",
    "_, _ = lg_classifier(X_train, X_test, y_train, y_test)"
   ]
  },
  {
   "cell_type": "markdown",
   "id": "6c11bf7d-5523-4d58-b741-9e867043f9aa",
   "metadata": {},
   "source": [
    "The model here is not overfitting, confirming the previous problem of the high dimensionality.\n",
    "\n",
    "Let's see if we can improve these results."
   ]
  },
  {
   "cell_type": "markdown",
   "id": "dd5ad3cc-8a62-46b5-8000-17bac1a1bd2c",
   "metadata": {},
   "source": [
    "### 2) Grouping together rare categories\n",
    "To reduce the dimensionality, let's group rare authors and rare book categories into a new category name called \"other\".\n",
    "\n",
    "First I will consider a cutoff value to rename a rare author as \"other\"."
   ]
  },
  {
   "cell_type": "code",
   "execution_count": 27,
   "id": "9106f679-4250-4110-825b-e9df191e0d2b",
   "metadata": {
    "editable": true,
    "slideshow": {
     "slide_type": ""
    },
    "tags": [
     "hide-input"
    ]
   },
   "outputs": [
    {
     "data": {
      "text/html": [
       "<div>\n",
       "<style scoped>\n",
       "    .dataframe tbody tr th:only-of-type {\n",
       "        vertical-align: middle;\n",
       "    }\n",
       "\n",
       "    .dataframe tbody tr th {\n",
       "        vertical-align: top;\n",
       "    }\n",
       "\n",
       "    .dataframe thead th {\n",
       "        text-align: right;\n",
       "    }\n",
       "</style>\n",
       "<table border=\"1\" class=\"dataframe\">\n",
       "  <thead>\n",
       "    <tr style=\"text-align: right;\">\n",
       "      <th></th>\n",
       "      <th>authors</th>\n",
       "      <th>authors_rare_grouped</th>\n",
       "    </tr>\n",
       "  </thead>\n",
       "  <tbody>\n",
       "    <tr>\n",
       "      <th>0</th>\n",
       "      <td>'Elizabeth Norman'</td>\n",
       "      <td>'Elizabeth Norman'</td>\n",
       "    </tr>\n",
       "    <tr>\n",
       "      <th>1</th>\n",
       "      <td>'Yong-gi Cho'</td>\n",
       "      <td>other</td>\n",
       "    </tr>\n",
       "    <tr>\n",
       "      <th>2</th>\n",
       "      <td>'Muata Ashby'</td>\n",
       "      <td>other</td>\n",
       "    </tr>\n",
       "    <tr>\n",
       "      <th>3</th>\n",
       "      <td>'Lynden Harris'</td>\n",
       "      <td>other</td>\n",
       "    </tr>\n",
       "    <tr>\n",
       "      <th>4</th>\n",
       "      <td>'Harvey Seymour Gross'</td>\n",
       "      <td>other</td>\n",
       "    </tr>\n",
       "  </tbody>\n",
       "</table>\n",
       "</div>"
      ],
      "text/plain": [
       "                  authors authors_rare_grouped\n",
       "0      'Elizabeth Norman'   'Elizabeth Norman'\n",
       "1           'Yong-gi Cho'                other\n",
       "2           'Muata Ashby'                other\n",
       "3         'Lynden Harris'                other\n",
       "4  'Harvey Seymour Gross'                other"
      ]
     },
     "execution_count": 27,
     "metadata": {},
     "output_type": "execute_result"
    }
   ],
   "source": [
    "# Count how many times an author appears\n",
    "authors_by_freq = books[\"authors\"].value_counts()\n",
    "\n",
    "# Define a cutoff value to consider an author as rare\n",
    "freq_cutoff_a = 5\n",
    "\n",
    "# Create a list of rare (scarce) authors\n",
    "rare_authors = [\n",
    "    author for author, freq in authors_by_freq.items() if freq <= freq_cutoff_a\n",
    "]\n",
    "\n",
    "# Create a new \"authors\" feature where rare authors are grouped into a group called \"other\"\n",
    "books[\"authors_rare_grouped\"] = books[\"authors\"].apply(\n",
    "    lambda author: \"other\" if author in rare_authors else author\n",
    ")\n",
    "\n",
    "# Show results in first rows\n",
    "books[[\"authors\", \"authors_rare_grouped\"]].head()"
   ]
  },
  {
   "cell_type": "code",
   "execution_count": 28,
   "id": "9bd1a685-d96c-40bd-b255-9b3d4c9d6216",
   "metadata": {
    "editable": true,
    "slideshow": {
     "slide_type": ""
    },
    "tags": [
     "hide-input"
    ]
   },
   "outputs": [
    {
     "name": "stdout",
     "output_type": "stream",
     "text": [
      "Number of unique authors -> 311\n"
     ]
    }
   ],
   "source": [
    "# Count unique authors\n",
    "print(f\"Number of unique authors -> {books[\"authors_rare_grouped\"].nunique()}\")"
   ]
  },
  {
   "cell_type": "markdown",
   "id": "8b6f2d24-b765-4ccb-9552-943a689b93a5",
   "metadata": {},
   "source": [
    "I will do the same with book categories:"
   ]
  },
  {
   "cell_type": "code",
   "execution_count": 29,
   "id": "4d208abe-3215-4db7-8497-b0939173babb",
   "metadata": {
    "editable": true,
    "slideshow": {
     "slide_type": ""
    },
    "tags": [
     "hide-input"
    ]
   },
   "outputs": [
    {
     "name": "stdout",
     "output_type": "stream",
     "text": [
      "Number of unique categories -> 121\n"
     ]
    }
   ],
   "source": [
    "# Count how many times a category appears\n",
    "categories_by_freq = books[\"categories\"].value_counts()\n",
    "\n",
    "# Define a cutoff value to consider a category as rare\n",
    "freq_cutoff_c = 2\n",
    "\n",
    "# Create a list of rare_categories with cutoff\n",
    "rare_categories = [category for category, freq in categories_by_freq.items() if freq <= freq_cutoff_c]\n",
    "\n",
    "# Create a new \"categories\" feature where rare categories are grouped into a group called \"other\"\n",
    "books[\"categories_rare_grouped\"] = books[\"categories\"].apply(lambda category: \"other\" if category in rare_categories else category)\n",
    "\n",
    "# Count unique categories\n",
    "print(f\"Number of unique categories -> {books[\"categories_rare_grouped\"].nunique()}\")"
   ]
  },
  {
   "cell_type": "markdown",
   "id": "38df95f2-995d-420a-996d-d56a9a3827cb",
   "metadata": {},
   "source": [
    "Let's model it with one-hot encoding:"
   ]
  },
  {
   "cell_type": "code",
   "execution_count": 30,
   "id": "69523c6f-8fac-46cf-85ac-02e5e001300d",
   "metadata": {
    "editable": true,
    "slideshow": {
     "slide_type": ""
    },
    "tags": [
     "hide-input"
    ]
   },
   "outputs": [
    {
     "name": "stdout",
     "output_type": "stream",
     "text": [
      "0.65 <- Test-set accuracy \n",
      "0.67 <- Train-set accuracy \n"
     ]
    }
   ],
   "source": [
    "# Define features\n",
    "features = books.drop([\"popularity\", \"authors\", \"categories\"], axis=1)\n",
    "\n",
    "# Get dummies for features\n",
    "features_dummied = pd.get_dummies(features, drop_first=True, dtype=\"int\")\n",
    "\n",
    "# Assign target a features\n",
    "y = target\n",
    "X = features_dummied\n",
    "\n",
    "# Split dataset into training and test set, and stratify\n",
    "X_train, X_test, y_train, y_test = train_test_split(\n",
    "    X, y, test_size=0.3, random_state=42, stratify=y\n",
    ")\n",
    "\n",
    "_, _ = lg_classifier(X_train, X_test, y_train, y_test)"
   ]
  },
  {
   "cell_type": "markdown",
   "id": "77364d25-f9eb-4ed9-b668-b1a7acfe3f7a",
   "metadata": {},
   "source": [
    "It doesn't overfit now!\n",
    "\n",
    "Let's see if we can further improve results with another approach to deal with categories."
   ]
  },
  {
   "cell_type": "markdown",
   "id": "14ed899c-4639-4803-805f-4897b79295f0",
   "metadata": {},
   "source": [
    "### 3) Target encoding\n",
    "Let's transform categorical columns by their target encoding value. It is important to fit the encoding only with training values because otherwise this technique is very prone to data-leakage caused result distortion."
   ]
  },
  {
   "cell_type": "code",
   "execution_count": 31,
   "id": "8bf6b5ab-da94-42b1-b403-80821d1be49b",
   "metadata": {
    "editable": true,
    "slideshow": {
     "slide_type": ""
    },
    "tags": [
     "hide-input"
    ]
   },
   "outputs": [
    {
     "name": "stdout",
     "output_type": "stream",
     "text": [
      "0.66 <- Test-set accuracy \n",
      "0.66 <- Train-set accuracy \n",
      "              precision    recall  f1-score   support\n",
      "\n",
      "           0       0.68      0.77      0.72      2649\n",
      "           1       0.62      0.51      0.56      1934\n",
      "\n",
      "    accuracy                           0.66      4583\n",
      "   macro avg       0.65      0.64      0.64      4583\n",
      "weighted avg       0.66      0.66      0.65      4583\n",
      "\n"
     ]
    }
   ],
   "source": [
    "# Assign target a features\n",
    "y = target\n",
    "X = features\n",
    "\n",
    "# Split dataset into training and test set, and stratify\n",
    "X_train, X_test, y_train, y_test = train_test_split(\n",
    "    X, y, test_size=0.3, random_state=42, stratify=y\n",
    ")\n",
    "\n",
    "# Initialize TargetEncoder\n",
    "encoder = TargetEncoder()\n",
    "\n",
    "# Create new features with encoded values\n",
    "X_train[[\"authors_enc\", \"categories_enc\"]] = encoder.fit_transform(\n",
    "    X_train[[\"authors_rare_grouped\", \"categories_rare_grouped\"]], y_train\n",
    ")\n",
    "X_test[[\"authors_enc\", \"categories_enc\"]] = encoder.transform(\n",
    "    X_test[[\"authors_rare_grouped\", \"categories_rare_grouped\"]]\n",
    ")\n",
    "\n",
    "# Drop columns\n",
    "X_train.drop([\"authors_rare_grouped\", \"categories_rare_grouped\"], axis=1, inplace=True)\n",
    "X_test.drop([\"authors_rare_grouped\", \"categories_rare_grouped\"], axis=1, inplace=True)\n",
    "\n",
    "# Classify\n",
    "model, y_pred = lg_classifier(X_train, X_test, y_train, y_test)\n",
    "print(classification_report(y_test, y_pred))"
   ]
  },
  {
   "cell_type": "code",
   "execution_count": 32,
   "id": "37cd94d8-09d8-4431-a7ba-76f5870025bf",
   "metadata": {
    "editable": true,
    "slideshow": {
     "slide_type": ""
    },
    "tags": [
     "hide-input"
    ]
   },
   "outputs": [
    {
     "data": {
      "image/png": "[encoded data removed]",
      "text/plain": [
       "<Figure size 640x480 with 1 Axes>"
      ]
     },
     "metadata": {},
     "output_type": "display_data"
    }
   ],
   "source": [
    "# Plot coefficients\n",
    "plt.bar(X_train.columns, np.abs(model.coef_[0]))\n",
    "plt.title(\"Logistic Regression model coefficients\", fontsize=11)\n",
    "plt.xticks(rotation=45)\n",
    "sns.despine()\n",
    "plt.show()"
   ]
  },
  {
   "cell_type": "markdown",
   "id": "0e75fdc3-76ac-4a92-b3fd-fcd715a6e62b",
   "metadata": {},
   "source": [
    "## Conclusion\n",
    "The total number of reviews and the number of helpful reviews appear to be the most predictive features in this project. This aligns with the minimal impact that various processing methods applied to the categorical variables have had."
   ]
  }
 ],
 "metadata": {
  "kernelspec": {
   "display_name": "my-venv-01",
   "language": "python",
   "name": "my-venv-01"
  },
  "language_info": {
   "codemirror_mode": {
    "name": "ipython",
    "version": 3
   },
   "file_extension": ".py",
   "mimetype": "text/x-python",
   "name": "python",
   "nbconvert_exporter": "python",
   "pygments_lexer": "ipython3",
   "version": "3.12.0"
  }
 },
 "nbformat": 4,
 "nbformat_minor": 5
}
