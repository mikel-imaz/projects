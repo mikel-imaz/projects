{
 "cells": [
  {
   "cell_type": "markdown",
   "id": "781180a6-3323-4fee-9c87-d1f1557f6a89",
   "metadata": {},
   "source": [
    "# Olele - Web Scraping"
   ]
  },
  {
   "cell_type": "code",
   "execution_count": 150,
   "id": "71141c85-3332-4e69-a163-40dd0d2f6336",
   "metadata": {},
   "outputs": [],
   "source": [
    "# Import packages\n",
    "import pandas as pd\n",
    "import requests\n",
    "from bs4 import BeautifulSoup"
   ]
  },
  {
   "cell_type": "code",
   "execution_count": 151,
   "id": "28ab18fa-8216-43a7-8aa7-e91a1d649ea4",
   "metadata": {},
   "outputs": [
    {
     "name": "stdout",
     "output_type": "stream",
     "text": [
      "200\n"
     ]
    }
   ],
   "source": [
    "url = \"https://www.etsy.com/shop/Olele/reviews?ref=pagination&page=1\"\n",
    "r = requests.get(url)\n",
    "print(r.status_code)"
   ]
  },
  {
   "cell_type": "code",
   "execution_count": 152,
   "id": "0661b69e-d3d0-41e0-9158-cddfc6b43d72",
   "metadata": {},
   "outputs": [],
   "source": [
    "html = r.content\n",
    "soup = BeautifulSoup(html)"
   ]
  },
  {
   "cell_type": "code",
   "execution_count": 153,
   "id": "10373875-6a5f-4ce7-9f8f-4d4d11143a19",
   "metadata": {},
   "outputs": [
    {
     "data": {
      "text/html": [
       "<div>\n",
       "<style scoped>\n",
       "    .dataframe tbody tr th:only-of-type {\n",
       "        vertical-align: middle;\n",
       "    }\n",
       "\n",
       "    .dataframe tbody tr th {\n",
       "        vertical-align: top;\n",
       "    }\n",
       "\n",
       "    .dataframe thead th {\n",
       "        text-align: right;\n",
       "    }\n",
       "</style>\n",
       "<table border=\"1\" class=\"dataframe\">\n",
       "  <thead>\n",
       "    <tr style=\"text-align: right;\">\n",
       "      <th></th>\n",
       "      <th>name_date</th>\n",
       "      <th>text</th>\n",
       "    </tr>\n",
       "  </thead>\n",
       "  <tbody>\n",
       "    <tr>\n",
       "      <th>0</th>\n",
       "      <td>Carolinaon Nov 1, 2022</td>\n",
       "      <td>As usual the quality is sturdy yet elegant and...</td>\n",
       "    </tr>\n",
       "    <tr>\n",
       "      <th>1</th>\n",
       "      <td>Amy Annetteon Sep 3, 2022</td>\n",
       "      <td>I bought this fan to bring to tango and swing ...</td>\n",
       "    </tr>\n",
       "    <tr>\n",
       "      <th>2</th>\n",
       "      <td>Maryon Aug 31, 2022</td>\n",
       "      <td>LOVELY!  I think this is my 4th fan? Complimen...</td>\n",
       "    </tr>\n",
       "    <tr>\n",
       "      <th>3</th>\n",
       "      <td>Eni Aon Aug 31, 2022</td>\n",
       "      <td>Very beautiful fan, great quality and the colo...</td>\n",
       "    </tr>\n",
       "    <tr>\n",
       "      <th>4</th>\n",
       "      <td>hredmondson Jun 11, 2022</td>\n",
       "      <td>This is the second fan I've bought for myself ...</td>\n",
       "    </tr>\n",
       "    <tr>\n",
       "      <th>...</th>\n",
       "      <td>...</td>\n",
       "      <td>...</td>\n",
       "    </tr>\n",
       "    <tr>\n",
       "      <th>321</th>\n",
       "      <td>Anonymous on Jun 18, 2010</td>\n",
       "      <td>Gorgeous! Love it! Just in time for the summer...</td>\n",
       "    </tr>\n",
       "    <tr>\n",
       "      <th>322</th>\n",
       "      <td>Anonymous on Jun 15, 2010</td>\n",
       "      <td>Really nice communication with Karmele Luqui. ...</td>\n",
       "    </tr>\n",
       "    <tr>\n",
       "      <th>323</th>\n",
       "      <td>Anonymous on Jun 12, 2010</td>\n",
       "      <td>A huge WOW when I just got them! The fans are ...</td>\n",
       "    </tr>\n",
       "    <tr>\n",
       "      <th>324</th>\n",
       "      <td>Anonymous on Jun 12, 2010</td>\n",
       "      <td>A huge WOW when I just got them! The fans are ...</td>\n",
       "    </tr>\n",
       "    <tr>\n",
       "      <th>325</th>\n",
       "      <td>Anonymous on Jun 10, 2010</td>\n",
       "      <td>Just received this yesterday, and I am in love...</td>\n",
       "    </tr>\n",
       "  </tbody>\n",
       "</table>\n",
       "<p>326 rows × 2 columns</p>\n",
       "</div>"
      ],
      "text/plain": [
       "                     name_date  \\\n",
       "0       Carolinaon Nov 1, 2022   \n",
       "1    Amy Annetteon Sep 3, 2022   \n",
       "2          Maryon Aug 31, 2022   \n",
       "3         Eni Aon Aug 31, 2022   \n",
       "4     hredmondson Jun 11, 2022   \n",
       "..                         ...   \n",
       "321  Anonymous on Jun 18, 2010   \n",
       "322  Anonymous on Jun 15, 2010   \n",
       "323  Anonymous on Jun 12, 2010   \n",
       "324  Anonymous on Jun 12, 2010   \n",
       "325  Anonymous on Jun 10, 2010   \n",
       "\n",
       "                                                  text  \n",
       "0    As usual the quality is sturdy yet elegant and...  \n",
       "1    I bought this fan to bring to tango and swing ...  \n",
       "2    LOVELY!  I think this is my 4th fan? Complimen...  \n",
       "3    Very beautiful fan, great quality and the colo...  \n",
       "4    This is the second fan I've bought for myself ...  \n",
       "..                                                 ...  \n",
       "321  Gorgeous! Love it! Just in time for the summer...  \n",
       "322  Really nice communication with Karmele Luqui. ...  \n",
       "323  A huge WOW when I just got them! The fans are ...  \n",
       "324  A huge WOW when I just got them! The fans are ...  \n",
       "325  Just received this yesterday, and I am in love...  \n",
       "\n",
       "[326 rows x 2 columns]"
      ]
     },
     "execution_count": 153,
     "metadata": {},
     "output_type": "execute_result"
    }
   ],
   "source": [
    "names_dates = []\n",
    "texts = []\n",
    "\n",
    "for page in range(1, 29):\n",
    "    url = \"https://www.etsy.com/shop/Olele/reviews?ref=pagination&page=\" + str(page)\n",
    "    r = requests.get(url)\n",
    "    html = r.content\n",
    "    soup = BeautifulSoup(html)\n",
    "\n",
    "    for review in soup.find_all('div', attrs={'class':'review-item'}):\n",
    "        # Name and date\n",
    "        try:\n",
    "            name_date = review.find('p', attrs={'class':'shop2-review-attribution'}).get_text(strip=True)\n",
    "            names_dates.append(name_date)\n",
    "        except:\n",
    "            dates.append('')\n",
    "            pass\n",
    "        \n",
    "        # Review\n",
    "        try:\n",
    "            text = review.find('p', attrs={'class':\"prose wt-break-word wt-m-xs-0\"}).get_text(strip=True)\n",
    "            texts.append(text)\n",
    "            \n",
    "        except (AttributeError) as er:\n",
    "            texts.append('')\n",
    "            pass\n",
    "\n",
    "\n",
    "olele = pd.DataFrame({\"name_date\": names_dates, \"text\": texts},\n",
    "                     columns=[\"name_date\", \"text\"])\n",
    "olele"
   ]
  },
  {
   "cell_type": "code",
   "execution_count": 156,
   "id": "a13d7b34-899e-469f-96e7-a3b11e031135",
   "metadata": {},
   "outputs": [],
   "source": [
    "# olele.to_csv('olele-reviews.csv',\n",
    "#             # index=False, encoding='utf-8'\n",
    "#             )"
   ]
  },
  {
   "cell_type": "code",
   "execution_count": null,
   "id": "ed5fc5ad-b7e1-4a99-8c9a-b7b882701d11",
   "metadata": {},
   "outputs": [],
   "source": []
  }
 ],
 "metadata": {
  "kernelspec": {
   "display_name": "Python 3 (ipykernel)",
   "language": "python",
   "name": "python3"
  },
  "language_info": {
   "codemirror_mode": {
    "name": "ipython",
    "version": 3
   },
   "file_extension": ".py",
   "mimetype": "text/x-python",
   "name": "python",
   "nbconvert_exporter": "python",
   "pygments_lexer": "ipython3",
   "version": "3.9.12"
  }
 },
 "nbformat": 4,
 "nbformat_minor": 5
}
