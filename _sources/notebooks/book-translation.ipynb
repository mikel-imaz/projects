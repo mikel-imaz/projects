{
 "cells": [
  {
   "cell_type": "markdown",
   "id": "f928a643-9d34-4dcc-8b20-598fc44050db",
   "metadata": {},
   "source": [
    "# Book translation\n",
    "\n",
    "![](img/dcts.jpg)\n",
    "\n",
    "Mar, 2024\n",
    "> Machine Translation (MT)\n",
    "\n",
    "## Background\n",
    "A few years ago, I wrote a book in Spanish about my personal experience walking the Camino de Santiago. At the time, I considered translating it into English to reach more readers on Amazon, but I discarded the idea because of the effort and costs involved.\n",
    "\n",
    "However, with the advancement of Artificial Intelligence during these last few years, I thought it would be interesting to experiment with some model to automatically translate the book for me. Perhaps it would turn out so well that it wouldn't need further manual adjustments by humans.\n",
    "\n",
    "The historical evolution of Machine Translation has been the following one:\n",
    "\n",
    "- 1950 - 2000: **Rule based** linguistic approach.\n",
    "- 2000 - 2010: **Statistical approach**. Access to many bilingual texts. Instead of building rules, statistical models were considered.\n",
    "- 2010 - 202x: **Neural Machine Translation (NMT)**. Advanced Deep Learning models, more data available to train models, more computing power.\n",
    "\n",
    "And in this latest phase, it is worth noting the emergence of **Generative Artificial Intelligence**, with large language models (such as OpenAI's GPT: a **LLM** based on complex Deep Learning architectures) trained for text generation, _which can also be used for translating_.\n",
    "\n",
    "So, I decided to make a foray into this world to explore the possibilities before carrying out the full translation of my book."
   ]
  },
  {
   "cell_type": "markdown",
   "id": "0b6b6477-95fd-4bff-8e23-0bd055e01460",
   "metadata": {},
   "source": [
    "## Comparing models\n",
    "\n",
    "### The data\n",
    "To compare translation results across different models, I would use a metric, for which first of all I needed a dataset with sentences in Spanish and their correct translation into English. For this, I relied on [Tatoeba](https://tatoeba.org/), a collaborative website dedicated to collecting sentences and their translations into multiple languages.\n",
    "\n",
    "I downloaded a file containing over a quarter of a million translated sentences. I sorted the entries by length and kept the top thousand longest Spanish sentences (and their corresponding translations). I thought that for translating a book like mine, when comparing models, it would be best to make them work on longer sentences rather than shorter ones."
   ]
  },
  {
   "cell_type": "code",
   "execution_count": 68,
   "id": "69c23a7f-4848-42a2-bad3-6ae9006d3c44",
   "metadata": {
    "editable": true,
    "slideshow": {
     "slide_type": ""
    },
    "tags": [
     "hide-input"
    ]
   },
   "outputs": [],
   "source": [
    "import time\n",
    "\n",
    "import matplotlib.pyplot as plt\n",
    "import my_functions as my\n",
    "import numpy as np\n",
    "import pandas as pd\n",
    "import seaborn as sns\n",
    "from IPython.display import clear_output\n",
    "\n",
    "# Google Translator\n",
    "from deep_translator import GoogleTranslator\n",
    "\n",
    "# Hugging Face\n",
    "from transformers import pipeline\n",
    "from evaluate import load\n",
    "\n",
    "# OpenAI\n",
    "from openai import OpenAI\n",
    "import tiktoken\n",
    "\n",
    "# # https://tatoeba.org/es/downloads, es --> en\n",
    "# tatoeba = pd.read_csv(\"data/tatoeba-es-en-2024-03-13.tsv\",\n",
    "#                       sep=\"\\t\",\n",
    "#                       header=None,\n",
    "#                       usecols=[1, 3],\n",
    "#                       names=[\"es\", \"en\"])\n",
    "#\n",
    "# # Sort by length of the sentence\n",
    "# tatoeba = tatoeba.sort_values(by=\"es\",\n",
    "#                               key=lambda x: x.str.len(),\n",
    "#                               ascending=False)\n",
    "#\n",
    "# # Subset n longest sentences\n",
    "# n = 1000\n",
    "# tatoeba_n = tatoeba.iloc[:n, :].reset_index(drop=True)\n",
    "#\n",
    "# # Save as csv file\n",
    "# tatoeba_n.to_csv(\"data/tatoeba_n.csv\", index=False)\n",
    "\n",
    "tatoeba_n = pd.read_csv(\"data/tatoeba_n.csv\")"
   ]
  },
  {
   "cell_type": "markdown",
   "id": "c665335b-63b5-4353-abc7-867c48a35d21",
   "metadata": {},
   "source": [
    "### Translators\n",
    "In my comparison, I was clear that I wanted to include **Google Translate** and **OpenAI's GPT** text generation tool. Since both are proprietary models, I thought it would be interesting to also have a free open-source model that I could run locally on my computer.\n",
    "\n",
    "A quick search on [Hugging Face](https://huggingface.co/Helsinki-NLP/opus-mt-es-en) convinced me to use the **Helsinki-NLP/opus-mt-es-en** model, an open-source model ready to translate text from Spanish to English. It is a project led by the University of Helsinki, co-funded by the EU, in which they have fine-tuned for language couples the open pre-trained model Mariam-NMT on a corpus of translated texts from the web called [OPUS](https://opus.nlpl.eu/).\n",
    "\n",
    "For this project, I instantiated each of these models as follows:\n",
    "\n",
    "- For the Helsinki-NLP model I used a Hugging Face pipeline. This has the model downloaded locally in my computer before running it.\n",
    "- For Google Translate I used a library called [deep_translator](https://pypi.org/project/deep-translator/) as a wrapper to the Google API (no costs involved).\n",
    "- For GPT, I utilized the [OpenAI API](https://openai.com/pricing), using my key for access and billing. As model I selected the _gpt-3.5-turbo_, which is not as advanced as GPT-4 but may be enough for the purpose (and cheaper!)."
   ]
  },
  {
   "cell_type": "code",
   "execution_count": 15,
   "id": "01b70b33-de4c-4670-b268-4466c8d92718",
   "metadata": {
    "editable": true,
    "slideshow": {
     "slide_type": ""
    },
    "tags": [
     "hide-input"
    ]
   },
   "outputs": [],
   "source": [
    "# Instanciate Helsinki model\n",
    "helsinkitranslator = pipeline(task=\"translation\", model=\"Helsinki-NLP/opus-mt-es-en\")\n",
    "\n",
    "# Instanciate Google Translator\n",
    "googletranslator = GoogleTranslator(source=\"es\", target=\"en\")\n",
    "\n",
    "# Instanciate OpenAI-GPT\n",
    "api_key = \"xxx\"\n",
    "gptranslator = OpenAI(api_key=api_key)\n",
    "\n",
    "\n",
    "# Function to translate with Helsinki model\n",
    "def translate_helsinki(client, text):\n",
    "    trans_hel = client(text)[0][\"translation_text\"]\n",
    "    return trans_hel\n",
    "\n",
    "\n",
    "# Function to translate with Google model\n",
    "def translate_google(client, text):\n",
    "    max_attempts = 5\n",
    "    retry_gap = 3.0  # Initial gap between retries in seconds\n",
    "    for attempt in range(max_attempts):\n",
    "        try:\n",
    "            trans_goo = client.translate(text)\n",
    "            break  # Break inner loop on success\n",
    "        except Exception as e:\n",
    "            print(f\"Request failed on attempt {attempt + 1}. Error: {str(e)}\")\n",
    "            if attempt < max_attempts - 1:\n",
    "                retry_gap *= 1.5  # Increase the retry gap exponentially\n",
    "                time.sleep(retry_gap)\n",
    "    return trans_goo\n",
    "\n",
    "\n",
    "# Function to translate with GPT model\n",
    "def translate_gpt(client, text):\n",
    "    # Parameters\n",
    "    gpt_model = \"gpt-3.5-turbo\"\n",
    "    model_parameters = {\"model\": gpt_model, \"temperature\": 0.0}\n",
    "    system_prompt = f\"\"\"You are a translation tool.\n",
    "    You receive a string written in Spanish, and solely return the same string in English without losing any of the original formatting.\n",
    "    Your translations should be accurate, aiming not to deviate from de original structure, content, writing style and tone.\"\"\"\n",
    "\n",
    "    max_attempts = 5\n",
    "    retry_gap = 3.0  # Initial gap between retries in seconds\n",
    "    for attempt in range(max_attempts):\n",
    "        try:\n",
    "            messages = [\n",
    "                {\"role\": \"system\", \"content\": system_prompt},\n",
    "                {\"role\": \"user\", \"content\": text},\n",
    "            ]\n",
    "            completion = client.chat.completions.create(\n",
    "                **model_parameters, messages=messages\n",
    "            )\n",
    "            trans_gpt = completion.choices[0].message.content\n",
    "            tokens_in = completion.usage.prompt_tokens\n",
    "            tokens_out = completion.usage.completion_tokens\n",
    "            break  # Break inner loop on success\n",
    "        except Exception as e:\n",
    "            print(f\"Request failed on attempt {attempt + 1}. Error: {str(e)}\")\n",
    "            if attempt < max_attempts - 1:\n",
    "                retry_gap *= 1.5  # Increase the retry gap exponentially\n",
    "                time.sleep(retry_gap)\n",
    "\n",
    "    return trans_gpt, tokens_in, tokens_out\n",
    "\n",
    "\n",
    "# Function to calculate cost for \"gpt-3.5-turbo\"\n",
    "def cost_gpt(tokens_in, tokens_out):\n",
    "    price_in = 1.50  # $ /1M tokens\n",
    "    price_out = 2.00  # $ /1M tokens\n",
    "    return (tokens_in * price_in / 1000000) + (tokens_out * price_out / 1000000)"
   ]
  },
  {
   "cell_type": "markdown",
   "id": "829bcd0c-d740-4ef9-a1a0-d7441c14d59e",
   "metadata": {},
   "source": [
    "### SacreBLEU metric\n",
    "As comparison metric I used SacreBLEU from the [Hugging Face](https://huggingface.co/spaces/evaluate-metric/sacrebleu) evaluation library.\n",
    "\n",
    "I had the three models translate successively the 1000 sentences extracted from the Tatoeba database. I compared each translation with the reference translation in Tatoeba, thus obtaining 1000 SacreBLEU scores for each of the 3 models."
   ]
  },
  {
   "cell_type": "code",
   "execution_count": 3,
   "id": "0a9e8e75-705e-462d-8854-2741005c168e",
   "metadata": {
    "editable": true,
    "slideshow": {
     "slide_type": ""
    },
    "tags": [
     "hide-input"
    ]
   },
   "outputs": [
    {
     "name": "stdout",
     "output_type": "stream",
     "text": [
      "...\n",
      "Completed: 1000 / 1000\n",
      "\n",
      "Cost GPT: 0.30 $\n"
     ]
    }
   ],
   "source": [
    "# Translate\n",
    "goo_lst = []\n",
    "hel_lst = []\n",
    "gpt_lst = []\n",
    "tokens_in_consumed = 0\n",
    "tokens_out_consumed = 0\n",
    "counter = 0\n",
    "n_chunks = len(tatoeba_n)\n",
    "for text in tatoeba_n[\"es\"]:\n",
    "\n",
    "    # Google Translator\n",
    "    goo_lst.append(translate_google(googletranslator, text))\n",
    "\n",
    "    # Helsinki-NLP\n",
    "    hel_lst.append(translate_helsinki(helsinkitranslator, text))\n",
    "\n",
    "    # OpenAI-GPT\n",
    "    translation, tokens_in, tokens_out = translate_gpt(gptranslator, text)\n",
    "    tokens_in_consumed += tokens_in\n",
    "    tokens_out_consumed += tokens_out\n",
    "    gpt_lst.append(translation)\n",
    "\n",
    "    counter += 1\n",
    "    clear_output()\n",
    "    print(f\"...\\nCompleted: {counter} / {n_chunks}\")\n",
    "\n",
    "print(f\"\\nCost GPT: {cost_gpt(tokens_in_consumed, tokens_out_consumed):.2f} $\")"
   ]
  },
  {
   "cell_type": "code",
   "execution_count": 17,
   "id": "fe267a0c-2f2d-48de-9fe9-8a1971700264",
   "metadata": {
    "editable": true,
    "slideshow": {
     "slide_type": ""
    },
    "tags": [
     "hide-input"
    ]
   },
   "outputs": [
    {
     "data": {
      "image/png": "[encoded data removed]",
      "text/plain": [
       "<Figure size 600x800 with 2 Axes>"
      ]
     },
     "metadata": {},
     "output_type": "display_data"
    }
   ],
   "source": [
    "# Instanciate evaluation metric\n",
    "sacrebleu = load(\"sacrebleu\", trust_remote_code=True)\n",
    "\n",
    "# Evaluate\n",
    "goo_scores = []\n",
    "hel_scores = []\n",
    "gpt_scores = []\n",
    "for text, goo, hel, gpt in zip(tatoeba_n[\"en\"], goo_lst, hel_lst, gpt_lst):\n",
    "    references = [[text]]\n",
    "\n",
    "    # Google Translator\n",
    "    predictions = [goo]\n",
    "    goo_scores.append(\n",
    "        sacrebleu.compute(predictions=predictions, references=references)[\"score\"]\n",
    "    )\n",
    "\n",
    "    # Helsinki-NLP\n",
    "    predictions = [hel]\n",
    "    hel_scores.append(\n",
    "        sacrebleu.compute(predictions=predictions, references=references)[\"score\"]\n",
    "    )\n",
    "\n",
    "    # OpenAI-GPT\n",
    "    predictions = [gpt]\n",
    "    gpt_scores.append(\n",
    "        sacrebleu.compute(predictions=predictions, references=references)[\"score\"]\n",
    "    )\n",
    "\n",
    "# Mean values\n",
    "goo_scores_mean = np.mean(goo_scores)\n",
    "hel_scores_mean = np.mean(hel_scores)\n",
    "gpt_scores_mean = np.mean(gpt_scores)\n",
    "\n",
    "# Convert to df to plot\n",
    "scores = pd.DataFrame(\n",
    "    [goo_scores, hel_scores, gpt_scores],\n",
    "    index=[\"Google Translate\", \"Helsinki-NLP\", \"OpenAI GPT\"],\n",
    ").transpose()\n",
    "\n",
    "# Get new column with length\n",
    "scores[\"len_es\"] = tatoeba_n[\"es\"].apply(len)\n",
    "\n",
    "# Long format to plot in Seaborn\n",
    "scores = scores.melt(id_vars=[\"len_es\"]).rename(\n",
    "    columns={\"variable\": \"model\", \"value\": \"score\"}\n",
    ")\n",
    "\n",
    "# Plot\n",
    "fig, ax = plt.subplots(2, 1, figsize=(6, 8))\n",
    "\n",
    "sns.boxplot(x=\"model\", y=\"score\", data=scores, ax=ax[0], hue=\"model\")\n",
    "\n",
    "sns.barplot(x=\"model\", y=\"score\", data=scores, ax=ax[1], hue=\"model\")\n",
    "\n",
    "for i in range(2):\n",
    "    ax[i].grid(axis=\"y\")\n",
    "    ax[i].set_axisbelow(True)\n",
    "    ax[i].tick_params(axis=\"y\", which=\"major\", labelsize=11)\n",
    "    ax[i].tick_params(axis=\"x\", which=\"major\", labelsize=11)\n",
    "    ax[i].set_title(\"\", size=13)\n",
    "    ax[i].set_xlabel(\"\", size=12)\n",
    "    ax[i].set_ylabel(\"SacreBLEU\", size=12)\n",
    "    ax[i].set_ylim(0, 100)\n",
    "\n",
    "sns.despine()\n",
    "\n",
    "plt.show()"
   ]
  },
  {
   "cell_type": "markdown",
   "id": "3b8899d7-e140-4b3b-87ac-731bdddec636",
   "metadata": {},
   "source": [
    "It doesn't seem like there's much difference between the three models, although Google and GPT seem to achieve slightly better results than Helsinki in terms of SacreBLEU averages and medians. How much better? The confidence intervals are not too distinct in this last bar chart. I decided to calculate the distribution of their means to see it more clearly."
   ]
  },
  {
   "cell_type": "code",
   "execution_count": 18,
   "id": "11d478cf-7c26-4654-b4e5-610a5ef1620b",
   "metadata": {
    "editable": true,
    "slideshow": {
     "slide_type": ""
    },
    "tags": [
     "hide-input"
    ]
   },
   "outputs": [
    {
     "data": {
      "image/png": "[encoded data removed]",
      "text/plain": [
       "<Figure size 600x400 with 1 Axes>"
      ]
     },
     "metadata": {},
     "output_type": "display_data"
    }
   ],
   "source": [
    "# Establish random numbers' seed for reproducibility\n",
    "np.random.seed(111)\n",
    "\n",
    "# Draw bootstrap replicates\n",
    "bs_reps_goo_scores = my.draw_bs_reps(np.array(goo_scores), np.mean, size=10000)\n",
    "bs_reps_hel_scores = my.draw_bs_reps(np.array(hel_scores), np.mean, size=10000)\n",
    "bs_reps_gpt_scores = my.draw_bs_reps(np.array(gpt_scores), np.mean, size=10000)\n",
    "\n",
    "# Plot\n",
    "fig, ax = plt.subplots(figsize=(6, 4))\n",
    "\n",
    "sns.histplot(\n",
    "    bs_reps_goo_scores,\n",
    "    ax=ax,\n",
    "    kde=True,\n",
    "    stat=\"density\",\n",
    "    element=\"step\",\n",
    "    label=\"Google Translator\",\n",
    ")\n",
    "sns.histplot(\n",
    "    bs_reps_hel_scores,\n",
    "    ax=ax,\n",
    "    kde=True,\n",
    "    stat=\"density\",\n",
    "    element=\"step\",\n",
    "    label=\"Helsinki-NLP\",\n",
    ")\n",
    "sns.histplot(\n",
    "    bs_reps_gpt_scores,\n",
    "    ax=ax,\n",
    "    kde=True,\n",
    "    stat=\"density\",\n",
    "    element=\"step\",\n",
    "    label=\"OpenAI GPT\",\n",
    ")\n",
    "\n",
    "ax.set_title(\"Mean-values distributions\", size=12)\n",
    "ax.tick_params(axis=\"x\", labelsize=11, rotation=0)\n",
    "ax.tick_params(axis=\"y\", labelsize=11)\n",
    "ax.set_xlabel(\"SacreBLEU score\", size=12)\n",
    "ax.legend(bbox_to_anchor=(1.0, 0.5), loc=\"center left\", fontsize=10)\n",
    "sns.despine()\n",
    "\n",
    "plt.show()"
   ]
  },
  {
   "cell_type": "markdown",
   "id": "2687e2bb-df27-4b1d-9dad-92be68021bea",
   "metadata": {},
   "source": [
    "Here it is clear that the difference between Google Translator and OpenAI GPT compared to Helsinki is significant in the tests conducted on the sample of 1000 long sentences."
   ]
  },
  {
   "cell_type": "markdown",
   "id": "971731e9-48b5-45d9-8d0b-4f6d68201090",
   "metadata": {},
   "source": [
    "## Translating the book\n",
    "I carried out the translation of my book on these three systems. The quality of the translation should be checked later by myself (or by a professional translator or native speaker), but for now, I also wanted to see the differences in the time required and the cost.\n",
    "\n",
    "The book is titled [_De Camino Tu Santiago_](https://www.amazon.es/Camino-Tu-Santiago-viaje-pie/dp/1082388130) and consists of approximately 65,000 words in Spanish.\n",
    "\n",
    "To begin with, I loaded the book from the text file where I stored it and split it into chunks separated by line breaks to proceed with its translation paragraph by paragraph."
   ]
  },
  {
   "cell_type": "code",
   "execution_count": 19,
   "id": "196ebfd3-ce2f-4626-98ad-b243179e4f21",
   "metadata": {
    "editable": true,
    "slideshow": {
     "slide_type": ""
    },
    "tags": [
     "hide-input"
    ]
   },
   "outputs": [
    {
     "name": "stdout",
     "output_type": "stream",
     "text": [
      "Number of paragraphs --> 1290\n"
     ]
    }
   ],
   "source": [
    "# Open book file\n",
    "with open(\"data/dcts.txt\", \"r\") as file:\n",
    "    file_text = file.read()\n",
    "\n",
    "# Split file\n",
    "split_string = \"\\n\"\n",
    "split_text = file_text.split(split_string)\n",
    "\n",
    "# Number of chunks\n",
    "n_chunks = len(split_text)\n",
    "print(f\"Number of paragraphs --> {n_chunks}\")"
   ]
  },
  {
   "cell_type": "markdown",
   "id": "d4f31d1f-98f7-4cd5-8170-647d7044786d",
   "metadata": {},
   "source": [
    "### OpenAI GPT\n",
    "A book of 65,000 words translates to approximately the following number of tokens for GPT."
   ]
  },
  {
   "cell_type": "code",
   "execution_count": 20,
   "id": "c8ac3526-4171-467f-87a2-fc4952fbbea9",
   "metadata": {
    "editable": true,
    "slideshow": {
     "slide_type": ""
    },
    "tags": [
     "hide-input"
    ]
   },
   "outputs": [
    {
     "name": "stdout",
     "output_type": "stream",
     "text": [
      "Book input tokens -> 105909\n"
     ]
    }
   ],
   "source": [
    "# Load the encoder for the OpenAI text-embedding-ada-002 model\n",
    "enc = tiktoken.encoding_for_model(\"gpt-3.5-turbo\")\n",
    "\n",
    "# Encode each text in documents and calculate the total tokens\n",
    "book_tokens = len(enc.encode(file_text))\n",
    "print(f\"Book input tokens -> {book_tokens}\")"
   ]
  },
  {
   "cell_type": "markdown",
   "id": "8f903359-454f-42e7-a9cc-4c899f379357",
   "metadata": {},
   "source": [
    "So at least twice as many tokens will be consumed since the result of the translation also needs to be taken into account.\n",
    "\n",
    "Let's proceed with the translation using OpenAI's GPT:"
   ]
  },
  {
   "cell_type": "code",
   "execution_count": 21,
   "id": "6e479dc3-60d7-4c13-afb4-417bbfb78341",
   "metadata": {
    "editable": true,
    "slideshow": {
     "slide_type": ""
    },
    "tags": [
     "hide-input"
    ]
   },
   "outputs": [
    {
     "name": "stdout",
     "output_type": "stream",
     "text": [
      "...\n",
      "Completed: 1290 / 1290\n",
      "\n",
      "Execution time: 2008 s\n",
      "\n",
      "Total tokens: 262180\n",
      "\n",
      "Cost GPT: 0.43 $\n"
     ]
    }
   ],
   "source": [
    "st = time.time()\n",
    "trans = \"\"\n",
    "doc = \"\"\n",
    "counter = 0\n",
    "tokens_in_consumed = 0\n",
    "tokens_out_consumed = 0\n",
    "for text in split_text:\n",
    "    if not text.strip():\n",
    "        trans = \"\"\n",
    "    else:\n",
    "        trans, tokens_in, tokens_out = translate_gpt(gptranslator, text)\n",
    "        tokens_in_consumed += tokens_in\n",
    "        tokens_out_consumed += tokens_out\n",
    "\n",
    "    counter += 1\n",
    "    clear_output()\n",
    "    print(f\"...\\nCompleted: {counter} / {n_chunks}\")\n",
    "    doc += trans + \"\\n\"\n",
    "\n",
    "# Get elapsed time\n",
    "et = time.time()\n",
    "elapsed_time_gpt = et - st\n",
    "\n",
    "# Get tokens and cost\n",
    "total_tokens = tokens_in_consumed + tokens_out_consumed\n",
    "cost_gpt = cost_gpt(tokens_in_consumed, tokens_out_consumed)\n",
    "\n",
    "print(f\"\\nExecution time: {elapsed_time_gpt:.0f} s\")\n",
    "print(f\"\\nTotal tokens: {total_tokens}\")\n",
    "print(f\"\\nCost GPT: {cost_gpt:.2f} $\")"
   ]
  },
  {
   "cell_type": "markdown",
   "id": "6fe0c3ff-4d57-4fb3-ba8c-aaf96d43893c",
   "metadata": {},
   "source": [
    "I save the translation in a new file named _dcts_en_gpt.txt_."
   ]
  },
  {
   "cell_type": "code",
   "execution_count": 23,
   "id": "3274a9ae-42ff-466d-bbc9-8ab03b1f3731",
   "metadata": {
    "editable": true,
    "slideshow": {
     "slide_type": ""
    },
    "tags": [
     "hide-input"
    ]
   },
   "outputs": [],
   "source": [
    "with open(\"data/dcts_en_gpt.txt\", \"w\", encoding=\"utf-8\") as file:\n",
    "    file.write(doc)"
   ]
  },
  {
   "cell_type": "markdown",
   "id": "be21f57b-74ac-4790-9e1d-439d3273d3ec",
   "metadata": {},
   "source": [
    "### Google Translate\n",
    "Let's proceed with the translation using Google Translate:"
   ]
  },
  {
   "cell_type": "code",
   "execution_count": 24,
   "id": "400d29ec-9322-4ce4-8309-33434e2c0ebb",
   "metadata": {
    "editable": true,
    "slideshow": {
     "slide_type": ""
    },
    "tags": [
     "hide-input"
    ]
   },
   "outputs": [
    {
     "name": "stdout",
     "output_type": "stream",
     "text": [
      "...\n",
      "Completed: 1290 / 1290\n",
      "\n",
      "Execution time: 2650 s\n"
     ]
    }
   ],
   "source": [
    "st = time.time()\n",
    "trans = \"\"\n",
    "doc = \"\"\n",
    "counter = 0\n",
    "for text in split_text:\n",
    "    if not text.strip():\n",
    "        trans = \"\"\n",
    "    else:\n",
    "        trans = translate_google(googletranslator, text)\n",
    "\n",
    "    counter += 1\n",
    "    clear_output()\n",
    "    print(f\"...\\nCompleted: {counter} / {n_chunks}\")\n",
    "    doc += trans + \"\\n\"\n",
    "\n",
    "# Get elapsed time\n",
    "et = time.time()\n",
    "elapsed_time_goo = et - st\n",
    "\n",
    "print(f\"\\nExecution time: {elapsed_time_goo:.0f} s\")"
   ]
  },
  {
   "cell_type": "markdown",
   "id": "36d52db6-47d3-480f-8362-d220634b0c7f",
   "metadata": {},
   "source": [
    "I save the translation in a new file named _dcts_en_goo.txt_."
   ]
  },
  {
   "cell_type": "code",
   "execution_count": 25,
   "id": "460c9637-7ccc-4c41-8777-3562b8a78dbe",
   "metadata": {
    "editable": true,
    "slideshow": {
     "slide_type": ""
    },
    "tags": [
     "hide-input"
    ]
   },
   "outputs": [],
   "source": [
    "with open(\"data/dcts_en_goo.txt\", \"w\", encoding=\"utf-8\") as file:\n",
    "    file.write(doc)"
   ]
  },
  {
   "cell_type": "markdown",
   "id": "96877749-7080-4e8f-99d5-bc5d1460e748",
   "metadata": {},
   "source": [
    "### Helsinki-NLP\n",
    "Let's proceed with the translation using the open-source model by Helsinki-NLP:"
   ]
  },
  {
   "cell_type": "code",
   "execution_count": 26,
   "id": "a8f41c1a-b36b-41ef-8c72-09fbaddf1d96",
   "metadata": {
    "editable": true,
    "slideshow": {
     "slide_type": ""
    },
    "tags": [
     "hide-input"
    ]
   },
   "outputs": [
    {
     "name": "stdout",
     "output_type": "stream",
     "text": [
      "...\n",
      "Completed: 1290 / 1290\n",
      "\n",
      "Execution time: 3747 s\n"
     ]
    }
   ],
   "source": [
    "st = time.time()\n",
    "trans = \"\"\n",
    "doc = \"\"\n",
    "counter = 0\n",
    "for text in split_text:\n",
    "    if not text.strip():\n",
    "        trans = \"\"\n",
    "    else:\n",
    "        trans = translate_helsinki(helsinkitranslator, text)\n",
    "\n",
    "    counter += 1\n",
    "    clear_output()\n",
    "    print(f\"...\\nCompleted: {counter} / {n_chunks}\")\n",
    "    doc += trans + \"\\n\"\n",
    "\n",
    "# Get elapsed time\n",
    "et = time.time()\n",
    "elapsed_time_hel = et - st\n",
    "\n",
    "print(f\"\\nExecution time: {elapsed_time_hel:.0f} s\")"
   ]
  },
  {
   "cell_type": "markdown",
   "id": "a49bb003-ee15-414b-975c-b5e222bae816",
   "metadata": {},
   "source": [
    "I save the translation in a new file named _dcts_en_hel.txt_."
   ]
  },
  {
   "cell_type": "code",
   "execution_count": 27,
   "id": "14985b83-3941-446b-a7bd-8886b91583d2",
   "metadata": {
    "editable": true,
    "slideshow": {
     "slide_type": ""
    },
    "tags": [
     "hide-input"
    ]
   },
   "outputs": [],
   "source": [
    "with open(\"data/dcts_en_hel.txt\", \"w\", encoding=\"utf-8\") as file:\n",
    "    file.write(doc)"
   ]
  },
  {
   "cell_type": "markdown",
   "id": "0cfb5703-5fd4-4404-b40b-4a0a8e2e24ca",
   "metadata": {},
   "source": [
    "## Conclusions\n",
    "I gather the results into a table to compare them."
   ]
  },
  {
   "cell_type": "code",
   "execution_count": 71,
   "id": "50a286bb-f784-4c01-8553-7085b95aad9d",
   "metadata": {
    "editable": true,
    "slideshow": {
     "slide_type": ""
    },
    "tags": [
     "hide-input"
    ]
   },
   "outputs": [
    {
     "data": {
      "text/html": [
       "<div>\n",
       "<style scoped>\n",
       "    .dataframe tbody tr th:only-of-type {\n",
       "        vertical-align: middle;\n",
       "    }\n",
       "\n",
       "    .dataframe tbody tr th {\n",
       "        vertical-align: top;\n",
       "    }\n",
       "\n",
       "    .dataframe thead th {\n",
       "        text-align: right;\n",
       "    }\n",
       "</style>\n",
       "<table border=\"1\" class=\"dataframe\">\n",
       "  <thead>\n",
       "    <tr style=\"text-align: right;\">\n",
       "      <th></th>\n",
       "      <th>Google Translate</th>\n",
       "      <th>Helsinki-NLP</th>\n",
       "      <th>OpenAI GPT</th>\n",
       "    </tr>\n",
       "  </thead>\n",
       "  <tbody>\n",
       "    <tr>\n",
       "      <th>Score</th>\n",
       "      <td>53.8</td>\n",
       "      <td>48.4</td>\n",
       "      <td>53.4</td>\n",
       "    </tr>\n",
       "    <tr>\n",
       "      <th>Time</th>\n",
       "      <td>00:44:10</td>\n",
       "      <td>01:02:27</td>\n",
       "      <td>00:33:27</td>\n",
       "    </tr>\n",
       "    <tr>\n",
       "      <th>Cost ($)</th>\n",
       "      <td>0.0</td>\n",
       "      <td>0.0</td>\n",
       "      <td>0.43</td>\n",
       "    </tr>\n",
       "  </tbody>\n",
       "</table>\n",
       "</div>"
      ],
      "text/plain": [
       "         Google Translate Helsinki-NLP OpenAI GPT\n",
       "Score                53.8         48.4       53.4\n",
       "Time             00:44:10     01:02:27   00:33:27\n",
       "Cost ($)              0.0          0.0       0.43"
      ]
     },
     "execution_count": 71,
     "metadata": {},
     "output_type": "execute_result"
    }
   ],
   "source": [
    "pd.DataFrame(\n",
    "    {\n",
    "        \"Score\": [goo_scores_mean, hel_scores_mean, gpt_scores_mean],\n",
    "        \"Time\": [\n",
    "            time.strftime(\"%H:%M:%S\", time.gmtime(elapsed_time_goo)),\n",
    "            time.strftime(\"%H:%M:%S\", time.gmtime(elapsed_time_hel)),\n",
    "            time.strftime(\"%H:%M:%S\", time.gmtime(elapsed_time_gpt)),\n",
    "        ],\n",
    "        \"Cost ($)\": [0, 0, cost_gpt],\n",
    "    },\n",
    "    index=[\"Google Translate\", \"Helsinki-NLP\", \"OpenAI GPT\"],\n",
    ").round({\"Score\": 1, \"Cost ($)\": 2}).transpose()"
   ]
  },
  {
   "cell_type": "markdown",
   "id": "a8a33383-b948-488e-af30-60c1a59227ba",
   "metadata": {},
   "source": [
    "Regarding the quality of the translations, I would need to look into it more closely, although a quick glance indicates that both Google and GPT indeed seem to perform slightly better than Helsinki. However, the files containing these translations are available on GitHub for anyone to judge.\n",
    "\n",
    "I was surprised that GPT was the fastest in translating the book, in just over half an hour. And that it took Helsinki an hour, running it on my own computer. However, I suspect that these times will vary depending on the time of the day the OpenAI and Google API services are queried, as well as the processing power of each PC for the case of open-source models run locally.\n",
    "\n",
    "As for the cost, Google and Helsinki are free, while the translation by OpenAI using _GPT 3.5 Turbo_ cost me 0.43 dollars, 0.39 euros at today's exchange rate, which can be considered reasonable."
   ]
  }
 ],
 "metadata": {
  "kernelspec": {
   "display_name": "my-venv-01",
   "language": "python",
   "name": "my-venv-01"
  },
  "language_info": {
   "codemirror_mode": {
    "name": "ipython",
    "version": 3
   },
   "file_extension": ".py",
   "mimetype": "text/x-python",
   "name": "python",
   "nbconvert_exporter": "python",
   "pygments_lexer": "ipython3",
   "version": "3.12.0"
  }
 },
 "nbformat": 4,
 "nbformat_minor": 5
}
