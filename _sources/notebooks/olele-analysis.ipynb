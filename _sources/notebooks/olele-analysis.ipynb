{
 "cells": [
  {
   "cell_type": "markdown",
   "id": "42216b94-20a7-4c86-84d0-3b4ffde6c137",
   "metadata": {
    "tags": []
   },
   "source": [
    "# Olele - Review Analysis\n",
    "https://www.etsy.com/shop/Olele"
   ]
  },
  {
   "cell_type": "markdown",
   "id": "e2d196e4-4f4f-483e-b18d-ead2f5932dcd",
   "metadata": {},
   "source": [
    "## Import the data"
   ]
  },
  {
   "cell_type": "code",
   "execution_count": 2,
   "id": "7cebec22-7d1f-4993-aa4b-bf59e86e14c0",
   "metadata": {},
   "outputs": [],
   "source": [
    "# Import packages\n",
    "import pandas as pd\n",
    "import matplotlib.pyplot as plt\n",
    "import seaborn as sns"
   ]
  },
  {
   "cell_type": "code",
   "execution_count": 3,
   "id": "9d5fae8e-4515-420c-a715-c7ab1e2cd356",
   "metadata": {},
   "outputs": [
    {
     "data": {
      "text/html": [
       "<div>\n",
       "<style scoped>\n",
       "    .dataframe tbody tr th:only-of-type {\n",
       "        vertical-align: middle;\n",
       "    }\n",
       "\n",
       "    .dataframe tbody tr th {\n",
       "        vertical-align: top;\n",
       "    }\n",
       "\n",
       "    .dataframe thead th {\n",
       "        text-align: right;\n",
       "    }\n",
       "</style>\n",
       "<table border=\"1\" class=\"dataframe\">\n",
       "  <thead>\n",
       "    <tr style=\"text-align: right;\">\n",
       "      <th></th>\n",
       "      <th>name_date</th>\n",
       "      <th>text</th>\n",
       "    </tr>\n",
       "  </thead>\n",
       "  <tbody>\n",
       "    <tr>\n",
       "      <th>0</th>\n",
       "      <td>Carolinaon Nov 1, 2022</td>\n",
       "      <td>As usual the quality is sturdy yet elegant and...</td>\n",
       "    </tr>\n",
       "    <tr>\n",
       "      <th>1</th>\n",
       "      <td>Amy Annetteon Sep 3, 2022</td>\n",
       "      <td>I bought this fan to bring to tango and swing ...</td>\n",
       "    </tr>\n",
       "    <tr>\n",
       "      <th>2</th>\n",
       "      <td>Maryon Aug 31, 2022</td>\n",
       "      <td>LOVELY!  I think this is my 4th fan? Complimen...</td>\n",
       "    </tr>\n",
       "    <tr>\n",
       "      <th>3</th>\n",
       "      <td>Eni Aon Aug 31, 2022</td>\n",
       "      <td>Very beautiful fan, great quality and the colo...</td>\n",
       "    </tr>\n",
       "    <tr>\n",
       "      <th>4</th>\n",
       "      <td>hredmondson Jun 11, 2022</td>\n",
       "      <td>This is the second fan I've bought for myself ...</td>\n",
       "    </tr>\n",
       "    <tr>\n",
       "      <th>...</th>\n",
       "      <td>...</td>\n",
       "      <td>...</td>\n",
       "    </tr>\n",
       "    <tr>\n",
       "      <th>321</th>\n",
       "      <td>Anonymous on Jun 18, 2010</td>\n",
       "      <td>Gorgeous! Love it! Just in time for the summer...</td>\n",
       "    </tr>\n",
       "    <tr>\n",
       "      <th>322</th>\n",
       "      <td>Anonymous on Jun 15, 2010</td>\n",
       "      <td>Really nice communication with Karmele Luqui. ...</td>\n",
       "    </tr>\n",
       "    <tr>\n",
       "      <th>323</th>\n",
       "      <td>Anonymous on Jun 12, 2010</td>\n",
       "      <td>A huge WOW when I just got them! The fans are ...</td>\n",
       "    </tr>\n",
       "    <tr>\n",
       "      <th>324</th>\n",
       "      <td>Anonymous on Jun 12, 2010</td>\n",
       "      <td>A huge WOW when I just got them! The fans are ...</td>\n",
       "    </tr>\n",
       "    <tr>\n",
       "      <th>325</th>\n",
       "      <td>Anonymous on Jun 10, 2010</td>\n",
       "      <td>Just received this yesterday, and I am in love...</td>\n",
       "    </tr>\n",
       "  </tbody>\n",
       "</table>\n",
       "<p>326 rows × 2 columns</p>\n",
       "</div>"
      ],
      "text/plain": [
       "                     name_date  \\\n",
       "0       Carolinaon Nov 1, 2022   \n",
       "1    Amy Annetteon Sep 3, 2022   \n",
       "2          Maryon Aug 31, 2022   \n",
       "3         Eni Aon Aug 31, 2022   \n",
       "4     hredmondson Jun 11, 2022   \n",
       "..                         ...   \n",
       "321  Anonymous on Jun 18, 2010   \n",
       "322  Anonymous on Jun 15, 2010   \n",
       "323  Anonymous on Jun 12, 2010   \n",
       "324  Anonymous on Jun 12, 2010   \n",
       "325  Anonymous on Jun 10, 2010   \n",
       "\n",
       "                                                  text  \n",
       "0    As usual the quality is sturdy yet elegant and...  \n",
       "1    I bought this fan to bring to tango and swing ...  \n",
       "2    LOVELY!  I think this is my 4th fan? Complimen...  \n",
       "3    Very beautiful fan, great quality and the colo...  \n",
       "4    This is the second fan I've bought for myself ...  \n",
       "..                                                 ...  \n",
       "321  Gorgeous! Love it! Just in time for the summer...  \n",
       "322  Really nice communication with Karmele Luqui. ...  \n",
       "323  A huge WOW when I just got them! The fans are ...  \n",
       "324  A huge WOW when I just got them! The fans are ...  \n",
       "325  Just received this yesterday, and I am in love...  \n",
       "\n",
       "[326 rows x 2 columns]"
      ]
     },
     "execution_count": 3,
     "metadata": {},
     "output_type": "execute_result"
    }
   ],
   "source": [
    "olele = pd.read_csv(\"olele-reviews-all.csv\", usecols=[\"name_date\", \"text\"])\n",
    "olele"
   ]
  },
  {
   "cell_type": "markdown",
   "id": "1efdb7fe-8156-4b56-ab0e-989653d0a0a2",
   "metadata": {},
   "source": [
    "## Data processing"
   ]
  },
  {
   "cell_type": "code",
   "execution_count": 4,
   "id": "abdb05d2-0db0-4529-9d4c-d5bbb5b67b3e",
   "metadata": {},
   "outputs": [
    {
     "data": {
      "text/html": [
       "<div>\n",
       "<style scoped>\n",
       "    .dataframe tbody tr th:only-of-type {\n",
       "        vertical-align: middle;\n",
       "    }\n",
       "\n",
       "    .dataframe tbody tr th {\n",
       "        vertical-align: top;\n",
       "    }\n",
       "\n",
       "    .dataframe thead th {\n",
       "        text-align: right;\n",
       "    }\n",
       "</style>\n",
       "<table border=\"1\" class=\"dataframe\">\n",
       "  <thead>\n",
       "    <tr style=\"text-align: right;\">\n",
       "      <th></th>\n",
       "      <th>name_date</th>\n",
       "      <th>text</th>\n",
       "      <th>name</th>\n",
       "      <th>date</th>\n",
       "    </tr>\n",
       "  </thead>\n",
       "  <tbody>\n",
       "    <tr>\n",
       "      <th>0</th>\n",
       "      <td>Carolinaon Nov 1, 2022</td>\n",
       "      <td>As usual the quality is sturdy yet elegant and...</td>\n",
       "      <td>Carolina</td>\n",
       "      <td>Nov 1, 2022</td>\n",
       "    </tr>\n",
       "    <tr>\n",
       "      <th>1</th>\n",
       "      <td>Amy Annetteon Sep 3, 2022</td>\n",
       "      <td>I bought this fan to bring to tango and swing ...</td>\n",
       "      <td>Amy Annette</td>\n",
       "      <td>Sep 3, 2022</td>\n",
       "    </tr>\n",
       "    <tr>\n",
       "      <th>2</th>\n",
       "      <td>Maryon Aug 31, 2022</td>\n",
       "      <td>LOVELY!  I think this is my 4th fan? Complimen...</td>\n",
       "      <td>Mary</td>\n",
       "      <td>Aug 31, 2022</td>\n",
       "    </tr>\n",
       "    <tr>\n",
       "      <th>3</th>\n",
       "      <td>Eni Aon Aug 31, 2022</td>\n",
       "      <td>Very beautiful fan, great quality and the colo...</td>\n",
       "      <td>Eni A</td>\n",
       "      <td>Aug 31, 2022</td>\n",
       "    </tr>\n",
       "    <tr>\n",
       "      <th>4</th>\n",
       "      <td>hredmondson Jun 11, 2022</td>\n",
       "      <td>This is the second fan I've bought for myself ...</td>\n",
       "      <td>hredmonds</td>\n",
       "      <td>Jun 11, 2022</td>\n",
       "    </tr>\n",
       "    <tr>\n",
       "      <th>...</th>\n",
       "      <td>...</td>\n",
       "      <td>...</td>\n",
       "      <td>...</td>\n",
       "      <td>...</td>\n",
       "    </tr>\n",
       "    <tr>\n",
       "      <th>321</th>\n",
       "      <td>Anonymous on Jun 18, 2010</td>\n",
       "      <td>Gorgeous! Love it! Just in time for the summer...</td>\n",
       "      <td>Anonymous</td>\n",
       "      <td>Jun 18, 2010</td>\n",
       "    </tr>\n",
       "    <tr>\n",
       "      <th>322</th>\n",
       "      <td>Anonymous on Jun 15, 2010</td>\n",
       "      <td>Really nice communication with Karmele Luqui. ...</td>\n",
       "      <td>Anonymous</td>\n",
       "      <td>Jun 15, 2010</td>\n",
       "    </tr>\n",
       "    <tr>\n",
       "      <th>323</th>\n",
       "      <td>Anonymous on Jun 12, 2010</td>\n",
       "      <td>A huge WOW when I just got them! The fans are ...</td>\n",
       "      <td>Anonymous</td>\n",
       "      <td>Jun 12, 2010</td>\n",
       "    </tr>\n",
       "    <tr>\n",
       "      <th>324</th>\n",
       "      <td>Anonymous on Jun 12, 2010</td>\n",
       "      <td>A huge WOW when I just got them! The fans are ...</td>\n",
       "      <td>Anonymous</td>\n",
       "      <td>Jun 12, 2010</td>\n",
       "    </tr>\n",
       "    <tr>\n",
       "      <th>325</th>\n",
       "      <td>Anonymous on Jun 10, 2010</td>\n",
       "      <td>Just received this yesterday, and I am in love...</td>\n",
       "      <td>Anonymous</td>\n",
       "      <td>Jun 10, 2010</td>\n",
       "    </tr>\n",
       "  </tbody>\n",
       "</table>\n",
       "<p>326 rows × 4 columns</p>\n",
       "</div>"
      ],
      "text/plain": [
       "                     name_date  \\\n",
       "0       Carolinaon Nov 1, 2022   \n",
       "1    Amy Annetteon Sep 3, 2022   \n",
       "2          Maryon Aug 31, 2022   \n",
       "3         Eni Aon Aug 31, 2022   \n",
       "4     hredmondson Jun 11, 2022   \n",
       "..                         ...   \n",
       "321  Anonymous on Jun 18, 2010   \n",
       "322  Anonymous on Jun 15, 2010   \n",
       "323  Anonymous on Jun 12, 2010   \n",
       "324  Anonymous on Jun 12, 2010   \n",
       "325  Anonymous on Jun 10, 2010   \n",
       "\n",
       "                                                  text         name  \\\n",
       "0    As usual the quality is sturdy yet elegant and...     Carolina   \n",
       "1    I bought this fan to bring to tango and swing ...  Amy Annette   \n",
       "2    LOVELY!  I think this is my 4th fan? Complimen...         Mary   \n",
       "3    Very beautiful fan, great quality and the colo...        Eni A   \n",
       "4    This is the second fan I've bought for myself ...    hredmonds   \n",
       "..                                                 ...          ...   \n",
       "321  Gorgeous! Love it! Just in time for the summer...   Anonymous    \n",
       "322  Really nice communication with Karmele Luqui. ...   Anonymous    \n",
       "323  A huge WOW when I just got them! The fans are ...   Anonymous    \n",
       "324  A huge WOW when I just got them! The fans are ...   Anonymous    \n",
       "325  Just received this yesterday, and I am in love...   Anonymous    \n",
       "\n",
       "             date  \n",
       "0     Nov 1, 2022  \n",
       "1     Sep 3, 2022  \n",
       "2    Aug 31, 2022  \n",
       "3    Aug 31, 2022  \n",
       "4    Jun 11, 2022  \n",
       "..            ...  \n",
       "321  Jun 18, 2010  \n",
       "322  Jun 15, 2010  \n",
       "323  Jun 12, 2010  \n",
       "324  Jun 12, 2010  \n",
       "325  Jun 10, 2010  \n",
       "\n",
       "[326 rows x 4 columns]"
      ]
     },
     "execution_count": 4,
     "metadata": {},
     "output_type": "execute_result"
    }
   ],
   "source": [
    "# Split name and date\n",
    "olele[[\"name\", \"date\"]] = olele[\"name_date\"].str.split(pat=\"on \", expand=True)\n",
    "olele"
   ]
  },
  {
   "cell_type": "code",
   "execution_count": 5,
   "id": "3e5dcaa1-edf7-4f45-a89d-4024fa67598b",
   "metadata": {},
   "outputs": [
    {
     "data": {
      "text/html": [
       "<div>\n",
       "<style scoped>\n",
       "    .dataframe tbody tr th:only-of-type {\n",
       "        vertical-align: middle;\n",
       "    }\n",
       "\n",
       "    .dataframe tbody tr th {\n",
       "        vertical-align: top;\n",
       "    }\n",
       "\n",
       "    .dataframe thead th {\n",
       "        text-align: right;\n",
       "    }\n",
       "</style>\n",
       "<table border=\"1\" class=\"dataframe\">\n",
       "  <thead>\n",
       "    <tr style=\"text-align: right;\">\n",
       "      <th></th>\n",
       "      <th>name_date</th>\n",
       "      <th>text</th>\n",
       "      <th>name</th>\n",
       "      <th>date</th>\n",
       "      <th>datetime</th>\n",
       "    </tr>\n",
       "  </thead>\n",
       "  <tbody>\n",
       "    <tr>\n",
       "      <th>0</th>\n",
       "      <td>Carolinaon Nov 1, 2022</td>\n",
       "      <td>As usual the quality is sturdy yet elegant and...</td>\n",
       "      <td>Carolina</td>\n",
       "      <td>Nov 1, 2022</td>\n",
       "      <td>2022-11-01</td>\n",
       "    </tr>\n",
       "    <tr>\n",
       "      <th>1</th>\n",
       "      <td>Amy Annetteon Sep 3, 2022</td>\n",
       "      <td>I bought this fan to bring to tango and swing ...</td>\n",
       "      <td>Amy Annette</td>\n",
       "      <td>Sep 3, 2022</td>\n",
       "      <td>2022-09-03</td>\n",
       "    </tr>\n",
       "    <tr>\n",
       "      <th>2</th>\n",
       "      <td>Maryon Aug 31, 2022</td>\n",
       "      <td>LOVELY!  I think this is my 4th fan? Complimen...</td>\n",
       "      <td>Mary</td>\n",
       "      <td>Aug 31, 2022</td>\n",
       "      <td>2022-08-31</td>\n",
       "    </tr>\n",
       "    <tr>\n",
       "      <th>3</th>\n",
       "      <td>Eni Aon Aug 31, 2022</td>\n",
       "      <td>Very beautiful fan, great quality and the colo...</td>\n",
       "      <td>Eni A</td>\n",
       "      <td>Aug 31, 2022</td>\n",
       "      <td>2022-08-31</td>\n",
       "    </tr>\n",
       "    <tr>\n",
       "      <th>4</th>\n",
       "      <td>hredmondson Jun 11, 2022</td>\n",
       "      <td>This is the second fan I've bought for myself ...</td>\n",
       "      <td>hredmonds</td>\n",
       "      <td>Jun 11, 2022</td>\n",
       "      <td>2022-06-11</td>\n",
       "    </tr>\n",
       "    <tr>\n",
       "      <th>...</th>\n",
       "      <td>...</td>\n",
       "      <td>...</td>\n",
       "      <td>...</td>\n",
       "      <td>...</td>\n",
       "      <td>...</td>\n",
       "    </tr>\n",
       "    <tr>\n",
       "      <th>321</th>\n",
       "      <td>Anonymous on Jun 18, 2010</td>\n",
       "      <td>Gorgeous! Love it! Just in time for the summer...</td>\n",
       "      <td>Anonymous</td>\n",
       "      <td>Jun 18, 2010</td>\n",
       "      <td>2010-06-18</td>\n",
       "    </tr>\n",
       "    <tr>\n",
       "      <th>322</th>\n",
       "      <td>Anonymous on Jun 15, 2010</td>\n",
       "      <td>Really nice communication with Karmele Luqui. ...</td>\n",
       "      <td>Anonymous</td>\n",
       "      <td>Jun 15, 2010</td>\n",
       "      <td>2010-06-15</td>\n",
       "    </tr>\n",
       "    <tr>\n",
       "      <th>323</th>\n",
       "      <td>Anonymous on Jun 12, 2010</td>\n",
       "      <td>A huge WOW when I just got them! The fans are ...</td>\n",
       "      <td>Anonymous</td>\n",
       "      <td>Jun 12, 2010</td>\n",
       "      <td>2010-06-12</td>\n",
       "    </tr>\n",
       "    <tr>\n",
       "      <th>324</th>\n",
       "      <td>Anonymous on Jun 12, 2010</td>\n",
       "      <td>A huge WOW when I just got them! The fans are ...</td>\n",
       "      <td>Anonymous</td>\n",
       "      <td>Jun 12, 2010</td>\n",
       "      <td>2010-06-12</td>\n",
       "    </tr>\n",
       "    <tr>\n",
       "      <th>325</th>\n",
       "      <td>Anonymous on Jun 10, 2010</td>\n",
       "      <td>Just received this yesterday, and I am in love...</td>\n",
       "      <td>Anonymous</td>\n",
       "      <td>Jun 10, 2010</td>\n",
       "      <td>2010-06-10</td>\n",
       "    </tr>\n",
       "  </tbody>\n",
       "</table>\n",
       "<p>326 rows × 5 columns</p>\n",
       "</div>"
      ],
      "text/plain": [
       "                     name_date  \\\n",
       "0       Carolinaon Nov 1, 2022   \n",
       "1    Amy Annetteon Sep 3, 2022   \n",
       "2          Maryon Aug 31, 2022   \n",
       "3         Eni Aon Aug 31, 2022   \n",
       "4     hredmondson Jun 11, 2022   \n",
       "..                         ...   \n",
       "321  Anonymous on Jun 18, 2010   \n",
       "322  Anonymous on Jun 15, 2010   \n",
       "323  Anonymous on Jun 12, 2010   \n",
       "324  Anonymous on Jun 12, 2010   \n",
       "325  Anonymous on Jun 10, 2010   \n",
       "\n",
       "                                                  text         name  \\\n",
       "0    As usual the quality is sturdy yet elegant and...     Carolina   \n",
       "1    I bought this fan to bring to tango and swing ...  Amy Annette   \n",
       "2    LOVELY!  I think this is my 4th fan? Complimen...         Mary   \n",
       "3    Very beautiful fan, great quality and the colo...        Eni A   \n",
       "4    This is the second fan I've bought for myself ...    hredmonds   \n",
       "..                                                 ...          ...   \n",
       "321  Gorgeous! Love it! Just in time for the summer...   Anonymous    \n",
       "322  Really nice communication with Karmele Luqui. ...   Anonymous    \n",
       "323  A huge WOW when I just got them! The fans are ...   Anonymous    \n",
       "324  A huge WOW when I just got them! The fans are ...   Anonymous    \n",
       "325  Just received this yesterday, and I am in love...   Anonymous    \n",
       "\n",
       "             date   datetime  \n",
       "0     Nov 1, 2022 2022-11-01  \n",
       "1     Sep 3, 2022 2022-09-03  \n",
       "2    Aug 31, 2022 2022-08-31  \n",
       "3    Aug 31, 2022 2022-08-31  \n",
       "4    Jun 11, 2022 2022-06-11  \n",
       "..            ...        ...  \n",
       "321  Jun 18, 2010 2010-06-18  \n",
       "322  Jun 15, 2010 2010-06-15  \n",
       "323  Jun 12, 2010 2010-06-12  \n",
       "324  Jun 12, 2010 2010-06-12  \n",
       "325  Jun 10, 2010 2010-06-10  \n",
       "\n",
       "[326 rows x 5 columns]"
      ]
     },
     "execution_count": 5,
     "metadata": {},
     "output_type": "execute_result"
    }
   ],
   "source": [
    "# Convert date to datetime type\n",
    "olele[\"datetime\"] = pd.to_datetime(olele[\"date\"])\n",
    "olele"
   ]
  },
  {
   "cell_type": "code",
   "execution_count": 6,
   "id": "0f541de2-94ff-4697-be5b-352a6f0b4de1",
   "metadata": {},
   "outputs": [
    {
     "data": {
      "text/html": [
       "<div>\n",
       "<style scoped>\n",
       "    .dataframe tbody tr th:only-of-type {\n",
       "        vertical-align: middle;\n",
       "    }\n",
       "\n",
       "    .dataframe tbody tr th {\n",
       "        vertical-align: top;\n",
       "    }\n",
       "\n",
       "    .dataframe thead th {\n",
       "        text-align: right;\n",
       "    }\n",
       "</style>\n",
       "<table border=\"1\" class=\"dataframe\">\n",
       "  <thead>\n",
       "    <tr style=\"text-align: right;\">\n",
       "      <th></th>\n",
       "      <th>name</th>\n",
       "      <th>text</th>\n",
       "    </tr>\n",
       "    <tr>\n",
       "      <th>date</th>\n",
       "      <th></th>\n",
       "      <th></th>\n",
       "    </tr>\n",
       "  </thead>\n",
       "  <tbody>\n",
       "    <tr>\n",
       "      <th>2022-11-01</th>\n",
       "      <td>Carolina</td>\n",
       "      <td>As usual the quality is sturdy yet elegant and...</td>\n",
       "    </tr>\n",
       "    <tr>\n",
       "      <th>2022-09-03</th>\n",
       "      <td>Amy Annette</td>\n",
       "      <td>I bought this fan to bring to tango and swing ...</td>\n",
       "    </tr>\n",
       "    <tr>\n",
       "      <th>2022-08-31</th>\n",
       "      <td>Mary</td>\n",
       "      <td>LOVELY!  I think this is my 4th fan? Complimen...</td>\n",
       "    </tr>\n",
       "    <tr>\n",
       "      <th>2022-08-31</th>\n",
       "      <td>Eni A</td>\n",
       "      <td>Very beautiful fan, great quality and the colo...</td>\n",
       "    </tr>\n",
       "    <tr>\n",
       "      <th>2022-06-11</th>\n",
       "      <td>hredmonds</td>\n",
       "      <td>This is the second fan I've bought for myself ...</td>\n",
       "    </tr>\n",
       "    <tr>\n",
       "      <th>...</th>\n",
       "      <td>...</td>\n",
       "      <td>...</td>\n",
       "    </tr>\n",
       "    <tr>\n",
       "      <th>2010-06-18</th>\n",
       "      <td>Anonymous</td>\n",
       "      <td>Gorgeous! Love it! Just in time for the summer...</td>\n",
       "    </tr>\n",
       "    <tr>\n",
       "      <th>2010-06-15</th>\n",
       "      <td>Anonymous</td>\n",
       "      <td>Really nice communication with Karmele Luqui. ...</td>\n",
       "    </tr>\n",
       "    <tr>\n",
       "      <th>2010-06-12</th>\n",
       "      <td>Anonymous</td>\n",
       "      <td>A huge WOW when I just got them! The fans are ...</td>\n",
       "    </tr>\n",
       "    <tr>\n",
       "      <th>2010-06-12</th>\n",
       "      <td>Anonymous</td>\n",
       "      <td>A huge WOW when I just got them! The fans are ...</td>\n",
       "    </tr>\n",
       "    <tr>\n",
       "      <th>2010-06-10</th>\n",
       "      <td>Anonymous</td>\n",
       "      <td>Just received this yesterday, and I am in love...</td>\n",
       "    </tr>\n",
       "  </tbody>\n",
       "</table>\n",
       "<p>326 rows × 2 columns</p>\n",
       "</div>"
      ],
      "text/plain": [
       "                   name                                               text\n",
       "date                                                                      \n",
       "2022-11-01     Carolina  As usual the quality is sturdy yet elegant and...\n",
       "2022-09-03  Amy Annette  I bought this fan to bring to tango and swing ...\n",
       "2022-08-31         Mary  LOVELY!  I think this is my 4th fan? Complimen...\n",
       "2022-08-31        Eni A  Very beautiful fan, great quality and the colo...\n",
       "2022-06-11    hredmonds  This is the second fan I've bought for myself ...\n",
       "...                 ...                                                ...\n",
       "2010-06-18   Anonymous   Gorgeous! Love it! Just in time for the summer...\n",
       "2010-06-15   Anonymous   Really nice communication with Karmele Luqui. ...\n",
       "2010-06-12   Anonymous   A huge WOW when I just got them! The fans are ...\n",
       "2010-06-12   Anonymous   A huge WOW when I just got them! The fans are ...\n",
       "2010-06-10   Anonymous   Just received this yesterday, and I am in love...\n",
       "\n",
       "[326 rows x 2 columns]"
      ]
     },
     "execution_count": 6,
     "metadata": {},
     "output_type": "execute_result"
    }
   ],
   "source": [
    "# Rearrange dataframe\n",
    "olele = olele.iloc[:, [4, 2, 1]]\n",
    "olele = olele.rename(columns={\"datetime\": \"date\"})\n",
    "olele = olele.set_index(\"date\")\n",
    "olele"
   ]
  },
  {
   "cell_type": "code",
   "execution_count": 7,
   "id": "12525fd2-b005-424a-a39e-756d652d0d6b",
   "metadata": {},
   "outputs": [
    {
     "name": "stdout",
     "output_type": "stream",
     "text": [
      "<class 'pandas.core.frame.DataFrame'>\n",
      "DatetimeIndex: 326 entries, 2022-11-01 to 2010-06-10\n",
      "Data columns (total 2 columns):\n",
      " #   Column  Non-Null Count  Dtype \n",
      "---  ------  --------------  ----- \n",
      " 0   name    326 non-null    object\n",
      " 1   text    290 non-null    object\n",
      "dtypes: object(2)\n",
      "memory usage: 7.6+ KB\n"
     ]
    }
   ],
   "source": [
    "olele.info()"
   ]
  },
  {
   "cell_type": "markdown",
   "id": "7e859891-dd4d-47d8-850a-6aa33b7a83cf",
   "metadata": {},
   "source": [
    "## Data analysis"
   ]
  },
  {
   "cell_type": "code",
   "execution_count": 8,
   "id": "256417d9-a528-4971-a6b5-de725da96ce7",
   "metadata": {},
   "outputs": [
    {
     "data": {
      "image/png": "[encoded data removed]",
      "text/plain": [
       "<Figure size 540x360 with 1 Axes>"
      ]
     },
     "metadata": {
      "needs_background": "light"
     },
     "output_type": "display_data"
    }
   ],
   "source": [
    "reviews_yearly = olele.groupby(olele.index.year)[\"name\"].count()\n",
    "\n",
    "# Plot\n",
    "fig, ax = plt.subplots(figsize=(7.5, 5))\n",
    "\n",
    "reviews_yearly.plot(ax=ax, kind=\"bar\")\n",
    "\n",
    "ax.grid(axis=\"y\")\n",
    "ax.set_axisbelow(True)\n",
    "ax.tick_params(axis='x', labelsize=14, rotation=45)\n",
    "ax.tick_params(axis='y', labelsize=14)\n",
    "ax.set_title(\"Reviews at www.etsy.com/shop/Olele\", size=15)\n",
    "ax.set_xlabel(\"\")\n",
    "ax.set_ylabel(\"# of reviews\", size=14)\n",
    "sns.despine()\n",
    "\n",
    "plt.show()"
   ]
  },
  {
   "cell_type": "code",
   "execution_count": 9,
   "id": "21e64f8b-11b0-44d1-97d6-7e031d136d2d",
   "metadata": {},
   "outputs": [
    {
     "data": {
      "image/png": "[encoded data removed]",
      "text/plain": [
       "<Figure size 540x360 with 1 Axes>"
      ]
     },
     "metadata": {
      "needs_background": "light"
     },
     "output_type": "display_data"
    }
   ],
   "source": [
    "# Number of years\n",
    "nbr_years = len(olele.index.year.unique())\n",
    "\n",
    "# Montly average\n",
    "reviews_monthly_avg = olele.groupby(olele.index.month)[\"name\"].count() / nbr_years\n",
    "reviews_monthly_avg\n",
    "\n",
    "# Plot\n",
    "fig, ax = plt.subplots(figsize=(7.5, 5))\n",
    "\n",
    "reviews_monthly_avg.plot(ax=ax, kind=\"bar\")\n",
    "\n",
    "months = ['January', 'February', 'March', 'April', 'May', 'June',\n",
    "          'July', 'August', 'September', 'October', 'November', 'December']\n",
    "ax.grid(axis=\"y\")\n",
    "ax.set_axisbelow(True)\n",
    "ax.tick_params(axis='x', labelsize=14, rotation=45)\n",
    "ax.set_xticklabels(months, rotation=45)\n",
    "ax.tick_params(axis='y', labelsize=14)\n",
    "ax.set_title(\"Average Reviews per Month (2010-2022)\", size=15)\n",
    "ax.set_xlabel(\"\")\n",
    "ax.set_ylabel(\"# of reviews\", size=14)\n",
    "sns.despine()\n",
    "\n",
    "plt.show()\n"
   ]
  },
  {
   "cell_type": "code",
   "execution_count": 10,
   "id": "664ace71-26ba-471e-b7a2-a14d8e77e114",
   "metadata": {},
   "outputs": [
    {
     "data": {
      "text/plain": [
       "name\n",
       "Anonymous     123\n",
       "Cynthia        12\n",
       "SamanthaMG     10\n",
       "Catherine       6\n",
       "Melissa         5\n",
       "             ... \n",
       "Hola10          1\n",
       "Heather         1\n",
       "Genevieve       1\n",
       "Gabrielle       1\n",
       "福島 圭子           1\n",
       "Length: 131, dtype: int64"
      ]
     },
     "execution_count": 10,
     "metadata": {},
     "output_type": "execute_result"
    }
   ],
   "source": [
    "# Top reviewers\n",
    "reviewers = olele.value_counts(\"name\")\n",
    "reviewers"
   ]
  },
  {
   "cell_type": "code",
   "execution_count": 11,
   "id": "0bad8e87-6b5c-4177-b4ae-6f281d1f513c",
   "metadata": {},
   "outputs": [
    {
     "data": {
      "image/png": "[encoded data removed]",
      "text/plain": [
       "<Figure size 540x360 with 1 Axes>"
      ]
     },
     "metadata": {
      "needs_background": "light"
     },
     "output_type": "display_data"
    }
   ],
   "source": [
    "# Top reviewers: 3 reviews or more\n",
    "reviewers_top = reviewers[1:13]\n",
    "\n",
    "# Plot\n",
    "fig, ax = plt.subplots(figsize=(7.5, 5))\n",
    "\n",
    "reviewers_top.sort_values().plot(ax=ax, kind=\"barh\")\n",
    "\n",
    "ax.grid(axis=\"x\")\n",
    "ax.set_axisbelow(True)\n",
    "ax.tick_params(axis='x', labelsize=12)\n",
    "ax.tick_params(axis='y', labelsize=12)\n",
    "ax.set_title(\"Top Reviewers\", size=14)\n",
    "ax.set_xlabel(\"# of reviews\", fontsize=14)\n",
    "ax.set_ylabel(\"\")\n",
    "sns.despine()\n",
    "\n",
    "plt.show()"
   ]
  },
  {
   "cell_type": "code",
   "execution_count": 40,
   "id": "28cee04e-4d89-4ce4-b6c4-c292c117e910",
   "metadata": {},
   "outputs": [
    {
     "data": {
      "text/html": [
       "<div>\n",
       "<style scoped>\n",
       "    .dataframe tbody tr th:only-of-type {\n",
       "        vertical-align: middle;\n",
       "    }\n",
       "\n",
       "    .dataframe tbody tr th {\n",
       "        vertical-align: top;\n",
       "    }\n",
       "\n",
       "    .dataframe thead th {\n",
       "        text-align: right;\n",
       "    }\n",
       "</style>\n",
       "<table border=\"1\" class=\"dataframe\">\n",
       "  <thead>\n",
       "    <tr style=\"text-align: right;\">\n",
       "      <th></th>\n",
       "      <th>name</th>\n",
       "      <th>text</th>\n",
       "    </tr>\n",
       "    <tr>\n",
       "      <th>date</th>\n",
       "      <th></th>\n",
       "      <th></th>\n",
       "    </tr>\n",
       "  </thead>\n",
       "  <tbody>\n",
       "    <tr>\n",
       "      <th>2020-03-22</th>\n",
       "      <td>Friedrich</td>\n",
       "      <td>I was looking for the perfect fan for a man li...</td>\n",
       "    </tr>\n",
       "  </tbody>\n",
       "</table>\n",
       "</div>"
      ],
      "text/plain": [
       "                 name                                               text\n",
       "date                                                                    \n",
       "2020-03-22  Friedrich  I was looking for the perfect fan for a man li..."
      ]
     },
     "execution_count": 40,
     "metadata": {},
     "output_type": "execute_result"
    }
   ],
   "source": [
    "# Longest review\n",
    "longest_review_index = olele[\"text\"].str.len().sort_values(ascending=False).index[0]\n",
    "olele[olele.index == longest_review_index]"
   ]
  },
  {
   "cell_type": "code",
   "execution_count": 48,
   "id": "dfd859af-15a4-49c9-b057-84a908520953",
   "metadata": {},
   "outputs": [
    {
     "data": {
      "text/plain": [
       "\"I was looking for the perfect fan for a man like me. Then I found Karmeles shop and this wonderfully beautiful accessory. And I was thrilled with him in a split of a second. Blue is my favorite color and the pattern immediately made me think of a night sky shining with thousands of stars. Bingo! Hit! It had to be! Karmele made the fan very clean and simply perfect. He is delivered in a very nice and fine dark blue leather pocket. So now I can keep him safely at all times. An absolutely perfect combination, in my opinion. I can't wait to use him on a sunny spring day. We had it yesterday, but with 5 degrees and cool wind... I am absolutely certain, that we will have warmer temperatures very soon. Now I wish Karmele continued success and that she and all her loved ones stay healthy. Kind regards, Friedrich\""
      ]
     },
     "execution_count": 48,
     "metadata": {},
     "output_type": "execute_result"
    }
   ],
   "source": [
    "longest_review_full_text = list(olele[olele.index == longest_review_index][\"text\"])[0]\n",
    "longest_review_full_text"
   ]
  },
  {
   "cell_type": "markdown",
   "id": "e1df7f7f-8c35-4bc3-9d3c-d513f7bc7c6b",
   "metadata": {},
   "source": [
    "## Sentiment analysis"
   ]
  },
  {
   "cell_type": "markdown",
   "id": "53c3c53f-8af0-44fa-9223-e78094c6dad3",
   "metadata": {},
   "source": [
    "### Rule/lexicon-based"
   ]
  },
  {
   "cell_type": "code",
   "execution_count": 33,
   "id": "a10cfe7d-5800-49cc-ab87-c2a014520ec3",
   "metadata": {},
   "outputs": [
    {
     "name": "stdout",
     "output_type": "stream",
     "text": [
      "Collecting textblob\n",
      "  Downloading textblob-0.17.1-py2.py3-none-any.whl (636 kB)\n",
      "Requirement already satisfied: nltk>=3.1 in c:\\users\\mikel\\anaconda3\\lib\\site-packages (from textblob) (3.7)\n",
      "Requirement already satisfied: tqdm in c:\\users\\mikel\\anaconda3\\lib\\site-packages (from nltk>=3.1->textblob) (4.64.0)\n",
      "Requirement already satisfied: regex>=2021.8.3 in c:\\users\\mikel\\anaconda3\\lib\\site-packages (from nltk>=3.1->textblob) (2022.3.15)\n",
      "Requirement already satisfied: click in c:\\users\\mikel\\anaconda3\\lib\\site-packages (from nltk>=3.1->textblob) (7.1.2)\n",
      "Requirement already satisfied: joblib in c:\\users\\mikel\\anaconda3\\lib\\site-packages (from nltk>=3.1->textblob) (1.1.0)\n",
      "Requirement already satisfied: colorama in c:\\users\\mikel\\anaconda3\\lib\\site-packages (from tqdm->nltk>=3.1->textblob) (0.4.4)\n",
      "Installing collected packages: textblob\n",
      "Successfully installed textblob-0.17.1\n"
     ]
    }
   ],
   "source": [
    "!pip install textblob"
   ]
  },
  {
   "cell_type": "code",
   "execution_count": 34,
   "id": "d97db3bb-bdef-44e7-8e7e-2a52778000ae",
   "metadata": {},
   "outputs": [],
   "source": [
    "# Import the required packages\n",
    "from textblob import TextBlob"
   ]
  },
  {
   "cell_type": "code",
   "execution_count": 49,
   "id": "c4725706-42ca-4abf-8efa-cedef705397f",
   "metadata": {},
   "outputs": [
    {
     "data": {
      "text/plain": [
       "Sentiment(polarity=0.49115150226757365, subjectivity=0.6157823129251702)"
      ]
     },
     "execution_count": 49,
     "metadata": {},
     "output_type": "execute_result"
    }
   ],
   "source": [
    "blob = TextBlob(longest_review_full_text)\n",
    "blob.sentiment"
   ]
  },
  {
   "cell_type": "code",
   "execution_count": 51,
   "id": "8fe3d801-ba1e-4a9a-b012-17dadc7cd037",
   "metadata": {},
   "outputs": [],
   "source": [
    "# for sentence in blob.sentences:\n",
    "#     print(sentence.sentiment.polarity)"
   ]
  },
  {
   "cell_type": "code",
   "execution_count": 54,
   "id": "969bedfd-fe38-4f21-90e6-302fcafec7af",
   "metadata": {},
   "outputs": [
    {
     "name": "stdout",
     "output_type": "stream",
     "text": [
      "Requirement already satisfied: wordcloud in c:\\users\\mikel\\anaconda3\\lib\\site-packages (1.8.2.2)\n",
      "Requirement already satisfied: pillow in c:\\users\\mikel\\anaconda3\\lib\\site-packages (from wordcloud) (9.0.1)\n",
      "Requirement already satisfied: matplotlib in c:\\users\\mikel\\anaconda3\\lib\\site-packages (from wordcloud) (3.5.1)\n",
      "Requirement already satisfied: numpy>=1.6.1 in c:\\users\\mikel\\anaconda3\\lib\\site-packages (from wordcloud) (1.21.5)\n",
      "Requirement already satisfied: fonttools>=4.22.0 in c:\\users\\mikel\\anaconda3\\lib\\site-packages (from matplotlib->wordcloud) (4.25.0)\n",
      "Requirement already satisfied: packaging>=20.0 in c:\\users\\mikel\\anaconda3\\lib\\site-packages (from matplotlib->wordcloud) (21.3)\n",
      "Requirement already satisfied: python-dateutil>=2.7 in c:\\users\\mikel\\anaconda3\\lib\\site-packages (from matplotlib->wordcloud) (2.8.2)\n",
      "Requirement already satisfied: pyparsing>=2.2.1 in c:\\users\\mikel\\anaconda3\\lib\\site-packages (from matplotlib->wordcloud) (3.0.4)\n",
      "Requirement already satisfied: cycler>=0.10 in c:\\users\\mikel\\anaconda3\\lib\\site-packages (from matplotlib->wordcloud) (0.11.0)\n",
      "Requirement already satisfied: kiwisolver>=1.0.1 in c:\\users\\mikel\\anaconda3\\lib\\site-packages (from matplotlib->wordcloud) (1.3.2)\n",
      "Requirement already satisfied: six>=1.5 in c:\\users\\mikel\\anaconda3\\lib\\site-packages (from python-dateutil>=2.7->matplotlib->wordcloud) (1.16.0)\n"
     ]
    }
   ],
   "source": [
    "!pip install wordcloud"
   ]
  },
  {
   "cell_type": "code",
   "execution_count": 55,
   "id": "27ce493b-a974-44a9-a258-09bfd1406483",
   "metadata": {},
   "outputs": [],
   "source": [
    "from wordcloud import WordCloud"
   ]
  },
  {
   "cell_type": "code",
   "execution_count": 56,
   "id": "3ee62668-a71f-46a2-a445-c12210ea8736",
   "metadata": {},
   "outputs": [],
   "source": [
    "cloud = WordCloud(background_color=\"white\").generate(longest_review_full_text)"
   ]
  },
  {
   "cell_type": "code",
   "execution_count": 57,
   "id": "415ecf13-b81b-45fd-be35-45cf10fa053f",
   "metadata": {},
   "outputs": [
    {
     "data": {
      "image/png": "[encoded data removed]",
      "text/plain": [
       "<Figure size 432x288 with 1 Axes>"
      ]
     },
     "metadata": {
      "needs_background": "light"
     },
     "output_type": "display_data"
    }
   ],
   "source": [
    "plt.imshow(cloud, interpolation='bilinear')\n",
    "plt.axis('off')\n",
    "plt.show()"
   ]
  },
  {
   "cell_type": "code",
   "execution_count": null,
   "id": "c3e8ae73-7ecc-48bb-bacc-55f2eafa96c5",
   "metadata": {},
   "outputs": [],
   "source": []
  }
 ],
 "metadata": {
  "kernelspec": {
   "display_name": "Python 3 (ipykernel)",
   "language": "python",
   "name": "python3"
  },
  "language_info": {
   "codemirror_mode": {
    "name": "ipython",
    "version": 3
   },
   "file_extension": ".py",
   "mimetype": "text/x-python",
   "name": "python",
   "nbconvert_exporter": "python",
   "pygments_lexer": "ipython3",
   "version": "3.9.12"
  }
 },
 "nbformat": 4,
 "nbformat_minor": 5
}
