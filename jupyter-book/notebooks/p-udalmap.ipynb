{
 "cells": [
  {
   "cell_type": "markdown",
   "id": "b1c39cc0-a9fa-4f30-83cd-087be117c33e",
   "metadata": {},
   "source": [
    "# Municipal Indicators"
   ]
  },
  {
   "cell_type": "markdown",
   "id": "e7c36995-99f2-49c9-b553-9ca520d6100f",
   "metadata": {},
   "source": [
    "![](img/urretxu.jpg) \n",
    "\n",
    "$^{1}$Photo of Urretxu & Zumarraga taken from [Urretxuko Udala](https://urretxu.eus/es/turismo)."
   ]
  },
  {
   "cell_type": "markdown",
   "id": "f0a421c4-ca71-4c3e-ac17-1b87a0ed7b96",
   "metadata": {},
   "source": [
    "Feb, 2024\n",
    "> *API wrapper for data mining, Data Analysis with interactive apps*"
   ]
  },
  {
   "cell_type": "markdown",
   "id": "9e6ba224-5265-46c9-8b8d-0c772513a6d4",
   "metadata": {},
   "source": [
    "## Background\n",
    "[Udalmap](https://opendata.euskadi.eus/api-udalmap/?api=udalmap) is a information system whose purpose is to provide detailed insight into the reality of the 251 municipalities in the Basque Autonomous Community. It consists of over 200 indicators grouped into the following areas:\n",
    "\n",
    "- Economy and competitiveness\n",
    "- Social cohesion and quality of life\n",
    "- Environment and mobility\"\n",
    "\n",
    "Last year, an API was launched for the Udalmap database, and I came up with the idea of writing some functions to ease access to the information. These functions would constitute what is known as a wrapper, a layer that masks the lower-level code and thus simplifies the user's program. The next logical step would be to prepare it as a module and share it with the community as an installable package on the [PyPI](https://pypi.org/) site.\n",
    "\n",
    "Additionally, I thought it would be good to implement a demo web app so that anyone outside the programming realm could make inquiries.\n",
    "\n",
    "With the wrapper ready, I could carry out my own analysis of some municipal indicators. But, what question did I want to answer with the analysis? Honestly, I couldn't think of what study to conduct. I was curious to know some data and plot them, but I didn't know where to focus.\n",
    "\n",
    "I finally came up with the following question: among the 251 municipalities of Euskadi, does my town stand out in any way? In which indicators does it rank among the top or bottom? And since I was going to consider the rankings, I thought it wouldn't be a bad idea to compare the relative positions between the two towns where I live (Urretxu and Zumarraga) to find out in what areas one town excels over the other."
   ]
  },
  {
   "cell_type": "markdown",
   "id": "0238ed5a-70a7-4e11-ba0f-72725a484f29",
   "metadata": {},
   "source": [
    "## Wrapper\n",
    "The wrapper functions to handle Udalmap API are organized within a class that I've named UdalMap."
   ]
  },
  {
   "cell_type": "code",
   "execution_count": 2,
   "id": "0720fa7a-46fb-468d-ab75-25dbb919ee98",
   "metadata": {
    "editable": true,
    "slideshow": {
     "slide_type": ""
    },
    "tags": [
     "hide-input"
    ]
   },
   "outputs": [],
   "source": [
    "import warnings\n",
    "import matplotlib.pyplot as plt\n",
    "import pandas as pd\n",
    "import requests\n",
    "\n",
    "\n",
    "class UdalMap:\n",
    "    \"\"\"Class to get info from Udalmap API\"\"\"\n",
    "\n",
    "    URL_API = \"https://api.euskadi.eus/udalmap/\"\n",
    "    REQUESTS_OK = 200\n",
    "\n",
    "    def __init__(self):\n",
    "        self.lang = \"SPANISH\"\n",
    "\n",
    "    def set_lang(self, lang):\n",
    "        \"\"\"Changes the language\"\"\"\n",
    "        if (lang == \"BASQUE\") or (lang == \"SPANISH\"):\n",
    "            self.lang = lang\n",
    "        else:\n",
    "            self.lang = \"SPANISH\"\n",
    "            warnings.warn(\"Invalid language! SPANISH assigned\")\n",
    "\n",
    "    def groups(self):\n",
    "        \"\"\"Gets available groups.\"\"\"\n",
    "        url = f\"{UdalMap.URL_API}groups?lang={self.lang}&summarized=false\"\n",
    "        r = requests.get(url)\n",
    "        if r.status_code == UdalMap.REQUESTS_OK:\n",
    "            groups = r.json()\n",
    "            groups_lst = []\n",
    "            for group in groups:\n",
    "                groups_lst.append({\"id\": group[\"id\"], \"name\": group[\"name\"]})\n",
    "                # groups_lst.append(group[\"id\"] + \": \" + group[\"name\"])\n",
    "            return groups_lst\n",
    "        else:\n",
    "            raise Exception(f\"\"\"requests.get(url) returns {r.status_code}\"\"\")\n",
    "\n",
    "    def subgroups(self, group_id):\n",
    "        \"\"\"Gets available subgroups from a given group.\"\"\"\n",
    "        # Get valid groups\n",
    "        valid_group_ids = [group[\"id\"] for group in self.groups()]\n",
    "        # Get subgroups\n",
    "        if group_id in valid_group_ids:\n",
    "            url = f\"{UdalMap.URL_API}groups/{group_id}/subgroups?lang={self.lang}&summarized=false\"\n",
    "            r = requests.get(url)\n",
    "            if r.status_code == UdalMap.REQUESTS_OK:\n",
    "                subgroups = r.json()\n",
    "                subgroups_lst = []\n",
    "                for subgroup in subgroups:\n",
    "                    subgroups_lst.append(\n",
    "                        {\"id\": subgroup[\"id\"], \"name\": subgroup[\"name\"]}\n",
    "                    )\n",
    "                return subgroups_lst\n",
    "            else:\n",
    "                raise Exception(f\"\"\"requests.get(url) returns {r.status_code}\"\"\")\n",
    "        else:\n",
    "            raise Exception(\n",
    "                f\"\"\"'group_id' parameter not valid!\n",
    "                            Should be one of these: {valid_group_ids}\"\"\"\n",
    "            )\n",
    "\n",
    "    def indicators(self, subgroup_id):\n",
    "        \"\"\"Gets available indicators from a given subgroup.\"\"\"\n",
    "        # Get valid subgroups\n",
    "        url = f\"{UdalMap.URL_API}subgroups?lang={self.lang}&summarized=false\"\n",
    "        r = requests.get(url)\n",
    "        if r.status_code == UdalMap.REQUESTS_OK:\n",
    "            subgroups = r.json()\n",
    "            valid_subgroup_ids = [subgroup[\"id\"] for subgroup in subgroups]\n",
    "        else:\n",
    "            raise Exception(f\"requests.get(url) returns {r.status_code}\")\n",
    "        # Get indicators\n",
    "        if subgroup_id in valid_subgroup_ids:\n",
    "            url = (\n",
    "                f\"{UdalMap.URL_API}subgroups/{subgroup_id}/indicators?lang={self.lang}\"\n",
    "            )\n",
    "            r = requests.get(url)\n",
    "            if r.status_code == UdalMap.REQUESTS_OK:\n",
    "                indicators = r.json()\n",
    "                indicators_lst = []\n",
    "                for indicator in indicators:\n",
    "                    indicators_lst.append(\n",
    "                        {\"id\": indicator[\"id\"], \"name\": indicator[\"name\"]}\n",
    "                    )\n",
    "                return indicators_lst\n",
    "            else:\n",
    "                raise Exception(f\"requests.get(url) returns {r.status_code}\")\n",
    "        else:\n",
    "            raise Exception(\n",
    "                f\"'subgroup_id' parameter not valid! Should be one of these: {valid_subgroup_ids}\"\n",
    "            )\n",
    "\n",
    "    def indicator_name(self, indicator_id):\n",
    "        \"\"\"Gets the name of an indicator id.\"\"\"\n",
    "        url = f\"{UdalMap.URL_API}indicators/{indicator_id}?lang={self.lang}\"\n",
    "        r = requests.get(url)\n",
    "        if r.status_code == UdalMap.REQUESTS_OK:\n",
    "            indicator = r.json()\n",
    "            return indicator[\"name\"]\n",
    "        else:\n",
    "            raise Exception(f\"requests.get(url) returns {r.status_code}\")\n",
    "\n",
    "    def data(self, indicator_id, entities):\n",
    "        \"\"\"Gets indicator data from selected entities.\"\"\"\n",
    "        # Get valid indicator\n",
    "        url = f\"{UdalMap.URL_API}indicators?lang={self.lang}\"\n",
    "        r = requests.get(url)\n",
    "        if r.status_code == UdalMap.REQUESTS_OK:\n",
    "            indicators = r.json()\n",
    "            valid_indicators = [indicator[\"id\"] for indicator in indicators]\n",
    "        else:\n",
    "            raise Exception(f\"requests.get(url) returns {r.status_code}\")\n",
    "        # Get valid entity\n",
    "        valid_entities = [\"entities\", \"regions\", \"municipalities\"]\n",
    "        # Get the data\n",
    "        if entities in valid_entities:\n",
    "            if indicator_id in valid_indicators:\n",
    "                url = f\"{UdalMap.URL_API}indicators/{indicator_id}/{entities}?lang={self.lang}\"\n",
    "                r = requests.get(url)\n",
    "                if r.status_code == UdalMap.REQUESTS_OK:\n",
    "                    entities = r.json()[entities]\n",
    "                    indicatordata_lst = []\n",
    "                    for entity in entities:\n",
    "                        indicatordata_lst.append(\n",
    "                            {\n",
    "                                \"id\": entity[\"id\"],\n",
    "                                \"name\": entity[\"name\"],\n",
    "                                \"years\": entity[\"years\"][0],\n",
    "                            }\n",
    "                        )\n",
    "                    return indicatordata_lst\n",
    "                else:\n",
    "                    raise Exception(f\"requests.get(url) returns {r.status_code}\")\n",
    "            else:\n",
    "                raise Exception(\n",
    "                    f\"'indicator_id' parameter not valid!\\nShould be one of these: {valid_indicators}\"\n",
    "                )\n",
    "        else:\n",
    "            raise Exception(\n",
    "                f\"'entities' parameter not valid!\\nShould be one of these: {valid_entities}\"\n",
    "            )\n",
    "\n",
    "    def data_df(self, indicator_id, entities):\n",
    "        \"\"\"Gets indicator data from selected entities.\n",
    "        Returns a pandas dataframe\"\"\"\n",
    "        entities = self.data(indicator_id, entities)\n",
    "        names = []\n",
    "        years = []\n",
    "        for entity in entities:\n",
    "            names.append(entity[\"name\"])\n",
    "            years.append(entity[\"years\"])\n",
    "\n",
    "        return pd.DataFrame(years, index=names).reset_index()\n",
    "\n",
    "    def data_plot(self, indicator_id, entities, plot_entities=[]):\n",
    "        \"\"\"Plots indicator data from selected entities.\n",
    "        Passing a list filters entities to plot\"\"\"\n",
    "        df = self.data_df(indicator_id, entities)\n",
    "        df = df.set_index(\"index\")\n",
    "        # Filter entities to plot\n",
    "        if plot_entities != []:\n",
    "            for plot_entity in plot_entities:\n",
    "                if plot_entity not in list(df.index):\n",
    "                    raise Exception(f\"{plot_entity} not in {list(df.index)}\")\n",
    "            df = df.loc[plot_entities, :]\n",
    "\n",
    "        fig, ax = plt.subplots()\n",
    "        df.transpose().plot(ax=ax)\n",
    "        # Title of the plot\n",
    "        title = self.indicator_name(indicator_id)\n",
    "        ax.set_title(title, fontsize=11)\n",
    "        ax.legend(title=None)\n",
    "\n",
    "        return fig"
   ]
  },
  {
   "cell_type": "markdown",
   "id": "b26560ee-3a60-420d-a14e-d102d2d26493",
   "metadata": {},
   "source": [
    "I instantiate an object of that class for the current project."
   ]
  },
  {
   "cell_type": "code",
   "execution_count": 3,
   "id": "042ba262-f430-44dd-821e-8f49dcab09e3",
   "metadata": {
    "editable": true,
    "slideshow": {
     "slide_type": ""
    },
    "tags": [
     "hide-input"
    ]
   },
   "outputs": [],
   "source": [
    "import gradio as gr\n",
    "import ipywidgets as widgets\n",
    "import numpy as np\n",
    "import seaborn as sns\n",
    "\n",
    "# Create an UdalMap class object\n",
    "udalmap = UdalMap()"
   ]
  },
  {
   "cell_type": "markdown",
   "id": "0b115a63-ff48-477c-8248-a362873c5f4d",
   "metadata": {},
   "source": [
    "## Demo app\n",
    "I use the Gradio library to implement the web application with which any user can query the indicator data and plot them."
   ]
  },
  {
   "cell_type": "code",
   "execution_count": 4,
   "id": "23eb8f6c-2f5e-4d78-8309-cf50652ef244",
   "metadata": {
    "editable": true,
    "slideshow": {
     "slide_type": ""
    },
    "tags": [
     "hide-input"
    ]
   },
   "outputs": [],
   "source": [
    "# gradio app demo\n",
    "with gr.Blocks() as demo:\n",
    "\n",
    "    ## Components ##\n",
    "\n",
    "    # Title\n",
    "    gr.Markdown(\n",
    "        \"\"\"\n",
    "    # **Udalmap API**\n",
    "    https://opendata.euskadi.eus/apis/-/apis-open-data/\n",
    "    \n",
    "    **demo app** by datuz, 2024\n",
    "    \"\"\"\n",
    "    )\n",
    "\n",
    "    # Components in 1st row\n",
    "    with gr.Row():\n",
    "        dropdown_groups = gr.Dropdown(\n",
    "            choices=[group[\"id\"] for group in udalmap.groups()],\n",
    "            label=\"Select group:\",\n",
    "            interactive=True,\n",
    "            scale=0,\n",
    "        )\n",
    "        json_groups = gr.Json(\n",
    "            value=[group[\"id\"] + \": \" + group[\"name\"] for group in udalmap.groups()],\n",
    "            label=\"groups\",\n",
    "        )\n",
    "\n",
    "    # Components in 2nd row\n",
    "    with gr.Row():\n",
    "        dropdown_subgroups = gr.Dropdown(\n",
    "            choices=[], label=\"Select subgroup:\", interactive=True, scale=0\n",
    "        )\n",
    "        json_subgroups = gr.Json(label=\"subgroups\")\n",
    "\n",
    "    # Components in 3rd row\n",
    "    with gr.Row():\n",
    "        dropdown_indicators = gr.Dropdown(\n",
    "            choices=[], label=\"Select indicator:\", interactive=True, scale=0\n",
    "        )\n",
    "        json_indicators = gr.Json(label=\"indicators\")\n",
    "\n",
    "    # Components in 4th row\n",
    "    with gr.Row():\n",
    "        radio_entity = gr.Radio(\n",
    "            [\"entities\", \"regions\", \"municipalities\"],\n",
    "            label=\"Select:\",\n",
    "            value=\"entities\",\n",
    "            interactive=True,\n",
    "            scale=0,\n",
    "        )\n",
    "        textbox_indicator_name = gr.Textbox(label=\"Selected indicator\")\n",
    "\n",
    "    # Components in 5th row\n",
    "    button_getdata = gr.Button(\"Get data\", scale=0)\n",
    "\n",
    "    # Components in 6th row\n",
    "    dataframe_data = gr.Dataframe(label=\"dataframe\")\n",
    "\n",
    "    # Components in 7th row\n",
    "    with gr.Row():\n",
    "        button_plotdata = gr.Button(\"Plot data\", scale=0)\n",
    "        dropdown_entity_filter = gr.Dropdown(\n",
    "            choices=[], label=\"Filter:\", interactive=True, multiselect=True\n",
    "        )\n",
    "\n",
    "    # Components in 8th row\n",
    "    plot_data = gr.Plot(label=\"Plot\")\n",
    "\n",
    "    ## Events ##\n",
    "\n",
    "    # Group selection\n",
    "    def on_group_select(evt: gr.SelectData):\n",
    "        return [\n",
    "            subgroup[\"id\"] + \": \" + subgroup[\"name\"]\n",
    "            for subgroup in udalmap.subgroups(evt.value)\n",
    "        ], gr.Dropdown(\n",
    "            choices=[subgroup[\"id\"] for subgroup in udalmap.subgroups(evt.value)],\n",
    "            value=None,\n",
    "        )\n",
    "\n",
    "    dropdown_groups.select(\n",
    "        fn=on_group_select, inputs=None, outputs=[json_subgroups, dropdown_subgroups]\n",
    "    )\n",
    "\n",
    "    # Subgroup selection\n",
    "    def on_subgroup_select(evt: gr.SelectData):  # SelectData is a subclass of EventData\n",
    "        return [\n",
    "            indicator[\"id\"] + \": \" + indicator[\"name\"]\n",
    "            for indicator in udalmap.indicators(evt.value)\n",
    "        ], gr.Dropdown(\n",
    "            choices=[indicator[\"id\"] for indicator in udalmap.indicators(evt.value)],\n",
    "            value=None,\n",
    "        )\n",
    "\n",
    "    dropdown_subgroups.select(\n",
    "        fn=on_subgroup_select,\n",
    "        inputs=None,\n",
    "        outputs=[json_indicators, dropdown_indicators],\n",
    "    )\n",
    "\n",
    "    # Indicator selection\n",
    "    def on_indicator_select(indicator):\n",
    "        return indicator + \" : \" + udalmap.indicator_name(indicator)\n",
    "\n",
    "    dropdown_indicators.select(\n",
    "        fn=on_indicator_select,\n",
    "        inputs=dropdown_indicators,\n",
    "        outputs=textbox_indicator_name,\n",
    "    )\n",
    "\n",
    "    # Get data button\n",
    "    def on_getdata_button(indicator, entity):\n",
    "        df = udalmap.data_df(indicator, entity)\n",
    "        return df, gr.Dropdown(choices=df[\"index\"].tolist())\n",
    "\n",
    "    button_getdata.click(\n",
    "        fn=on_getdata_button,\n",
    "        inputs=[dropdown_indicators, radio_entity],\n",
    "        outputs=[dataframe_data, dropdown_entity_filter],\n",
    "    )\n",
    "\n",
    "    # Plot data button\n",
    "    def on_plotdata_button(indicator, entity, plot_entities):\n",
    "        return udalmap.data_plot(indicator, entity, plot_entities)\n",
    "\n",
    "    button_plotdata.click(\n",
    "        fn=on_plotdata_button,\n",
    "        inputs=[dropdown_indicators, radio_entity, dropdown_entity_filter],\n",
    "        outputs=plot_data,\n",
    "    )\n",
    "\n",
    "\n",
    "# demo.launch()"
   ]
  },
  {
   "cell_type": "markdown",
   "id": "7b3e0621-c0d5-446a-94a7-fbf4957fea46",
   "metadata": {},
   "source": [
    "![](img/udalmap-demo.gif)"
   ]
  },
  {
   "cell_type": "markdown",
   "id": "829ec6bf-edda-4485-a8bb-c6499c016a3d",
   "metadata": {},
   "source": [
    "This is just a GIF animation of the demo app.\n",
    "\n",
    "You can access it at [Hugging Face Spaces](https://huggingface.co/spaces/datuz/udalmap)."
   ]
  },
  {
   "cell_type": "markdown",
   "id": "0d10f24d-fc51-416d-b516-01461ca3def4",
   "metadata": {},
   "source": [
    "## The data\n",
    "In this project, I use the wrapper to scan through the more than 200 indicators and their corresponding years. I do this only for the municipalities of Urretxu and Zumarraga, calculating for each of the obtained records the position they occupy among all the municipalities of Euskadi."
   ]
  },
  {
   "cell_type": "code",
   "execution_count": 5,
   "id": "d702171f-3af7-49c7-9e1f-cfdbca1871c8",
   "metadata": {
    "editable": true,
    "slideshow": {
     "slide_type": ""
    },
    "tags": [
     "hide-input"
    ]
   },
   "outputs": [
    {
     "name": "stdout",
     "output_type": "stream",
     "text": [
      "Shape: (5632, 6)\n"
     ]
    },
    {
     "data": {
      "text/html": [
       "<div>\n",
       "<style scoped>\n",
       "    .dataframe tbody tr th:only-of-type {\n",
       "        vertical-align: middle;\n",
       "    }\n",
       "\n",
       "    .dataframe tbody tr th {\n",
       "        vertical-align: top;\n",
       "    }\n",
       "\n",
       "    .dataframe thead th {\n",
       "        text-align: right;\n",
       "    }\n",
       "</style>\n",
       "<table border=\"1\" class=\"dataframe\">\n",
       "  <thead>\n",
       "    <tr style=\"text-align: right;\">\n",
       "      <th></th>\n",
       "      <th>town</th>\n",
       "      <th>indicator</th>\n",
       "      <th>year</th>\n",
       "      <th>value</th>\n",
       "      <th>ranking</th>\n",
       "      <th>group</th>\n",
       "    </tr>\n",
       "  </thead>\n",
       "  <tbody>\n",
       "    <tr>\n",
       "      <th>3787</th>\n",
       "      <td>Zumarraga</td>\n",
       "      <td>175</td>\n",
       "      <td>1991</td>\n",
       "      <td>28.92</td>\n",
       "      <td>199</td>\n",
       "      <td>S</td>\n",
       "    </tr>\n",
       "    <tr>\n",
       "      <th>3962</th>\n",
       "      <td>Urretxu</td>\n",
       "      <td>68</td>\n",
       "      <td>1991</td>\n",
       "      <td>17.57</td>\n",
       "      <td>95</td>\n",
       "      <td>S</td>\n",
       "    </tr>\n",
       "    <tr>\n",
       "      <th>3963</th>\n",
       "      <td>Zumarraga</td>\n",
       "      <td>68</td>\n",
       "      <td>1991</td>\n",
       "      <td>11.03</td>\n",
       "      <td>184</td>\n",
       "      <td>S</td>\n",
       "    </tr>\n",
       "    <tr>\n",
       "      <th>3953</th>\n",
       "      <td>Zumarraga</td>\n",
       "      <td>70</td>\n",
       "      <td>1991</td>\n",
       "      <td>60.64</td>\n",
       "      <td>111</td>\n",
       "      <td>S</td>\n",
       "    </tr>\n",
       "    <tr>\n",
       "      <th>3952</th>\n",
       "      <td>Urretxu</td>\n",
       "      <td>70</td>\n",
       "      <td>1991</td>\n",
       "      <td>61.43</td>\n",
       "      <td>90</td>\n",
       "      <td>S</td>\n",
       "    </tr>\n",
       "  </tbody>\n",
       "</table>\n",
       "</div>"
      ],
      "text/plain": [
       "           town  indicator  year  value  ranking group\n",
       "3787  Zumarraga        175  1991  28.92      199     S\n",
       "3962    Urretxu         68  1991  17.57       95     S\n",
       "3963  Zumarraga         68  1991  11.03      184     S\n",
       "3953  Zumarraga         70  1991  60.64      111     S\n",
       "3952    Urretxu         70  1991  61.43       90     S"
      ]
     },
     "execution_count": 5,
     "metadata": {},
     "output_type": "execute_result"
    }
   ],
   "source": [
    "# Init\n",
    "towns = [\"Urretxu\", \"Zumarraga\"]  # Towns considered\n",
    "results_lst = []\n",
    "\n",
    "# Iterate through all groups\n",
    "group_ids = [group[\"id\"] for group in udalmap.groups()]\n",
    "for group_id in group_ids:\n",
    "\n",
    "    # Iterate through all subgroups\n",
    "    subgroup_ids = [subgroup[\"id\"] for subgroup in udalmap.subgroups(group_id=group_id)]\n",
    "    for subgroup_id in subgroup_ids:\n",
    "\n",
    "        # Iterate through all indicators\n",
    "        indicator_ids = [\n",
    "            indicator[\"id\"] for indicator in udalmap.indicators(subgroup_id=subgroup_id)\n",
    "        ]\n",
    "        for indicator_id in indicator_ids:\n",
    "\n",
    "            # Get indicator data for all municipalities and set index to indicator id number\n",
    "            df = udalmap.data_df(\n",
    "                indicator_id=indicator_id, entities=\"municipalities\"\n",
    "            ).set_index(\"index\")\n",
    "            # Iterate through all the columns of the df, i.e. through existing years\n",
    "            for year, data in df.items():\n",
    "                # For each year, reset the index: created new index will serve as ranking position\n",
    "                df_year = data.sort_values(ascending=False).reset_index()\n",
    "                # Iterate through initialized towns\n",
    "                for town in towns:\n",
    "                    # Get the record\n",
    "                    record = df_year.loc[df_year[\"index\"] == town, :]\n",
    "                    # Extract desired data from record\n",
    "                    ranking = record.index[0]  # index stores ranking pos\n",
    "                    value = record.iloc[0, -1]\n",
    "                    year = record.columns[-1]\n",
    "                    results_lst.append(\n",
    "                        {\n",
    "                            \"town\": town,\n",
    "                            \"indicator\": indicator_id,\n",
    "                            \"year\": year,\n",
    "                            \"value\": value,\n",
    "                            \"ranking\": ranking,\n",
    "                            \"group\": group_id,\n",
    "                        }\n",
    "                    )\n",
    "\n",
    "# Create pandas dataframe from results\n",
    "results = pd.DataFrame(results_lst)\n",
    "\n",
    "# Convert 'year' and 'indicator' columns to integer\n",
    "results[\"year\"] = results[\"year\"].astype(\"int\")\n",
    "results[\"indicator\"] = results[\"indicator\"].astype(\"int\")\n",
    "\n",
    "# Sort\n",
    "results = results.sort_values(by=\"year\")\n",
    "\n",
    "print(f\"Shape: {results.shape}\")\n",
    "results.head()"
   ]
  },
  {
   "cell_type": "markdown",
   "id": "4f6eb26a-ae09-4736-a600-4d5da8bd59e0",
   "metadata": {},
   "source": [
    "## Distribution of rankings\n",
    "A histogram of the rankings obtained for each town and for each year can give us some information."
   ]
  },
  {
   "cell_type": "code",
   "execution_count": 6,
   "id": "3a2d2864-478e-49ae-9634-f8dce17f2895",
   "metadata": {
    "editable": true,
    "slideshow": {
     "slide_type": ""
    },
    "tags": [
     "hide-input"
    ]
   },
   "outputs": [
    {
     "data": {
      "application/vnd.jupyter.widget-view+json": {
       "model_id": "a4cd7a54874f43e7bc1050131bcd6800",
       "version_major": 2,
       "version_minor": 0
      },
      "text/plain": [
       "interactive(children=(Dropdown(description='town', options=('Urretxu', 'Zumarraga'), value='Urretxu'), Dropdow…"
      ]
     },
     "execution_count": 6,
     "metadata": {},
     "output_type": "execute_result"
    }
   ],
   "source": [
    "# Function to plot histogram of rankings\n",
    "def histplot_rankings(town, year):\n",
    "\n",
    "    # Subset by town and year\n",
    "    df = results.loc[(results[\"town\"] == town) & (results[\"year\"] == year), :]\n",
    "\n",
    "    # Plot\n",
    "    fig, ax = plt.subplots(figsize=(6, 4))\n",
    "\n",
    "    sns.histplot(\n",
    "        data=df[\"ranking\"], ax=ax, stat=\"count\", discrete=True, fill=False, kde=True\n",
    "    )\n",
    "\n",
    "    ax.set_xlabel(\"Ranking\", fontsize=11)\n",
    "    ax.set_ylabel(\"Count\", fontsize=11)\n",
    "    ax.set_title(f\"{town}, {year}\", fontsize=11)\n",
    "    ax.set_xlim(1, 250)\n",
    "    ax.set_ylim(0, 4)\n",
    "    sns.despine()\n",
    "\n",
    "    plt.show()\n",
    "\n",
    "\n",
    "# Define years to show\n",
    "plot_years = results[\"year\"].unique()[\n",
    "    4:\n",
    "]  # discard 1991, 1995, 1996, 1997: non consecutive and scarce data\n",
    "\n",
    "# Create interactive plot\n",
    "interactive_plot = widgets.interactive(histplot_rankings, town=towns, year=plot_years)\n",
    "interactive_plot"
   ]
  },
  {
   "cell_type": "markdown",
   "id": "46232c68-c20c-4e58-8d9e-f3155d2bf97f",
   "metadata": {},
   "source": [
    "In the analysis, I used an interactive chart from the ipywidgets library, but since Jupyter Book does not render them, I show below two screenshots of the results."
   ]
  },
  {
   "cell_type": "markdown",
   "id": "ed95d2ae-db15-4bd8-9665-beda4296c765",
   "metadata": {},
   "source": [
    "![](img/hist-urretxu-2022.jpg)\n",
    "![](img/hist-zumarraga-2022.jpg)"
   ]
  },
  {
   "cell_type": "markdown",
   "id": "8517830b-3ebb-4f9d-91e7-7758c3c4f88d",
   "metadata": {},
   "source": [
    "According to these charts, at least regarding the year 2022, Urretxu shows a greater quantity of indicators that are close to the mean compared to Zumarraga, which appears to lean slightly more towards the corner of higher rankings (that is, among the top 50, in the chart on the left side). Does that mean that Urretxu is a more \"normal\" town than Zumarraga? Or does Zumarraga stand out more than Urretxu? Here, one must proceed with caution because depending on the indicator, being in the top positions doesn't necessarily mean it's good."
   ]
  },
  {
   "cell_type": "markdown",
   "id": "25284256-942c-4efc-9172-26b7f2f2e4ea",
   "metadata": {},
   "source": [
    "## Confronting indicators\n",
    "I came up with the idea of comparing the indicators by plotting them on a plane, so that their position intuitively indicated the ranking that Urretxu and Zumarraga occupied in it, while also allowing to see at a glance which of the two was above the other, that is, who was winning in that specific indicator.\n",
    "\n",
    "I had first to prepare the dataframe for the plotting."
   ]
  },
  {
   "cell_type": "code",
   "execution_count": 7,
   "id": "b925afc1-05ac-413d-adcb-dfb1cc1d078e",
   "metadata": {
    "editable": true,
    "slideshow": {
     "slide_type": ""
    },
    "tags": [
     "hide-input"
    ]
   },
   "outputs": [
    {
     "name": "stdout",
     "output_type": "stream",
     "text": [
      "Shape: (2816, 4)\n"
     ]
    },
    {
     "data": {
      "text/html": [
       "<div>\n",
       "<style scoped>\n",
       "    .dataframe tbody tr th:only-of-type {\n",
       "        vertical-align: middle;\n",
       "    }\n",
       "\n",
       "    .dataframe tbody tr th {\n",
       "        vertical-align: top;\n",
       "    }\n",
       "\n",
       "    .dataframe thead th {\n",
       "        text-align: right;\n",
       "    }\n",
       "</style>\n",
       "<table border=\"1\" class=\"dataframe\">\n",
       "  <thead>\n",
       "    <tr style=\"text-align: right;\">\n",
       "      <th>town</th>\n",
       "      <th>year</th>\n",
       "      <th>group</th>\n",
       "      <th>Urretxu</th>\n",
       "      <th>Zumarraga</th>\n",
       "    </tr>\n",
       "    <tr>\n",
       "      <th>indicator</th>\n",
       "      <th></th>\n",
       "      <th></th>\n",
       "      <th></th>\n",
       "      <th></th>\n",
       "    </tr>\n",
       "  </thead>\n",
       "  <tbody>\n",
       "    <tr>\n",
       "      <th>0</th>\n",
       "      <td>2000</td>\n",
       "      <td>E</td>\n",
       "      <td>216.0</td>\n",
       "      <td>205.0</td>\n",
       "    </tr>\n",
       "    <tr>\n",
       "      <th>0</th>\n",
       "      <td>2005</td>\n",
       "      <td>E</td>\n",
       "      <td>201.0</td>\n",
       "      <td>197.0</td>\n",
       "    </tr>\n",
       "    <tr>\n",
       "      <th>0</th>\n",
       "      <td>2008</td>\n",
       "      <td>E</td>\n",
       "      <td>209.0</td>\n",
       "      <td>198.0</td>\n",
       "    </tr>\n",
       "    <tr>\n",
       "      <th>0</th>\n",
       "      <td>2010</td>\n",
       "      <td>E</td>\n",
       "      <td>211.0</td>\n",
       "      <td>210.0</td>\n",
       "    </tr>\n",
       "    <tr>\n",
       "      <th>0</th>\n",
       "      <td>2012</td>\n",
       "      <td>E</td>\n",
       "      <td>204.0</td>\n",
       "      <td>223.0</td>\n",
       "    </tr>\n",
       "  </tbody>\n",
       "</table>\n",
       "</div>"
      ],
      "text/plain": [
       "town       year group  Urretxu  Zumarraga\n",
       "indicator                                \n",
       "0          2000     E    216.0      205.0\n",
       "0          2005     E    201.0      197.0\n",
       "0          2008     E    209.0      198.0\n",
       "0          2010     E    211.0      210.0\n",
       "0          2012     E    204.0      223.0"
      ]
     },
     "execution_count": 7,
     "metadata": {},
     "output_type": "execute_result"
    }
   ],
   "source": [
    "# Reshape results to show for defined index rankings for each town\n",
    "rankings = results.pivot_table(\n",
    "    index=[\"indicator\", \"year\", \"group\"], columns=[\"town\"], values=\"ranking\"\n",
    ").reset_index(level=[\"year\", \"group\"])\n",
    "\n",
    "print(f\"Shape: {rankings.shape}\")\n",
    "rankings.head()"
   ]
  },
  {
   "cell_type": "markdown",
   "id": "3e8e2324-71b6-4491-8afd-d7f6d58d5acc",
   "metadata": {},
   "source": [
    "Since the position of the points according to the ranking depended on each year, I used an interactive graph that allowed me to select the year and even create an animation covering all the years."
   ]
  },
  {
   "cell_type": "code",
   "execution_count": 8,
   "id": "26f62bb2-b3d5-4540-a3d0-16ed3588147f",
   "metadata": {
    "editable": true,
    "slideshow": {
     "slide_type": ""
    },
    "tags": [
     "hide-input"
    ]
   },
   "outputs": [
    {
     "data": {
      "application/vnd.jupyter.widget-view+json": {
       "model_id": "7f40960079df45b687b0dff233235974",
       "version_major": 2,
       "version_minor": 0
      },
      "text/plain": [
       "interactive(children=(BoundedIntText(value=1999, description='Year:', max=2023, min=1999), Output()), _dom_cla…"
      ]
     },
     "metadata": {},
     "output_type": "display_data"
    },
    {
     "data": {
      "application/vnd.jupyter.widget-view+json": {
       "model_id": "630a47975552455f8197e7b6196d379a",
       "version_major": 2,
       "version_minor": 0
      },
      "text/plain": [
       "Play(value=1999, description='Press play', interval=500, max=2023, min=1999)"
      ]
     },
     "metadata": {},
     "output_type": "display_data"
    }
   ],
   "source": [
    "# Function to plot each indicator\n",
    "def plot_indicators(year):\n",
    "\n",
    "    # Subset by year and indicator\n",
    "    df = rankings.loc[rankings[\"year\"] == year, :]\n",
    "\n",
    "    # Plot\n",
    "    fig, ax = plt.subplots(figsize=(7, 7))\n",
    "\n",
    "    order = [\"E\", \"S\", \"M\"]\n",
    "    sns.scatterplot(\n",
    "        x=\"Zumarraga\",\n",
    "        y=\"Urretxu\",\n",
    "        data=df,\n",
    "        ax=ax,\n",
    "        alpha=0.8,\n",
    "        hue=\"group\",\n",
    "        hue_order=order,\n",
    "    )\n",
    "\n",
    "    # Draw a diagonal line for better visualize limit\n",
    "    x = np.arange(1, 260)\n",
    "    ax.plot(x, x, color=\"grey\", linewidth=0.4)\n",
    "\n",
    "    ax.grid(axis=\"both\", linewidth=0.5)\n",
    "    ax.set_axisbelow(True)\n",
    "    ax.set_title(f\"Indicators in {year}\", size=11)\n",
    "    ax.set_xlabel(\"Zumarraga's rankings\", fontsize=12)\n",
    "    ax.set_ylabel(\"Urretxu's rankings\", fontsize=12)\n",
    "\n",
    "    # Legend\n",
    "    h, l = ax.get_legend_handles_labels()\n",
    "    ax.legend(\n",
    "        h,\n",
    "        [\n",
    "            \"E: Economía y competitividad\",\n",
    "            \"S: Cohesión social y calidad de vida\",\n",
    "            \"M: Medioambiente y movilidad\",\n",
    "        ],\n",
    "        bbox_to_anchor=(1.0, 0.5),\n",
    "        loc=\"center left\",\n",
    "        fontsize=10,\n",
    "        frameon=False,\n",
    "    )\n",
    "\n",
    "    # Do not show '0' not to confuse about meaning of ranking number 1\n",
    "    ax.set_xlim(1, 260)\n",
    "    ax.set_ylim(1, 260)\n",
    "\n",
    "    # Intuitively higher values better at top and right\n",
    "    ax.invert_yaxis()\n",
    "    ax.invert_xaxis()\n",
    "\n",
    "    # Text to help remember while visualizing data\n",
    "    ax.text(35, 285, \"Higher\\nranking\", fontweight=\"ultralight\", fontsize=9)\n",
    "    ax.text(240, 285, \"Lower\\nranking\", fontweight=\"ultralight\", fontsize=9)\n",
    "    ax.text(290, 30, \"Higher\\nranking\", fontweight=\"ultralight\", fontsize=9)\n",
    "    ax.text(290, 230, \"Lower\\nranking\", fontweight=\"ultralight\", fontsize=9)\n",
    "\n",
    "    # Insert text with indicator number next to each point\n",
    "    for i, row in df.iterrows():\n",
    "        ax.text(row[\"Zumarraga\"], row[\"Urretxu\"], i, size=\"small\")\n",
    "\n",
    "    plt.show()\n",
    "\n",
    "\n",
    "# Create textbox widget\n",
    "box = widgets.BoundedIntText(\n",
    "    value=plot_years.min(),\n",
    "    min=plot_years.min(),\n",
    "    max=plot_years.max(),\n",
    "    step=1,\n",
    "    description=\"Year:\",\n",
    "    disabled=False,\n",
    ")\n",
    "\n",
    "# Create animation widget\n",
    "play = widgets.Play(\n",
    "    value=plot_years.min(),\n",
    "    min=plot_years.min(),\n",
    "    max=plot_years.max(),\n",
    "    step=1,\n",
    "    interval=500,\n",
    "    description=\"Press play\",\n",
    "    disabled=False,\n",
    ")\n",
    "\n",
    "# Link these widgets\n",
    "widgets.jslink((play, \"value\"), (box, \"value\"))\n",
    "\n",
    "# Create interactive plot\n",
    "interactive_plot = widgets.interactive(plot_indicators, year=box)\n",
    "\n",
    "# Display both\n",
    "display(interactive_plot)\n",
    "display(play)"
   ]
  },
  {
   "cell_type": "markdown",
   "id": "be14916d-8276-4764-9019-3ee9935810e0",
   "metadata": {},
   "source": [
    "But Jupyter Book doesn't render these interactivities of ipywidgets library, so I'll place a GIF animation of them instead.\n",
    "\n",
    "![](img/udalmap-indicators.gif)"
   ]
  },
  {
   "cell_type": "markdown",
   "id": "6abf6e93-5c5e-431d-b940-61a042551e48",
   "metadata": {},
   "source": [
    "And here's a screenshot of 2022 for a calmer analysis.\n",
    "\n",
    "![](img/udalmap-indicators-scrsht.png)"
   ]
  },
  {
   "cell_type": "markdown",
   "id": "371dfa65-6094-4758-9e0e-93c1fd3ae405",
   "metadata": {},
   "source": [
    "So, the indicators placed towards the right (for Zumarraga) and upwards (for Urretxu) indicate that respectively they enjoy a better ranking position for that specific indicator.\n",
    "\n",
    "Additionally, the diagonal line separates the indicators in which each town obtains the highest positioning with respecto to the other, and the farther away the point is from this line, the greater the difference in the ranking these towns occupy in that specific indicator.\n",
    "\n",
    "So let's take a look at some of them:"
   ]
  },
  {
   "cell_type": "code",
   "execution_count": 9,
   "id": "4542f5ab-1a34-427d-8b9b-60099062c08d",
   "metadata": {
    "editable": true,
    "slideshow": {
     "slide_type": ""
    },
    "tags": [
     "hide-input"
    ]
   },
   "outputs": [
    {
     "name": "stdout",
     "output_type": "stream",
     "text": [
      "80: Edificios de viviendas familiares principales con instalación de gas por tubería (%)\n",
      "           town  indicator  year  value  ranking group\n",
      "4804    Urretxu         80  2022   97.1        2     S\n",
      "4805  Zumarraga         80  2022   96.1        4     S\n"
     ]
    }
   ],
   "source": [
    "results_2022 = results.loc[results[\"year\"] == 2022, :]\n",
    "\n",
    "def show_indicator(indicator_id):\n",
    "    print(f\"{indicator_id}: {udalmap.indicator_name(indicator_id)}\")\n",
    "    print(results_2022.loc[results_2022[\"indicator\"] == indicator_id, :])\n",
    "\n",
    "show_indicator(80)"
   ]
  },
  {
   "cell_type": "markdown",
   "id": "ac6a548f-ecb3-4cb0-bf42-5aae16275f2d",
   "metadata": {},
   "source": [
    "**80**: Both Urretxu and Zumarraga seem to be superpowers in pipeline gas installation, as they respectively hold the second and fourth positions among all municipalities regarding this indicator."
   ]
  },
  {
   "cell_type": "code",
   "execution_count": 10,
   "id": "492fec06-ec76-42a4-b1db-4cff73f93ec7",
   "metadata": {
    "editable": true,
    "slideshow": {
     "slide_type": ""
    },
    "tags": [
     "hide-input"
    ]
   },
   "outputs": [
    {
     "name": "stdout",
     "output_type": "stream",
     "text": [
      "67: Densidad de viviendas en suelo residencial (Viviendas/Ha.)\n",
      "           town  indicator  year  value  ranking group\n",
      "4265  Zumarraga         67  2022  95.00       21     S\n",
      "4264    Urretxu         67  2022  92.27       22     S\n"
     ]
    }
   ],
   "source": [
    "show_indicator(67)"
   ]
  },
  {
   "cell_type": "markdown",
   "id": "583584f7-7a6a-4e4b-8fef-7110adf6a2bd",
   "metadata": {},
   "source": [
    "**67**: It's no surprise to me that we're up in this aspect, as it has always seemed to me that the population density is very high here."
   ]
  },
  {
   "cell_type": "code",
   "execution_count": 11,
   "id": "d7006335-bce2-48d8-ba5c-23363c18455a",
   "metadata": {
    "editable": true,
    "slideshow": {
     "slide_type": ""
    },
    "tags": [
     "hide-input"
    ]
   },
   "outputs": [
    {
     "name": "stdout",
     "output_type": "stream",
     "text": [
      "30: Densidad comercial minorista (&#x2030; habitantes)\n",
      "           town  indicator  year  value  ranking group\n",
      "2539  Zumarraga         30  2022  11.07       21     E\n",
      "2538    Urretxu         30  2022  10.30       28     E\n"
     ]
    }
   ],
   "source": [
    "show_indicator(30)"
   ]
  },
  {
   "cell_type": "markdown",
   "id": "be2c881d-8f0f-43d1-8d38-4bf924e2c4d8",
   "metadata": {},
   "source": [
    "**30**: As for the density of retail stores, we are also well positioned."
   ]
  },
  {
   "cell_type": "markdown",
   "id": "27c98dff-a71e-4841-a1dd-0ada13787a84",
   "metadata": {},
   "source": [
    "Let's take a look at the indicators that yield opposite rankings for both towns. Which is that lonely 73 and why is it there all alone?"
   ]
  },
  {
   "cell_type": "code",
   "execution_count": 12,
   "id": "1e648fa8-ebc5-4d23-b662-c1aefe285e92",
   "metadata": {
    "editable": true,
    "slideshow": {
     "slide_type": ""
    },
    "tags": [
     "hide-input"
    ]
   },
   "outputs": [
    {
     "name": "stdout",
     "output_type": "stream",
     "text": [
      "73: Viviendas protegidas (VPO) terminadas en el último quinquenio (&#x2030; habitantes)\n",
      "           town  indicator  year  value  ranking group\n",
      "3784    Urretxu         73  2022   3.53       20     S\n",
      "3785  Zumarraga         73  2022   0.00      250     S\n"
     ]
    }
   ],
   "source": [
    "show_indicator(73)"
   ]
  },
  {
   "cell_type": "markdown",
   "id": "702e03bd-d836-4e55-8f10-e76d9e6db2b4",
   "metadata": {},
   "source": [
    "**73**: As for the completed protected housing units in the last five years, Urretxu is doing very well while Zumarraga is doing very poorly."
   ]
  },
  {
   "cell_type": "code",
   "execution_count": 13,
   "id": "28def03f-217e-483e-861b-5b1a2d171fea",
   "metadata": {
    "editable": true,
    "slideshow": {
     "slide_type": ""
    },
    "tags": [
     "hide-input"
    ]
   },
   "outputs": [
    {
     "name": "stdout",
     "output_type": "stream",
     "text": [
      "77: Superficie residencial urbanizable (%)\n",
      "           town  indicator  year  value  ranking group\n",
      "4302    Urretxu         77  2022   0.00      249     S\n",
      "4303  Zumarraga         77  2022  11.13      102     S\n"
     ]
    }
   ],
   "source": [
    "show_indicator(77)"
   ]
  },
  {
   "cell_type": "markdown",
   "id": "3459b645-3ad1-4841-95e7-5f291551df29",
   "metadata": {},
   "source": [
    "**77**: It seems that there is no remaining urbanizable residential area in Urretxu, while Zumarraga occupies an intermediate position in this regard."
   ]
  },
  {
   "cell_type": "markdown",
   "id": "90aaee08-49ba-4682-852e-acbeaefebbf6",
   "metadata": {},
   "source": [
    "So we could continue analyzing which indicators are above average and which ones occupy lower positions, besides seeing in which indicators these two towns are distant. This information could be useful for assessing the situation of both municipalities."
   ]
  },
  {
   "cell_type": "markdown",
   "id": "cbfce6a2-50eb-4561-883d-3c93841caabe",
   "metadata": {},
   "source": [
    "## Evolution of indicators\n",
    "The goal in this section would be to comparatively analyze, as in the previous section, the temporal evolution of certain indicators individually.\n",
    "\n",
    "First I prepare the dataframe to later complete the plotting."
   ]
  },
  {
   "cell_type": "code",
   "execution_count": 14,
   "id": "c67b1f30-5d14-495b-af48-44f0925816dd",
   "metadata": {
    "editable": true,
    "slideshow": {
     "slide_type": ""
    },
    "tags": [
     "hide-input"
    ]
   },
   "outputs": [
    {
     "name": "stdout",
     "output_type": "stream",
     "text": [
      "Shape: (2810, 4)\n"
     ]
    },
    {
     "data": {
      "text/html": [
       "<div>\n",
       "<style scoped>\n",
       "    .dataframe tbody tr th:only-of-type {\n",
       "        vertical-align: middle;\n",
       "    }\n",
       "\n",
       "    .dataframe tbody tr th {\n",
       "        vertical-align: top;\n",
       "    }\n",
       "\n",
       "    .dataframe thead th {\n",
       "        text-align: right;\n",
       "    }\n",
       "</style>\n",
       "<table border=\"1\" class=\"dataframe\">\n",
       "  <thead>\n",
       "    <tr style=\"text-align: right;\">\n",
       "      <th>town</th>\n",
       "      <th>year</th>\n",
       "      <th>group</th>\n",
       "      <th>Urretxu</th>\n",
       "      <th>Zumarraga</th>\n",
       "    </tr>\n",
       "    <tr>\n",
       "      <th>indicator</th>\n",
       "      <th></th>\n",
       "      <th></th>\n",
       "      <th></th>\n",
       "      <th></th>\n",
       "    </tr>\n",
       "  </thead>\n",
       "  <tbody>\n",
       "    <tr>\n",
       "      <th>0</th>\n",
       "      <td>2000</td>\n",
       "      <td>E</td>\n",
       "      <td>0.4</td>\n",
       "      <td>0.5</td>\n",
       "    </tr>\n",
       "    <tr>\n",
       "      <th>0</th>\n",
       "      <td>2005</td>\n",
       "      <td>E</td>\n",
       "      <td>0.4</td>\n",
       "      <td>0.4</td>\n",
       "    </tr>\n",
       "    <tr>\n",
       "      <th>0</th>\n",
       "      <td>2008</td>\n",
       "      <td>E</td>\n",
       "      <td>0.3</td>\n",
       "      <td>0.3</td>\n",
       "    </tr>\n",
       "    <tr>\n",
       "      <th>0</th>\n",
       "      <td>2010</td>\n",
       "      <td>E</td>\n",
       "      <td>0.3</td>\n",
       "      <td>0.3</td>\n",
       "    </tr>\n",
       "    <tr>\n",
       "      <th>0</th>\n",
       "      <td>2012</td>\n",
       "      <td>E</td>\n",
       "      <td>0.3</td>\n",
       "      <td>0.2</td>\n",
       "    </tr>\n",
       "  </tbody>\n",
       "</table>\n",
       "</div>"
      ],
      "text/plain": [
       "town       year group  Urretxu  Zumarraga\n",
       "indicator                                \n",
       "0          2000     E      0.4        0.5\n",
       "0          2005     E      0.4        0.4\n",
       "0          2008     E      0.3        0.3\n",
       "0          2010     E      0.3        0.3\n",
       "0          2012     E      0.3        0.2"
      ]
     },
     "execution_count": 14,
     "metadata": {},
     "output_type": "execute_result"
    }
   ],
   "source": [
    "# Reshape results to show for defined index values for each town\n",
    "values = results.pivot_table(\n",
    "    index=[\"indicator\", \"year\", \"group\"], columns=[\"town\"], values=\"value\"\n",
    ").reset_index(level=[\"year\", \"group\"])\n",
    "\n",
    "print(f\"Shape: {values.shape}\")\n",
    "values.head()"
   ]
  },
  {
   "cell_type": "markdown",
   "id": "791bb283-69df-4d04-9e07-712d70e7d0d9",
   "metadata": {},
   "source": [
    "Here I also made use an interactive graph that allowed me to select the indicator as well as the year and even create an animation covering all data-existing years."
   ]
  },
  {
   "cell_type": "code",
   "execution_count": 15,
   "id": "572068c5-163f-4c0e-babf-612786f3fbd2",
   "metadata": {
    "editable": true,
    "slideshow": {
     "slide_type": ""
    },
    "tags": [
     "hide-input"
    ]
   },
   "outputs": [
    {
     "data": {
      "application/vnd.jupyter.widget-view+json": {
       "model_id": "b307622105fa47fa9d74416a87ff287d",
       "version_major": 2,
       "version_minor": 0
      },
      "text/plain": [
       "interactive(children=(BoundedIntText(value=1999, description='Year:', max=2023, min=1999), Dropdown(descriptio…"
      ]
     },
     "metadata": {},
     "output_type": "display_data"
    },
    {
     "data": {
      "application/vnd.jupyter.widget-view+json": {
       "model_id": "3de1d74b73744e74ae2e79bd2bf278dc",
       "version_major": 2,
       "version_minor": 0
      },
      "text/plain": [
       "Play(value=1999, description='Press play', interval=500, max=2023, min=1999)"
      ]
     },
     "metadata": {},
     "output_type": "display_data"
    }
   ],
   "source": [
    "# Function to plot each indicator\n",
    "def plot_indicator(year, indicator):\n",
    "\n",
    "    # Subset by year and indicator\n",
    "    df = rankings.loc[(rankings[\"year\"] == year) & (rankings.index == indicator), :]\n",
    "\n",
    "    # Plot\n",
    "    fig, ax = plt.subplots(figsize=(5, 5))\n",
    "\n",
    "    order = [\"E\", \"S\", \"M\"]\n",
    "    sns.scatterplot(\n",
    "        x=\"Zumarraga\",\n",
    "        y=\"Urretxu\",\n",
    "        data=df,\n",
    "        ax=ax,\n",
    "        alpha=0.8,\n",
    "        hue=\"group\",\n",
    "        hue_order=order,\n",
    "    )\n",
    "\n",
    "    # Define the base size of all the points\n",
    "    try:  # Raises error if there is no plot\n",
    "        ax.collections[0].set_sizes([200])\n",
    "    except:\n",
    "        pass\n",
    "\n",
    "    # Draw a diagonal line for better visualize limit\n",
    "    x = np.arange(1, 260)\n",
    "    ax.plot(x, x, color=\"grey\", linewidth=0.4)\n",
    "\n",
    "    ax.grid(axis=\"both\", linewidth=0.5)\n",
    "    ax.set_axisbelow(True)\n",
    "    ax.set_title(\n",
    "        f\"Indicator: {indicator}\\n'{udalmap.indicator_name(indicator)}'\\n{year}\",\n",
    "        size=11,\n",
    "    )\n",
    "    ax.set_xlabel(\"Zumarraga's rankings\", fontsize=12)\n",
    "    ax.set_ylabel(\"Urretxu's rankings\", fontsize=12)\n",
    "\n",
    "    # Remove legend because appears and desappears if there is or isn't a plot\n",
    "    try:  # If there is no legend it raises attribute error\n",
    "        ax.get_legend().remove()\n",
    "    except:\n",
    "        pass\n",
    "\n",
    "    # Do not show '0' not to confuse about meaning of ranking number 1\n",
    "    ax.set_xlim(1, 260)\n",
    "    ax.set_ylim(1, 260)\n",
    "\n",
    "    # Intuitively higher values better at top and right\n",
    "    ax.invert_yaxis()\n",
    "    ax.invert_xaxis()\n",
    "\n",
    "    # Text to help remember while visualizing data\n",
    "    ax.text(35, 285, \"Higher\\nranking\", fontweight=\"ultralight\", fontsize=9)\n",
    "    ax.text(240, 285, \"Lower\\nranking\", fontweight=\"ultralight\", fontsize=9)\n",
    "    ax.text(290, 30, \"Higher\\nranking\", fontweight=\"ultralight\", fontsize=9)\n",
    "    ax.text(290, 230, \"Lower\\nranking\", fontweight=\"ultralight\", fontsize=9)\n",
    "\n",
    "    # Insert text with values next to each point\n",
    "    values_subset = values.loc[\n",
    "        (values[\"year\"] == year) & (values.index == indicator), :\n",
    "    ]\n",
    "    # Adjust these text positions\n",
    "    pos_urr = 30\n",
    "    pos_zum = -10\n",
    "    for i, row in df.iterrows():\n",
    "        ax.text(\n",
    "            row[\"Zumarraga\"] + pos_urr,\n",
    "            row[\"Urretxu\"],\n",
    "            values_subset.loc[i, \"Urretxu\"],\n",
    "            size=\"small\",\n",
    "        )\n",
    "        ax.text(\n",
    "            row[\"Zumarraga\"] + pos_zum,\n",
    "            row[\"Urretxu\"],\n",
    "            values_subset.loc[i, \"Zumarraga\"],\n",
    "            size=\"small\",\n",
    "        )\n",
    "\n",
    "    plt.show()\n",
    "\n",
    "\n",
    "# Create textbox widget\n",
    "box = widgets.BoundedIntText(\n",
    "    value=plot_years.min(),\n",
    "    min=plot_years.min(),\n",
    "    max=plot_years.max(),\n",
    "    step=1,\n",
    "    description=\"Year:\",\n",
    "    disabled=False,\n",
    ")\n",
    "\n",
    "# Create animation widget\n",
    "play = widgets.Play(\n",
    "    value=plot_years.min(),\n",
    "    min=plot_years.min(),\n",
    "    max=plot_years.max(),\n",
    "    step=1,\n",
    "    interval=500,\n",
    "    description=\"Press play\",\n",
    "    disabled=False,\n",
    ")\n",
    "\n",
    "# Link these widgets\n",
    "widgets.jslink((play, \"value\"), (box, \"value\"))\n",
    "\n",
    "# Create interactive plot\n",
    "indicator = np.sort(results[\"indicator\"].unique())\n",
    "interactive_plot = widgets.interactive(plot_indicator, year=box, indicator=indicator)\n",
    "\n",
    "# Display both\n",
    "display(interactive_plot)\n",
    "display(play)"
   ]
  },
  {
   "cell_type": "markdown",
   "id": "1ea91f5d-a4fb-4563-b03f-fb79ed967d73",
   "metadata": {},
   "source": [
    "These are some examples of indicators for which I wanted to have comprehensive visual information about the position occupied by the two towns."
   ]
  },
  {
   "cell_type": "markdown",
   "id": "d47c750d-7ff6-43e1-a572-af737fc70605",
   "metadata": {},
   "source": [
    "![](img/udalmap-162.gif)\n",
    "![](img/udalmap-111.gif)"
   ]
  },
  {
   "cell_type": "markdown",
   "id": "10ecbaa4-f4be-48fd-93b2-602cedb63c3f",
   "metadata": {},
   "source": [
    "The total population and the population density. See that actual values are displayed on both sides of the point (Urretxu on the left, Zumarraga on the right). As indicated by these values, the point lies below the diagonal for the total population, indicating that Zumarraga has more inhabitants than Urretxu. But not for the density, with Urretxu leading Zumarraga. With respect to their position, it is observed that these towns are denser than populous, although they are quite high in the ranking in both parameters."
   ]
  },
  {
   "cell_type": "markdown",
   "id": "c3024a46-a676-48f4-ad43-3f6303fd5dfa",
   "metadata": {},
   "source": [
    "![](img/udalmap-31.gif)\n",
    "![](img/udalmap-29.gif)"
   ]
  },
  {
   "cell_type": "markdown",
   "id": "89e5d912-a268-4612-8a34-6e1d8e8885c6",
   "metadata": {},
   "source": [
    "The retail commercial area per inhabitant is decreasing in both towns, leading to a loss in ranking. It is also noticeable that in Urretxu, the number was higher, but in recent years, it tends to equalize with Zumarraga. With regards to bars and restaurants, it is evident that Urretxu has always had more establishments of this kind than Zumarraga. I thought the number of them per inhabitant was high, but I discover that in the ranking, they are mostly positioned in the average."
   ]
  },
  {
   "cell_type": "markdown",
   "id": "ab34d4fc-52a6-40c9-b79f-4cef440fac9f",
   "metadata": {},
   "source": [
    "![](img/udalmap-102.gif)\n",
    "![](img/udalmap-143.gif)"
   ]
  },
  {
   "cell_type": "markdown",
   "id": "b36725f8-b90c-4c76-ae00-fda0e1a355e7",
   "metadata": {},
   "source": [
    "Finally, I take a look at two parameters in the Mobility and Environment area. The vehicle fleet per inhabitant appears below average. And the area of parks and gardens per person is extremely low in Urretxu, as I expected, since with the existing urban density, there is no space for them."
   ]
  },
  {
   "cell_type": "markdown",
   "id": "2ed5e988-edc8-4d31-b703-2c4785f29be5",
   "metadata": {},
   "source": [
    "## Conclusion"
   ]
  },
  {
   "cell_type": "markdown",
   "id": "0255bbcf-fe28-4c77-86c4-5b493534031b",
   "metadata": {
    "editable": true,
    "slideshow": {
     "slide_type": ""
    },
    "tags": []
   },
   "source": [
    "Through this project, I aimed to bring municipal indicator data to the public eye, which, despite being available, are not always easily accessible.\n",
    "\n",
    "First, I prepared some functions to access the API more conveniently. Using them as a foundation, I programmed a demo application ready to be used by any citizen. \n",
    "\n",
    "As for the analysis, I focused on the towns where I live, looking for indicators that made them stand out from the average and finally analyzing the temporal evolution of a handful of those indicators.\n",
    "\n",
    "Personally, without a specific goal or question to answer, this project satisfied my curiosity. However, I believe that these tools can be very useful for use in specific studies where one wants to comparatively analyze the development of municipalities."
   ]
  }
 ],
 "metadata": {
  "kernelspec": {
   "display_name": "my-venv-01",
   "language": "python",
   "name": "my-venv-01"
  },
  "language_info": {
   "codemirror_mode": {
    "name": "ipython",
    "version": 3
   },
   "file_extension": ".py",
   "mimetype": "text/x-python",
   "name": "python",
   "nbconvert_exporter": "python",
   "pygments_lexer": "ipython3",
   "version": "3.12.0"
  }
 },
 "nbformat": 4,
 "nbformat_minor": 5
}
