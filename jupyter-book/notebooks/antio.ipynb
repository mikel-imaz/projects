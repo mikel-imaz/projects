{
 "cells": [
  {
   "cell_type": "markdown",
   "id": "55f584eb-52ec-4b1c-884c-00575ab43608",
   "metadata": {
    "tags": []
   },
   "source": [
    "# Bar Reviews"
   ]
  },
  {
   "cell_type": "markdown",
   "id": "94981774-0cec-4982-9d9d-289674389ea3",
   "metadata": {},
   "source": [
    "![antio.jpg](img/antio.jpg)\n",
    "$^{1}$Image credit: https://www.zumarraga.eus/es/"
   ]
  },
  {
   "cell_type": "markdown",
   "id": "546298a4-de82-4b6b-b991-13dc85e28d4e",
   "metadata": {},
   "source": [
    "Feb, 2023\n",
    "> *Web Scraping, Data Analysis, Machine Learning, Sentiment Analysis*"
   ]
  },
  {
   "cell_type": "markdown",
   "id": "96bd9957-80c7-4f5e-9924-0df53e1e823f",
   "metadata": {},
   "source": [
    "## Background\n",
    "I wanted to do sentiment analysis with reviews written in Spanish. But I couldn't use `TextBlob` library, because this out-of-the-box package is trained in English. Therefore, I had to build my own machine learning model to have a positive-or-negative-opinion classifier in Spanish.\n",
    "\n",
    "Also, for the model to be trained, I needed enough reviews both good and bad. A special place came to mind, a very nice [bar-restaurant](https://bidebide.eus/) in my town, that I personally appreciate very much but [receives polarised reviews](https://goo.gl/maps/uGGQiSVaB4aYw8h86) from customers.\n",
    "\n",
    "\n",
    "\n",
    "\n"
   ]
  },
  {
   "cell_type": "code",
   "execution_count": 80,
   "id": "8ca2e476-7b2e-406d-a34c-3ea7f96f7aa0",
   "metadata": {
    "editable": true,
    "slideshow": {
     "slide_type": ""
    },
    "tags": [
     "hide-input"
    ]
   },
   "outputs": [],
   "source": [
    "# Import basic packages\n",
    "import pandas as pd\n",
    "import matplotlib.pyplot as plt\n",
    "import seaborn as sns\n",
    "\n",
    "# Auxiliaries\n",
    "import time\n",
    "import datetime\n",
    "from IPython.display import Markdown\n",
    "\n",
    "# Selenium\n",
    "from selenium import webdriver\n",
    "from selenium.webdriver.chrome.service import Service\n",
    "from selenium.webdriver.common.by import By\n",
    "\n",
    "# Parsing\n",
    "from bs4 import BeautifulSoup\n",
    "\n",
    "# Sentiment analysis, Scikit-learn\n",
    "from nltk import word_tokenize\n",
    "from sklearn.feature_extraction.text import CountVectorizer\n",
    "from sklearn.linear_model import LogisticRegression\n",
    "from sklearn.model_selection import train_test_split\n",
    "from sklearn.preprocessing import StandardScaler\n",
    "from sklearn.metrics import confusion_matrix, classification_report"
   ]
  },
  {
   "cell_type": "markdown",
   "id": "c1d0b35a-d8be-4f32-bda1-fc384aa332bb",
   "metadata": {
    "tags": []
   },
   "source": [
    "## Web scraping the data\n",
    "I had to scrape the reviews from this site in Google Maps. The webpage is dynamic, meaning I had to write some lines of code to sequentially operate on it, scrolling down pages and clicking on buttons before fetching the information."
   ]
  },
  {
   "cell_type": "markdown",
   "id": "5720a13a-8c45-4343-aab6-6233f5763008",
   "metadata": {},
   "source": [
    "![antio-bidebide.png](img/antio-bidebide.png)"
   ]
  },
  {
   "cell_type": "code",
   "execution_count": 81,
   "id": "f7b2d6ae-3c38-47dd-88e6-1804ddd6fecd",
   "metadata": {
    "tags": [
     "hide-input"
    ]
   },
   "outputs": [
    {
     "name": "stdout",
     "output_type": "stream",
     "text": [
      "Page title -> Bar-Restaurante Bidebide - Zumarraga - Google Maps\n"
     ]
    },
    {
     "data": {
      "text/html": [
       "<div>\n",
       "<style scoped>\n",
       "    .dataframe tbody tr th:only-of-type {\n",
       "        vertical-align: middle;\n",
       "    }\n",
       "\n",
       "    .dataframe tbody tr th {\n",
       "        vertical-align: top;\n",
       "    }\n",
       "\n",
       "    .dataframe thead th {\n",
       "        text-align: right;\n",
       "    }\n",
       "</style>\n",
       "<table border=\"1\" class=\"dataframe\">\n",
       "  <thead>\n",
       "    <tr style=\"text-align: right;\">\n",
       "      <th></th>\n",
       "      <th>name</th>\n",
       "      <th>date</th>\n",
       "      <th>stars</th>\n",
       "      <th>text</th>\n",
       "    </tr>\n",
       "  </thead>\n",
       "  <tbody>\n",
       "    <tr>\n",
       "      <th>0</th>\n",
       "      <td>Alberto Urtaza</td>\n",
       "      <td>Hace un año</td>\n",
       "      <td>4 estrellas</td>\n",
       "      <td>Excelente trato y buena relación precio-calida...</td>\n",
       "    </tr>\n",
       "    <tr>\n",
       "      <th>1</th>\n",
       "      <td>Mikel Landa</td>\n",
       "      <td>Hace 5 meses</td>\n",
       "      <td>5 estrellas</td>\n",
       "      <td>Muy buen menú con mucha variedad y buen produc...</td>\n",
       "    </tr>\n",
       "    <tr>\n",
       "      <th>2</th>\n",
       "      <td>Francisco Javier Martin Mateo</td>\n",
       "      <td>Hace 4 meses</td>\n",
       "      <td>4 estrellas</td>\n",
       "      <td>Comida buenísima y buena atención, vistas mara...</td>\n",
       "    </tr>\n",
       "    <tr>\n",
       "      <th>3</th>\n",
       "      <td>VICTOR T O</td>\n",
       "      <td>Hace 7 meses</td>\n",
       "      <td>5 estrellas</td>\n",
       "      <td>He comido el menú del día por 13 euros, y tien...</td>\n",
       "    </tr>\n",
       "    <tr>\n",
       "      <th>4</th>\n",
       "      <td>Mari Carmen Merino</td>\n",
       "      <td>Hace 3 meses</td>\n",
       "      <td>4 estrellas</td>\n",
       "      <td>Restaurante grande con unos menús muy ricos y ...</td>\n",
       "    </tr>\n",
       "    <tr>\n",
       "      <th>...</th>\n",
       "      <td>...</td>\n",
       "      <td>...</td>\n",
       "      <td>...</td>\n",
       "      <td>...</td>\n",
       "    </tr>\n",
       "    <tr>\n",
       "      <th>454</th>\n",
       "      <td>Aitor R</td>\n",
       "      <td>Hace 7 meses</td>\n",
       "      <td>4 estrellas</td>\n",
       "      <td></td>\n",
       "    </tr>\n",
       "    <tr>\n",
       "      <th>455</th>\n",
       "      <td>sheila perez</td>\n",
       "      <td>Hace 8 meses</td>\n",
       "      <td>5 estrellas</td>\n",
       "      <td></td>\n",
       "    </tr>\n",
       "    <tr>\n",
       "      <th>456</th>\n",
       "      <td>Alejandro Alban</td>\n",
       "      <td>Hace un año</td>\n",
       "      <td>3 estrellas</td>\n",
       "      <td></td>\n",
       "    </tr>\n",
       "    <tr>\n",
       "      <th>457</th>\n",
       "      <td>Cristhian Frutos</td>\n",
       "      <td>Hace 2 años</td>\n",
       "      <td>3 estrellas</td>\n",
       "      <td></td>\n",
       "    </tr>\n",
       "    <tr>\n",
       "      <th>458</th>\n",
       "      <td>JM I</td>\n",
       "      <td>Hace 2 años</td>\n",
       "      <td>3 estrellas</td>\n",
       "      <td></td>\n",
       "    </tr>\n",
       "  </tbody>\n",
       "</table>\n",
       "<p>459 rows × 4 columns</p>\n",
       "</div>"
      ],
      "text/plain": [
       "                              name          date          stars  \\\n",
       "0                   Alberto Urtaza   Hace un año   4 estrellas    \n",
       "1                      Mikel Landa  Hace 5 meses   5 estrellas    \n",
       "2    Francisco Javier Martin Mateo  Hace 4 meses   4 estrellas    \n",
       "3                       VICTOR T O  Hace 7 meses   5 estrellas    \n",
       "4               Mari Carmen Merino  Hace 3 meses   4 estrellas    \n",
       "..                             ...           ...            ...   \n",
       "454                        Aitor R  Hace 7 meses   4 estrellas    \n",
       "455                   sheila perez  Hace 8 meses   5 estrellas    \n",
       "456                Alejandro Alban   Hace un año   3 estrellas    \n",
       "457               Cristhian Frutos   Hace 2 años   3 estrellas    \n",
       "458                           JM I   Hace 2 años   3 estrellas    \n",
       "\n",
       "                                                  text  \n",
       "0    Excelente trato y buena relación precio-calida...  \n",
       "1    Muy buen menú con mucha variedad y buen produc...  \n",
       "2    Comida buenísima y buena atención, vistas mara...  \n",
       "3    He comido el menú del día por 13 euros, y tien...  \n",
       "4    Restaurante grande con unos menús muy ricos y ...  \n",
       "..                                                 ...  \n",
       "454                                                     \n",
       "455                                                     \n",
       "456                                                     \n",
       "457                                                     \n",
       "458                                                     \n",
       "\n",
       "[459 rows x 4 columns]"
      ]
     },
     "execution_count": 81,
     "metadata": {},
     "output_type": "execute_result"
    }
   ],
   "source": [
    "# Start the session\n",
    "service = Service(executable_path=\"/driver\") # chromedriver.exe location\n",
    "driver = webdriver.Chrome(service=service)\n",
    "\n",
    "# Navigate to the webpage\n",
    "url = \"https://www.google.com/maps/place/Bar-Restaurante+Bidebide+-+Zumarraga/@43.0916521,-2.3038457,15z/data=!4m7!3m6!1s0x0:0xbbdffd835d70d9e4!8m2!3d43.0916521!4d-2.3038457!9m1!1b1\"\n",
    "driver.get(url)\n",
    "\n",
    "# Agree with cookies in Google consent page\n",
    "driver.find_element(by=By.XPATH,\n",
    "                    value='//*[@id=\"yDmH0d\"]/c-wiz/div/div/div/div[2]/div[1]/div[3]/div[1]/div[1]/form[2]/div/div/button/span')\\\n",
    "                    .click()\n",
    "\n",
    "# Request page title\n",
    "title = driver.title\n",
    "print(f\"Page title -> {title}\")\n",
    "\n",
    "# Find the total number of reviews\n",
    "number_reviews = driver.find_element(by=By.XPATH,\n",
    "                                     value='//*[@id=\"QA0Szd\"]/div/div/div[1]/div[2]/div/div[1]/div/div/div[2]/div[1]/div/div[2]/div[2]')\n",
    "\n",
    "n_reviews = int(number_reviews.text.split(\" \")[0])\n",
    "\n",
    "# Find scrollable element\n",
    "scrollable_div = driver.find_element(by=By.XPATH,\n",
    "                                     value='//*[@id=\"QA0Szd\"]/div/div/div[1]/div[2]/div/div[1]/div/div/div[2]')\n",
    "\n",
    "# Scroll down as many times as necessary to load all reviews\n",
    "for i in range(0,(round(n_reviews/10 - 1))):\n",
    "    driver.execute_script('arguments[0].scrollTop = arguments[0].scrollHeight', scrollable_div)\n",
    "    time.sleep(1)\n",
    "\n",
    "# Click 'Más' buttons to reveal complete text of reviews\n",
    "buttons = driver.find_elements(by=By.TAG_NAME,\n",
    "                               value=\"button\")\n",
    "for button in buttons:\n",
    "    if button.text == \"Más\":\n",
    "        button.click()\n",
    "        \n",
    "# Wait\n",
    "time.sleep(5)\n",
    "\n",
    "\n",
    "# Parse html page\n",
    "soup = BeautifulSoup(driver.page_source)\n",
    "\n",
    "# Init\n",
    "names = []\n",
    "dates = []\n",
    "stars = []\n",
    "texts = []\n",
    "\n",
    "# Search for the data\n",
    "for review in soup.find_all('div', attrs={'jstcache':'393'}):\n",
    "    \n",
    "    # Extract stars\n",
    "    star = review.find('span', attrs={'class':'kvMYJc'})\n",
    "    if star is None:\n",
    "        stars.append('')\n",
    "    else:\n",
    "        star = star[\"aria-label\"]\n",
    "        stars.append(star)\n",
    "    \n",
    "    # Extract name\n",
    "    name = review.find('span', attrs={'jstcache':'358'})\n",
    "    if name is None:\n",
    "        names.append('')\n",
    "    else:\n",
    "        name = name.get_text(strip=True)\n",
    "        names.append(name)\n",
    "    \n",
    "    # Extract date\n",
    "    date = review.find('span', attrs={'jstcache':'139'})\n",
    "    if date is None:\n",
    "        dates.append('')\n",
    "    else:\n",
    "        date = date.get_text(strip=True)\n",
    "        dates.append(date)\n",
    "    \n",
    "    # Extract text\n",
    "    text = review.find('span', attrs={'jstcache':'292'})\n",
    "    if text is None:\n",
    "        dates.append('')\n",
    "    else:\n",
    "        text = text.get_text(strip=True)\n",
    "        texts.append(text)\n",
    "\n",
    "    \n",
    "\n",
    "# Store listed reviews in a pandas dataframe\n",
    "antio = pd.DataFrame({\"name\": names, \"date\": dates, \"stars\": stars, \"text\": texts})\n",
    "\n",
    "# End browser the session\n",
    "driver.quit()\n",
    "\n",
    "# Display dataframe\n",
    "antio"
   ]
  },
  {
   "cell_type": "markdown",
   "id": "8fd79d39-5706-4ffb-a8aa-950776fdf2f8",
   "metadata": {},
   "source": [
    "## Data processing\n",
    "The acquired data needed some processing before proceeding with the analysis:\n",
    "- Extract stars as an integer from the string type stars column.\n",
    "- Convert date to the year in which the review was written.\n",
    "- Rearrange the pandas dataframe: desired columns, names, order, index.\n",
    "- Finally, fill in missing (NaN) values in text with empty strings."
   ]
  },
  {
   "cell_type": "code",
   "execution_count": 82,
   "id": "15a9679e-e1a5-4ee4-a909-bd3262467b25",
   "metadata": {
    "tags": [
     "hide-input"
    ]
   },
   "outputs": [
    {
     "name": "stdout",
     "output_type": "stream",
     "text": [
      "<class 'pandas.core.frame.DataFrame'>\n",
      "Int64Index: 459 entries, 2022 to 2021\n",
      "Data columns (total 3 columns):\n",
      " #   Column  Non-Null Count  Dtype \n",
      "---  ------  --------------  ----- \n",
      " 0   name    459 non-null    object\n",
      " 1   stars   459 non-null    int32 \n",
      " 2   text    459 non-null    object\n",
      "dtypes: int32(1), object(2)\n",
      "memory usage: 12.6+ KB\n",
      "None\n"
     ]
    },
    {
     "data": {
      "text/html": [
       "<div>\n",
       "<style scoped>\n",
       "    .dataframe tbody tr th:only-of-type {\n",
       "        vertical-align: middle;\n",
       "    }\n",
       "\n",
       "    .dataframe tbody tr th {\n",
       "        vertical-align: top;\n",
       "    }\n",
       "\n",
       "    .dataframe thead th {\n",
       "        text-align: right;\n",
       "    }\n",
       "</style>\n",
       "<table border=\"1\" class=\"dataframe\">\n",
       "  <thead>\n",
       "    <tr style=\"text-align: right;\">\n",
       "      <th></th>\n",
       "      <th>name</th>\n",
       "      <th>stars</th>\n",
       "      <th>text</th>\n",
       "    </tr>\n",
       "    <tr>\n",
       "      <th>date</th>\n",
       "      <th></th>\n",
       "      <th></th>\n",
       "      <th></th>\n",
       "    </tr>\n",
       "  </thead>\n",
       "  <tbody>\n",
       "    <tr>\n",
       "      <th>2022</th>\n",
       "      <td>Alberto Urtaza</td>\n",
       "      <td>4</td>\n",
       "      <td>Excelente trato y buena relación precio-calida...</td>\n",
       "    </tr>\n",
       "    <tr>\n",
       "      <th>2022</th>\n",
       "      <td>Mikel Landa</td>\n",
       "      <td>5</td>\n",
       "      <td>Muy buen menú con mucha variedad y buen produc...</td>\n",
       "    </tr>\n",
       "    <tr>\n",
       "      <th>2022</th>\n",
       "      <td>Francisco Javier Martin Mateo</td>\n",
       "      <td>4</td>\n",
       "      <td>Comida buenísima y buena atención, vistas mara...</td>\n",
       "    </tr>\n",
       "    <tr>\n",
       "      <th>2022</th>\n",
       "      <td>VICTOR T O</td>\n",
       "      <td>5</td>\n",
       "      <td>He comido el menú del día por 13 euros, y tien...</td>\n",
       "    </tr>\n",
       "    <tr>\n",
       "      <th>2022</th>\n",
       "      <td>Mari Carmen Merino</td>\n",
       "      <td>4</td>\n",
       "      <td>Restaurante grande con unos menús muy ricos y ...</td>\n",
       "    </tr>\n",
       "  </tbody>\n",
       "</table>\n",
       "</div>"
      ],
      "text/plain": [
       "                               name  stars  \\\n",
       "date                                         \n",
       "2022                 Alberto Urtaza      4   \n",
       "2022                    Mikel Landa      5   \n",
       "2022  Francisco Javier Martin Mateo      4   \n",
       "2022                     VICTOR T O      5   \n",
       "2022             Mari Carmen Merino      4   \n",
       "\n",
       "                                                   text  \n",
       "date                                                     \n",
       "2022  Excelente trato y buena relación precio-calida...  \n",
       "2022  Muy buen menú con mucha variedad y buen produc...  \n",
       "2022  Comida buenísima y buena atención, vistas mara...  \n",
       "2022  He comido el menú del día por 13 euros, y tien...  \n",
       "2022  Restaurante grande con unos menús muy ricos y ...  "
      ]
     },
     "execution_count": 82,
     "metadata": {},
     "output_type": "execute_result"
    }
   ],
   "source": [
    "# Convert stars column from string to number\n",
    "antio[\"stars_n\"] = [stars[1] for stars in antio[\"stars\"]]\n",
    "antio[\"stars_n\"] = antio[\"stars_n\"].astype(str).astype(int)\n",
    "\n",
    "# Convert date to the year in which the review was written\n",
    "years = []\n",
    "\n",
    "for text in antio[\"date\"]:\n",
    "    \n",
    "    # Replace \"u\" to \"1\"\n",
    "    if text[5] == \"u\":\n",
    "        number = \"1\"\n",
    "    else:\n",
    "        number = text[5:7] # Number may take 2 characters\n",
    "    \n",
    "    # Calculate year from \"months ago\"\n",
    "    actual_month = datetime.date.today().month\n",
    "    actual_year = datetime.date.today().year\n",
    "    \n",
    "    if \"mes\" in text:\n",
    "        if (actual_month - int(number)) < 0:\n",
    "            year = actual_year - 1\n",
    "        else:\n",
    "            year = actual_year\n",
    "            \n",
    "    # Calculate year from \"years ago\"      \n",
    "    elif \"año\" in text:\n",
    "        year = actual_year - int(number)\n",
    "    \n",
    "    # Append to list of years\n",
    "    years.append(year)\n",
    "\n",
    "antio[\"date_n\"] = years\n",
    "\n",
    "# Rearrange dataframe with columns name, date, stars, text\n",
    "antio = antio.iloc[:, [0, 5, 4, 3]]\n",
    "antio = antio.rename(columns={\"date_n\": \"date\", \"stars_n\": \"stars\"})\n",
    "antio = antio.set_index(\"date\")\n",
    "\n",
    "# Replace missing values\n",
    "antio = antio.fillna(\"\")\n",
    "\n",
    "# Show dataframe info\n",
    "print(antio.info())\n",
    "\n",
    "# Print head\n",
    "antio.head()"
   ]
  },
  {
   "cell_type": "markdown",
   "id": "6ba23f3f-7d1c-497c-8bcd-d8d6a8061328",
   "metadata": {},
   "source": [
    "## Data analysis"
   ]
  },
  {
   "cell_type": "markdown",
   "id": "4f3d47f3-0211-4927-90fc-19558c09fe59",
   "metadata": {},
   "source": [
    "### Number of reviews per year"
   ]
  },
  {
   "cell_type": "code",
   "execution_count": 83,
   "id": "777de34b-8a30-4377-a9bc-3cf2141d906b",
   "metadata": {
    "tags": [
     "hide-input"
    ]
   },
   "outputs": [
    {
     "data": {
      "image/png": "[encoded data removed]",
      "text/plain": [
       "<Figure size 540x360 with 1 Axes>"
      ]
     },
     "metadata": {
      "needs_background": "light"
     },
     "output_type": "display_data"
    }
   ],
   "source": [
    "# Count reviews per year\n",
    "reviews_yearly = antio.groupby(antio.index)[\"name\"].count()\n",
    "\n",
    "# Plot\n",
    "fig, ax = plt.subplots(figsize=(7.5, 5))\n",
    "\n",
    "reviews_yearly.plot(ax=ax, kind=\"bar\", color=\"teal\")\n",
    "\n",
    "ax.grid(axis=\"y\")\n",
    "ax.set_axisbelow(True)\n",
    "ax.tick_params(axis='x', labelsize=14, rotation=0)\n",
    "ax.tick_params(axis='y', labelsize=14)\n",
    "ax.set_title(\"Reviews at Google Maps for Bidebide\", size=15)\n",
    "ax.set_xlabel(\"\")\n",
    "ax.set_ylabel(\"# of reviews\", size=14)\n",
    "sns.despine()\n",
    "\n",
    "plt.show()"
   ]
  },
  {
   "cell_type": "markdown",
   "id": "0aa39afd-7cad-4811-89d3-224a0918c687",
   "metadata": {},
   "source": [
    "Distribution over the years of the number of reviews on Google Maps."
   ]
  },
  {
   "cell_type": "markdown",
   "id": "ba4d751d-9ca9-40b5-9f1b-b2327d533002",
   "metadata": {},
   "source": [
    "### Stars’ distribution"
   ]
  },
  {
   "cell_type": "code",
   "execution_count": 84,
   "id": "7a3c9a6f-96ca-498a-b44a-fd5c9592d183",
   "metadata": {
    "tags": [
     "hide-input"
    ]
   },
   "outputs": [
    {
     "data": {
      "image/png": "[encoded data removed]",
      "text/plain": [
       "<Figure size 540x360 with 1 Axes>"
      ]
     },
     "metadata": {
      "needs_background": "light"
     },
     "output_type": "display_data"
    }
   ],
   "source": [
    "# Count stars\n",
    "stars_count = antio[\"stars\"].value_counts().to_frame()\n",
    "\n",
    "# Define a dataframe with all possibilities: 1, 2, 3, 4, 5 stars\n",
    "frame = pd.DataFrame(index=[1, 2, 3, 4, 5])\n",
    "\n",
    "# Merge them to build a dataframe ready to plot\n",
    "stars = frame.merge(stars_count, how=\"left\",\n",
    "                    left_on=frame.index, right_on=stars_count.index)\n",
    "stars = stars.rename(columns={\"key_0\": \"rate\", \"stars\": \"number\"})\n",
    "stars = stars.set_index(\"rate\").fillna(0).astype(int)\n",
    "\n",
    "# Plot\n",
    "fig, ax = plt.subplots(figsize=(7.5, 5))\n",
    "\n",
    "stars.plot(ax=ax, kind=\"bar\", color=\"teal\")\n",
    "\n",
    "ax.grid(axis=\"y\")\n",
    "ax.set_axisbelow(True)\n",
    "ax.tick_params(axis='x', labelsize=16, rotation=0)\n",
    "ax.tick_params(axis='y', labelsize=14)\n",
    "ax.set_title(\"Reviews rating\", size=16)\n",
    "ax.set_xlabel(\"Stars\", size=15)\n",
    "ax.set_ylabel(\"# of reviews\", size=15)\n",
    "ax.bar_label(ax.containers[0], size=14)\n",
    "ax.legend().set_visible(False)\n",
    "sns.despine()\n",
    "\n",
    "plt.show()"
   ]
  },
  {
   "cell_type": "markdown",
   "id": "be17aa2e-c010-4c2a-9701-90b3d5d6b2af",
   "metadata": {},
   "source": [
    "Let's calculate the total score."
   ]
  },
  {
   "cell_type": "code",
   "execution_count": 85,
   "id": "3093b778-37ce-4ec5-91e7-4a906e4e7c4a",
   "metadata": {
    "tags": [
     "hide-input"
    ]
   },
   "outputs": [
    {
     "data": {
      "text/markdown": [
       "General rating --> **3.9**"
      ],
      "text/plain": [
       "<IPython.core.display.Markdown object>"
      ]
     },
     "metadata": {},
     "output_type": "display_data"
    }
   ],
   "source": [
    "# Calculate de average value of rating\n",
    "n_reviews = stars[\"number\"].sum()\n",
    "rating = 0\n",
    "\n",
    "for stars, number in zip(stars.index, stars[\"number\"]):\n",
    "    rating += stars * number\n",
    "    \n",
    "rating = rating / n_reviews\n",
    "\n",
    "display(Markdown(f\"General rating --> **{rating:.1f}**\"))"
   ]
  },
  {
   "cell_type": "markdown",
   "id": "d1247ab5-5011-4124-8e22-be64a669971b",
   "metadata": {},
   "source": [
    "Which has to be the same rating score that is calculated and shown on Google."
   ]
  },
  {
   "cell_type": "markdown",
   "id": "d1b6a77d-516f-4492-960a-21db61730108",
   "metadata": {},
   "source": [
    "## Sentiment analysis"
   ]
  },
  {
   "cell_type": "markdown",
   "id": "476d7a41-de14-4a89-a240-1c7944842bfc",
   "metadata": {},
   "source": [
    "### Data labeling"
   ]
  },
  {
   "cell_type": "markdown",
   "id": "51874fd2-3046-4a6f-b517-71f340129f38",
   "metadata": {},
   "source": [
    "To build the model, we first we have to label the reviews as:  \n",
    "\n",
    "- 0 : if the review is negative.\n",
    "- 1 : if the review is positive.\n",
    "\n",
    "Depending on the quantity, reading each text and assigning it the corresponding label can become tedious. Anyway, at this stage this task cannot be automated and needs to be done by a human intelligence (a simple job, also known as *Mechanical Turk*).\n",
    "\n",
    "For my convenience, though, I will trust customers and I am going to automate it, considering as positive the reviews with 4 or 5 stars —so reviews with 1, 2 or 3 stars will be considered negative."
   ]
  },
  {
   "cell_type": "code",
   "execution_count": 86,
   "id": "09447a1d-6e55-447c-883d-ab468eb1cd8e",
   "metadata": {
    "tags": [
     "hide-input"
    ]
   },
   "outputs": [
    {
     "name": "stdout",
     "output_type": "stream",
     "text": [
      "193 'texted' reviews out of 459 were selected.\n"
     ]
    },
    {
     "data": {
      "text/html": [
       "<div>\n",
       "<style scoped>\n",
       "    .dataframe tbody tr th:only-of-type {\n",
       "        vertical-align: middle;\n",
       "    }\n",
       "\n",
       "    .dataframe tbody tr th {\n",
       "        vertical-align: top;\n",
       "    }\n",
       "\n",
       "    .dataframe thead th {\n",
       "        text-align: right;\n",
       "    }\n",
       "</style>\n",
       "<table border=\"1\" class=\"dataframe\">\n",
       "  <thead>\n",
       "    <tr style=\"text-align: right;\">\n",
       "      <th></th>\n",
       "      <th>label</th>\n",
       "      <th>review</th>\n",
       "    </tr>\n",
       "  </thead>\n",
       "  <tbody>\n",
       "    <tr>\n",
       "      <th>0</th>\n",
       "      <td>1</td>\n",
       "      <td>Excelente trato y buena relación precio-calida...</td>\n",
       "    </tr>\n",
       "    <tr>\n",
       "      <th>1</th>\n",
       "      <td>1</td>\n",
       "      <td>Muy buen menú con mucha variedad y buen produc...</td>\n",
       "    </tr>\n",
       "    <tr>\n",
       "      <th>2</th>\n",
       "      <td>1</td>\n",
       "      <td>Comida buenísima y buena atención, vistas mara...</td>\n",
       "    </tr>\n",
       "    <tr>\n",
       "      <th>3</th>\n",
       "      <td>1</td>\n",
       "      <td>He comido el menú del día por 13 euros, y tien...</td>\n",
       "    </tr>\n",
       "    <tr>\n",
       "      <th>4</th>\n",
       "      <td>1</td>\n",
       "      <td>Restaurante grande con unos menús muy ricos y ...</td>\n",
       "    </tr>\n",
       "    <tr>\n",
       "      <th>...</th>\n",
       "      <td>...</td>\n",
       "      <td>...</td>\n",
       "    </tr>\n",
       "    <tr>\n",
       "      <th>188</th>\n",
       "      <td>1</td>\n",
       "      <td>(Traducido por Google) Gran lugar\\n\\n(Original...</td>\n",
       "    </tr>\n",
       "    <tr>\n",
       "      <th>189</th>\n",
       "      <td>1</td>\n",
       "      <td>(Traducido por Google) Increíble vista\\n\\n(Ori...</td>\n",
       "    </tr>\n",
       "    <tr>\n",
       "      <th>190</th>\n",
       "      <td>1</td>\n",
       "      <td>(Traducido por Google) Hermoso menú y temperat...</td>\n",
       "    </tr>\n",
       "    <tr>\n",
       "      <th>191</th>\n",
       "      <td>1</td>\n",
       "      <td>(Traducido por Google) Gran lugar\\n\\n(Original...</td>\n",
       "    </tr>\n",
       "    <tr>\n",
       "      <th>192</th>\n",
       "      <td>0</td>\n",
       "      <td>(Traducido por Google) El restaurante\\n\\n(Orig...</td>\n",
       "    </tr>\n",
       "  </tbody>\n",
       "</table>\n",
       "<p>193 rows × 2 columns</p>\n",
       "</div>"
      ],
      "text/plain": [
       "     label                                             review\n",
       "0        1  Excelente trato y buena relación precio-calida...\n",
       "1        1  Muy buen menú con mucha variedad y buen produc...\n",
       "2        1  Comida buenísima y buena atención, vistas mara...\n",
       "3        1  He comido el menú del día por 13 euros, y tien...\n",
       "4        1  Restaurante grande con unos menús muy ricos y ...\n",
       "..     ...                                                ...\n",
       "188      1  (Traducido por Google) Gran lugar\\n\\n(Original...\n",
       "189      1  (Traducido por Google) Increíble vista\\n\\n(Ori...\n",
       "190      1  (Traducido por Google) Hermoso menú y temperat...\n",
       "191      1  (Traducido por Google) Gran lugar\\n\\n(Original...\n",
       "192      0  (Traducido por Google) El restaurante\\n\\n(Orig...\n",
       "\n",
       "[193 rows x 2 columns]"
      ]
     },
     "execution_count": 86,
     "metadata": {},
     "output_type": "execute_result"
    }
   ],
   "source": [
    "# Copy to a new dataframe only reviews containing text\n",
    "antiox = antio[antio[\"text\"] != \"\"].copy()\n",
    "\n",
    "# Print how many were selected\n",
    "print(f\"{len(antiox)} 'texted' reviews out of {len(antio)} were selected.\")\n",
    "\n",
    "# Create new column with labels according to number of stars\n",
    "antiox[\"label\"] = [0 if star < 4 else 1 for star in antiox[\"stars\"]]\n",
    "\n",
    "# Rearrange dataframe to containn only label and text, renamed \"review\"\n",
    "antiox = antiox.reset_index().iloc[:, [4, 3]]\n",
    "antiox = antiox.rename(columns={\"text\": \"review\"})\n",
    "\n",
    "antiox"
   ]
  },
  {
   "cell_type": "code",
   "execution_count": 87,
   "id": "9640c1ed-aa35-4819-b64a-e738d67fb9e0",
   "metadata": {
    "tags": [
     "hide-input"
    ]
   },
   "outputs": [
    {
     "data": {
      "image/png": "[encoded data removed]",
      "text/plain": [
       "<Figure size 540x360 with 1 Axes>"
      ]
     },
     "metadata": {
      "needs_background": "light"
     },
     "output_type": "display_data"
    }
   ],
   "source": [
    "# Count plot\n",
    "fig, ax = plt.subplots(figsize=(7.5, 5))\n",
    "\n",
    "antiox[\"label\"].value_counts().sort_values().plot(ax=ax, kind=\"bar\", color=\"teal\")\n",
    "\n",
    "ax.grid(axis=\"y\")\n",
    "ax.set_axisbelow(True)\n",
    "ax.tick_params(axis='x', labelsize=16, rotation=0)\n",
    "ax.tick_params(axis='y', labelsize=14)\n",
    "ax.set_title(\"Polarity of texted reviews\", size=16)\n",
    "ax.set_xlabel(\"Label\", size=15)\n",
    "ax.set_ylabel(\"# of reviews\", size=15)\n",
    "ax.bar_label(ax.containers[0], size=14)\n",
    "ax.legend().set_visible(False)\n",
    "ax.annotate(\"\\U0001F603\", (1, 40), ha=\"center\", size=30) # Smiling emoji\n",
    "ax.annotate(\"\\U0001F620\", (0, 40), ha=\"center\", size=30) # Angry emoji\n",
    "sns.despine()\n",
    "\n",
    "plt.show()"
   ]
  },
  {
   "cell_type": "markdown",
   "id": "097fd2f0-8e8a-4a33-802d-6a1e04e5a33c",
   "metadata": {},
   "source": [
    "We can see that there is an imbalance in the binary target variable (the label) we would like to predict with the model. The proportion is around 1:2, and even if the imbalance is not extreme, it is going to affect the predicted results, because the class of interest is the one less represented (it is more interesting to automatically detect negative reviews, i.e. \"0\"s, to be notified and deal with them) and therefore there is less information available to it. I will address this issue while modelling."
   ]
  },
  {
   "cell_type": "markdown",
   "id": "636e478a-b5b8-4a31-a63b-157dd02c92b4",
   "metadata": {},
   "source": [
    "### Bag-of-words\n",
    "Next, we have to transform our text data to numeric form. A machine learning model cannot work with the text data directly, but rather with numeric features created from the data. A basic method is the *bag-of-words* (BOW): a bag-of-words approach describes the frequency of words within a document. It basically builds a vocabulary of the words in the document, keeping track of their frequencies (losing word order and grammar rules: it is like throwing all words in a bag!)."
   ]
  },
  {
   "cell_type": "code",
   "execution_count": 88,
   "id": "7e98203d-e7a6-46be-9123-ce143f1c4def",
   "metadata": {
    "tags": [
     "hide-input"
    ]
   },
   "outputs": [
    {
     "data": {
      "text/html": [
       "<div>\n",
       "<style scoped>\n",
       "    .dataframe tbody tr th:only-of-type {\n",
       "        vertical-align: middle;\n",
       "    }\n",
       "\n",
       "    .dataframe tbody tr th {\n",
       "        vertical-align: top;\n",
       "    }\n",
       "\n",
       "    .dataframe thead th {\n",
       "        text-align: right;\n",
       "    }\n",
       "</style>\n",
       "<table border=\"1\" class=\"dataframe\">\n",
       "  <thead>\n",
       "    <tr style=\"text-align: right;\">\n",
       "      <th></th>\n",
       "      <th>abrir</th>\n",
       "      <th>abrir original</th>\n",
       "      <th>abrir ánimo</th>\n",
       "      <th>abrumado</th>\n",
       "      <th>abrumado lástima</th>\n",
       "      <th>abundante</th>\n",
       "      <th>abundante personal</th>\n",
       "      <th>acabar</th>\n",
       "      <th>acabar frerir</th>\n",
       "      <th>acabar gente</th>\n",
       "      <th>...</th>\n",
       "      <th>zerbitzatzeko ondorioz</th>\n",
       "      <th>zona</th>\n",
       "      <th>zona acerco</th>\n",
       "      <th>zumaia</th>\n",
       "      <th>zumaia arantzazu</th>\n",
       "      <th>ánimo</th>\n",
       "      <th>ánimo seguiremos</th>\n",
       "      <th>ún</th>\n",
       "      <th>ún camarero</th>\n",
       "      <th>único</th>\n",
       "    </tr>\n",
       "  </thead>\n",
       "  <tbody>\n",
       "    <tr>\n",
       "      <th>0</th>\n",
       "      <td>0</td>\n",
       "      <td>0</td>\n",
       "      <td>0</td>\n",
       "      <td>0</td>\n",
       "      <td>0</td>\n",
       "      <td>0</td>\n",
       "      <td>0</td>\n",
       "      <td>0</td>\n",
       "      <td>0</td>\n",
       "      <td>0</td>\n",
       "      <td>...</td>\n",
       "      <td>0</td>\n",
       "      <td>0</td>\n",
       "      <td>0</td>\n",
       "      <td>0</td>\n",
       "      <td>0</td>\n",
       "      <td>0</td>\n",
       "      <td>0</td>\n",
       "      <td>0</td>\n",
       "      <td>0</td>\n",
       "      <td>0</td>\n",
       "    </tr>\n",
       "    <tr>\n",
       "      <th>1</th>\n",
       "      <td>0</td>\n",
       "      <td>0</td>\n",
       "      <td>0</td>\n",
       "      <td>0</td>\n",
       "      <td>0</td>\n",
       "      <td>0</td>\n",
       "      <td>0</td>\n",
       "      <td>0</td>\n",
       "      <td>0</td>\n",
       "      <td>0</td>\n",
       "      <td>...</td>\n",
       "      <td>0</td>\n",
       "      <td>0</td>\n",
       "      <td>0</td>\n",
       "      <td>0</td>\n",
       "      <td>0</td>\n",
       "      <td>0</td>\n",
       "      <td>0</td>\n",
       "      <td>0</td>\n",
       "      <td>0</td>\n",
       "      <td>0</td>\n",
       "    </tr>\n",
       "    <tr>\n",
       "      <th>2</th>\n",
       "      <td>0</td>\n",
       "      <td>0</td>\n",
       "      <td>0</td>\n",
       "      <td>0</td>\n",
       "      <td>0</td>\n",
       "      <td>0</td>\n",
       "      <td>0</td>\n",
       "      <td>0</td>\n",
       "      <td>0</td>\n",
       "      <td>0</td>\n",
       "      <td>...</td>\n",
       "      <td>0</td>\n",
       "      <td>0</td>\n",
       "      <td>0</td>\n",
       "      <td>0</td>\n",
       "      <td>0</td>\n",
       "      <td>0</td>\n",
       "      <td>0</td>\n",
       "      <td>0</td>\n",
       "      <td>0</td>\n",
       "      <td>0</td>\n",
       "    </tr>\n",
       "    <tr>\n",
       "      <th>3</th>\n",
       "      <td>0</td>\n",
       "      <td>0</td>\n",
       "      <td>0</td>\n",
       "      <td>0</td>\n",
       "      <td>0</td>\n",
       "      <td>0</td>\n",
       "      <td>0</td>\n",
       "      <td>0</td>\n",
       "      <td>0</td>\n",
       "      <td>0</td>\n",
       "      <td>...</td>\n",
       "      <td>0</td>\n",
       "      <td>1</td>\n",
       "      <td>1</td>\n",
       "      <td>0</td>\n",
       "      <td>0</td>\n",
       "      <td>0</td>\n",
       "      <td>0</td>\n",
       "      <td>0</td>\n",
       "      <td>0</td>\n",
       "      <td>0</td>\n",
       "    </tr>\n",
       "    <tr>\n",
       "      <th>4</th>\n",
       "      <td>0</td>\n",
       "      <td>0</td>\n",
       "      <td>0</td>\n",
       "      <td>0</td>\n",
       "      <td>0</td>\n",
       "      <td>0</td>\n",
       "      <td>0</td>\n",
       "      <td>0</td>\n",
       "      <td>0</td>\n",
       "      <td>0</td>\n",
       "      <td>...</td>\n",
       "      <td>0</td>\n",
       "      <td>0</td>\n",
       "      <td>0</td>\n",
       "      <td>0</td>\n",
       "      <td>0</td>\n",
       "      <td>0</td>\n",
       "      <td>0</td>\n",
       "      <td>0</td>\n",
       "      <td>0</td>\n",
       "      <td>0</td>\n",
       "    </tr>\n",
       "    <tr>\n",
       "      <th>...</th>\n",
       "      <td>...</td>\n",
       "      <td>...</td>\n",
       "      <td>...</td>\n",
       "      <td>...</td>\n",
       "      <td>...</td>\n",
       "      <td>...</td>\n",
       "      <td>...</td>\n",
       "      <td>...</td>\n",
       "      <td>...</td>\n",
       "      <td>...</td>\n",
       "      <td>...</td>\n",
       "      <td>...</td>\n",
       "      <td>...</td>\n",
       "      <td>...</td>\n",
       "      <td>...</td>\n",
       "      <td>...</td>\n",
       "      <td>...</td>\n",
       "      <td>...</td>\n",
       "      <td>...</td>\n",
       "      <td>...</td>\n",
       "      <td>...</td>\n",
       "    </tr>\n",
       "    <tr>\n",
       "      <th>188</th>\n",
       "      <td>0</td>\n",
       "      <td>0</td>\n",
       "      <td>0</td>\n",
       "      <td>0</td>\n",
       "      <td>0</td>\n",
       "      <td>0</td>\n",
       "      <td>0</td>\n",
       "      <td>0</td>\n",
       "      <td>0</td>\n",
       "      <td>0</td>\n",
       "      <td>...</td>\n",
       "      <td>0</td>\n",
       "      <td>0</td>\n",
       "      <td>0</td>\n",
       "      <td>0</td>\n",
       "      <td>0</td>\n",
       "      <td>0</td>\n",
       "      <td>0</td>\n",
       "      <td>0</td>\n",
       "      <td>0</td>\n",
       "      <td>0</td>\n",
       "    </tr>\n",
       "    <tr>\n",
       "      <th>189</th>\n",
       "      <td>0</td>\n",
       "      <td>0</td>\n",
       "      <td>0</td>\n",
       "      <td>0</td>\n",
       "      <td>0</td>\n",
       "      <td>0</td>\n",
       "      <td>0</td>\n",
       "      <td>0</td>\n",
       "      <td>0</td>\n",
       "      <td>0</td>\n",
       "      <td>...</td>\n",
       "      <td>0</td>\n",
       "      <td>0</td>\n",
       "      <td>0</td>\n",
       "      <td>0</td>\n",
       "      <td>0</td>\n",
       "      <td>0</td>\n",
       "      <td>0</td>\n",
       "      <td>0</td>\n",
       "      <td>0</td>\n",
       "      <td>0</td>\n",
       "    </tr>\n",
       "    <tr>\n",
       "      <th>190</th>\n",
       "      <td>0</td>\n",
       "      <td>0</td>\n",
       "      <td>0</td>\n",
       "      <td>0</td>\n",
       "      <td>0</td>\n",
       "      <td>0</td>\n",
       "      <td>0</td>\n",
       "      <td>0</td>\n",
       "      <td>0</td>\n",
       "      <td>0</td>\n",
       "      <td>...</td>\n",
       "      <td>0</td>\n",
       "      <td>0</td>\n",
       "      <td>0</td>\n",
       "      <td>0</td>\n",
       "      <td>0</td>\n",
       "      <td>0</td>\n",
       "      <td>0</td>\n",
       "      <td>0</td>\n",
       "      <td>0</td>\n",
       "      <td>0</td>\n",
       "    </tr>\n",
       "    <tr>\n",
       "      <th>191</th>\n",
       "      <td>0</td>\n",
       "      <td>0</td>\n",
       "      <td>0</td>\n",
       "      <td>0</td>\n",
       "      <td>0</td>\n",
       "      <td>0</td>\n",
       "      <td>0</td>\n",
       "      <td>0</td>\n",
       "      <td>0</td>\n",
       "      <td>0</td>\n",
       "      <td>...</td>\n",
       "      <td>0</td>\n",
       "      <td>0</td>\n",
       "      <td>0</td>\n",
       "      <td>0</td>\n",
       "      <td>0</td>\n",
       "      <td>0</td>\n",
       "      <td>0</td>\n",
       "      <td>0</td>\n",
       "      <td>0</td>\n",
       "      <td>0</td>\n",
       "    </tr>\n",
       "    <tr>\n",
       "      <th>192</th>\n",
       "      <td>0</td>\n",
       "      <td>0</td>\n",
       "      <td>0</td>\n",
       "      <td>0</td>\n",
       "      <td>0</td>\n",
       "      <td>0</td>\n",
       "      <td>0</td>\n",
       "      <td>0</td>\n",
       "      <td>0</td>\n",
       "      <td>0</td>\n",
       "      <td>...</td>\n",
       "      <td>0</td>\n",
       "      <td>0</td>\n",
       "      <td>0</td>\n",
       "      <td>0</td>\n",
       "      <td>0</td>\n",
       "      <td>0</td>\n",
       "      <td>0</td>\n",
       "      <td>0</td>\n",
       "      <td>0</td>\n",
       "      <td>0</td>\n",
       "    </tr>\n",
       "  </tbody>\n",
       "</table>\n",
       "<p>193 rows × 2320 columns</p>\n",
       "</div>"
      ],
      "text/plain": [
       "     abrir  abrir original  abrir ánimo  abrumado  abrumado lástima  \\\n",
       "0        0               0            0         0                 0   \n",
       "1        0               0            0         0                 0   \n",
       "2        0               0            0         0                 0   \n",
       "3        0               0            0         0                 0   \n",
       "4        0               0            0         0                 0   \n",
       "..     ...             ...          ...       ...               ...   \n",
       "188      0               0            0         0                 0   \n",
       "189      0               0            0         0                 0   \n",
       "190      0               0            0         0                 0   \n",
       "191      0               0            0         0                 0   \n",
       "192      0               0            0         0                 0   \n",
       "\n",
       "     abundante  abundante personal  acabar  acabar frerir  acabar gente  ...  \\\n",
       "0            0                   0       0              0             0  ...   \n",
       "1            0                   0       0              0             0  ...   \n",
       "2            0                   0       0              0             0  ...   \n",
       "3            0                   0       0              0             0  ...   \n",
       "4            0                   0       0              0             0  ...   \n",
       "..         ...                 ...     ...            ...           ...  ...   \n",
       "188          0                   0       0              0             0  ...   \n",
       "189          0                   0       0              0             0  ...   \n",
       "190          0                   0       0              0             0  ...   \n",
       "191          0                   0       0              0             0  ...   \n",
       "192          0                   0       0              0             0  ...   \n",
       "\n",
       "     zerbitzatzeko ondorioz  zona  zona acerco  zumaia  zumaia arantzazu  \\\n",
       "0                         0     0            0       0                 0   \n",
       "1                         0     0            0       0                 0   \n",
       "2                         0     0            0       0                 0   \n",
       "3                         0     1            1       0                 0   \n",
       "4                         0     0            0       0                 0   \n",
       "..                      ...   ...          ...     ...               ...   \n",
       "188                       0     0            0       0                 0   \n",
       "189                       0     0            0       0                 0   \n",
       "190                       0     0            0       0                 0   \n",
       "191                       0     0            0       0                 0   \n",
       "192                       0     0            0       0                 0   \n",
       "\n",
       "     ánimo  ánimo seguiremos  ún  ún camarero  único  \n",
       "0        0                 0   0            0      0  \n",
       "1        0                 0   0            0      0  \n",
       "2        0                 0   0            0      0  \n",
       "3        0                 0   0            0      0  \n",
       "4        0                 0   0            0      0  \n",
       "..     ...               ...  ..          ...    ...  \n",
       "188      0                 0   0            0      0  \n",
       "189      0                 0   0            0      0  \n",
       "190      0                 0   0            0      0  \n",
       "191      0                 0   0            0      0  \n",
       "192      0                 0   0            0      0  \n",
       "\n",
       "[193 rows x 2320 columns]"
      ]
     },
     "execution_count": 88,
     "metadata": {},
     "output_type": "execute_result"
    }
   ],
   "source": [
    "# Get list of stopwords in Spanish from file\n",
    "with open(\"data/stopwords-spanish.txt\", encoding=\"utf-8\") as file:\n",
    "    stopwords_spanish = file.read().splitlines()\n",
    "\n",
    "# Build stopwords list for this project\n",
    "stopwords = stopwords_spanish\\\n",
    "            + [\"zumarraga\", \"zumárraga\", \"urretxu\", \"gipuzkoa\", \"google\"]\n",
    "\n",
    "# To ignore digits and only consider words of two or more letters\n",
    "token_pattern=r'\\b[^\\d\\W][^\\d\\W]+\\b'\n",
    "    \n",
    "# Build and fit the vectorizer\n",
    "vect = CountVectorizer(\n",
    "    # Vocabulary size\n",
    "    # max_features=, # Pick the n most frequent words\n",
    "    # max_df=, # Ignore terms with higher than specified frequency\n",
    "    # min_df=, # Ignore terms with lower than specified frequency\n",
    "    # Stopwords: do not consider these words\n",
    "    stop_words=stopwords,\n",
    "    # Consider this pattern (ignore digits...)\n",
    "    token_pattern=token_pattern,\n",
    "    # Capture some context \n",
    "    ngram_range=(1, 2), # Bigrams besides unigrams\n",
    "                      )\n",
    "\n",
    "vect.fit(antiox[\"review\"])\n",
    "\n",
    "# Transform the review column\n",
    "X_review = vect.transform(antiox[\"review\"])\n",
    "\n",
    "# Create the bow representation\n",
    "X_df = pd.DataFrame(X_review.toarray(), columns=vect.get_feature_names_out())\n",
    "\n",
    "# # Take a look a the list of features\n",
    "# print(X_df.columns.tolist())\n",
    "\n",
    "# Show dataframe\n",
    "X_df"
   ]
  },
  {
   "cell_type": "markdown",
   "id": "efe8da07-f98e-42e8-98ac-820399582f3f",
   "metadata": {},
   "source": [
    "### New features\n",
    "Having extra features besides the BOW usually results in a better model. We will add the number of individual words in each review (a measure of the length of each review)."
   ]
  },
  {
   "cell_type": "code",
   "execution_count": 89,
   "id": "a97e308e-963d-4cc4-bd9a-73d8cb4e7302",
   "metadata": {
    "tags": [
     "hide-input"
    ]
   },
   "outputs": [],
   "source": [
    "# Create individual word (tokens) list for reviews (list of lists)\n",
    "word_tokens = [word_tokenize(review) for review in antiox[\"review\"]]\n",
    "\n",
    "# Iterate over the word_tokens list\n",
    "len_tokens = []\n",
    "for i in range(len(word_tokens)):\n",
    "    len_tokens.append(len(word_tokens[i]))\n",
    "    \n",
    "# Create a new feature for the length of each review\n",
    "X_df[\"n_tokens\"] = len_tokens"
   ]
  },
  {
   "cell_type": "markdown",
   "id": "bf5d477c-e462-4397-be8b-cb33e281189a",
   "metadata": {
    "tags": []
   },
   "source": [
    "### Model fitting\n",
    "Predicting whether a review was good or bad is a binary classification task in machine learning. When splitting the data in train and test sets, as there is an imbalance in the target classes, it is best practice to use stratified sampling to ensure the split reflects the original proportion of labels.\n",
    "\n",
    "I will choose a Logistic Regression model because it is a standard approach in binary classifiers. To address the imbalance issue, I will instantiate the model with parameter `class_weight` assigned to \"balanced\", so that the model automatically adjusts weights inversely proportional to class frequencies."
   ]
  },
  {
   "cell_type": "code",
   "execution_count": 90,
   "id": "09bfb6bc-2a30-4d46-b6e6-b6ad7858e203",
   "metadata": {
    "tags": [
     "hide-input"
    ]
   },
   "outputs": [],
   "source": [
    "# Define the vector of targets and matrix of features\n",
    "y = antiox[\"label\"]\n",
    "X = X_df\n",
    "\n",
    "# Split the data into training and testing sets\n",
    "X_train, X_test, y_train, y_test = train_test_split(X, y,\n",
    "                                                    test_size=0.3,\n",
    "                                                    random_state=123,\n",
    "                                                    stratify=y)\n",
    "\n",
    "# Scale X data, to help converge Logistic Regression model\n",
    "scaler = StandardScaler()\n",
    "scaler.fit(X_train)\n",
    "X_train_std = scaler.transform(X_train)\n",
    "X_test_std = scaler.transform(X_test)\n",
    "\n",
    "# Train a logistic regression\n",
    "log_reg = LogisticRegression(random_state=0,\n",
    "                             class_weight=\"balanced\").fit(X_train_std, y_train)\n",
    "\n",
    "# Make predictions on the test set\n",
    "y_predicted = log_reg.predict(X_test_std)"
   ]
  },
  {
   "cell_type": "markdown",
   "id": "abf82397-424b-4592-a1d7-81c48bff2123",
   "metadata": {},
   "source": [
    "### Model evaluation"
   ]
  },
  {
   "cell_type": "markdown",
   "id": "e9aae853-4c68-43bc-aa58-e5669908ed89",
   "metadata": {},
   "source": [
    "If for example we want to automatically detect bad reviews (to raise an alert and do something about them), it is important to catch as many of them as possible. In that case, I would choose \"recall\" to evaluate the model: the higher the score of this metric, the higher the number of reviews that will correctly be interpreted as bad reviews.\n",
    "\n",
    "That will come at the expense of \"precision\" though, as a higher sensitivity will mean more false positives (i.e. good reviews that will mistakenly be considered bad), but this is not a problem in this case (just a false alarm!)."
   ]
  },
  {
   "cell_type": "code",
   "execution_count": 91,
   "id": "1c9591b2-0fb0-4932-ba04-f01f275f7551",
   "metadata": {
    "tags": [
     "hide-input"
    ]
   },
   "outputs": [
    {
     "name": "stdout",
     "output_type": "stream",
     "text": [
      "Confusion matrix: \n",
      "\n",
      " [[14  6]\n",
      " [ 9 29]]\n",
      "\n",
      "Report: \n",
      "                  precision    recall  f1-score   support\n",
      "\n",
      " bad reviews ->       0.61      0.70      0.65        20\n",
      "good reviews ->       0.83      0.76      0.79        38\n",
      "\n",
      "       accuracy                           0.74        58\n",
      "      macro avg       0.72      0.73      0.72        58\n",
      "   weighted avg       0.75      0.74      0.75        58\n",
      "\n"
     ]
    }
   ],
   "source": [
    "# Print the performance metrics\n",
    "print('Confusion matrix: \\n\\n', confusion_matrix(y_test, y_predicted))\n",
    "print('\\nReport: \\n', classification_report(y_test, y_predicted,\n",
    "                                           target_names=[\"bad reviews ->\", \"good reviews ->\"]))"
   ]
  },
  {
   "cell_type": "code",
   "execution_count": 92,
   "id": "d4c59228-35e3-42df-848d-ded2cae0efe0",
   "metadata": {
    "tags": [
     "hide-input"
    ]
   },
   "outputs": [
    {
     "data": {
      "text/markdown": [
       "Recall (sensitivity) for bad reviews  -> **0.7**"
      ],
      "text/plain": [
       "<IPython.core.display.Markdown object>"
      ]
     },
     "metadata": {},
     "output_type": "display_data"
    }
   ],
   "source": [
    "# Get recall (sensitivity) of bad reviews\n",
    "display(Markdown(f'Recall (sensitivity) for bad reviews  -> **{classification_report(y_test, y_predicted, target_names=[\"bad reviews\", \"good reviews\"],output_dict=True)[\"bad reviews\"][\"recall\"]}**'))"
   ]
  },
  {
   "cell_type": "markdown",
   "id": "4b54a45d-0423-4772-a5be-336de976e589",
   "metadata": {},
   "source": [
    "## Conclusions"
   ]
  },
  {
   "cell_type": "markdown",
   "id": "bd1a6600-8cb2-4304-8672-3311976b49fa",
   "metadata": {},
   "source": [
    "In this project, reviews from a bar-restaurant were web-scraped from Google Maps, and a sentiment analysis model for texts was built.\n",
    "\n",
    "However, a machine learning model development project like this one needs iterative testing with different algorithms and hyperparameter tuning until the desired performance is achieved. There are lots of them in the language processing area. This was not though the aim of this little project, which was just to give an initial approach on the subject.\n",
    "\n",
    "Also —and most importantly—, a next step would involve experimenting with the business problem to decide whether the deployment into production of this machine learning tool pays off."
   ]
  },
  {
   "cell_type": "code",
   "execution_count": null,
   "id": "e760d1c6-e25a-4e7c-b089-129adf0b6680",
   "metadata": {},
   "outputs": [],
   "source": []
  }
 ],
 "metadata": {
  "kernelspec": {
   "display_name": "Python 3 (ipykernel)",
   "language": "python",
   "name": "python3"
  },
  "language_info": {
   "codemirror_mode": {
    "name": "ipython",
    "version": 3
   },
   "file_extension": ".py",
   "mimetype": "text/x-python",
   "name": "python",
   "nbconvert_exporter": "python",
   "pygments_lexer": "ipython3",
   "version": "3.12.0"
  }
 },
 "nbformat": 4,
 "nbformat_minor": 5
}
