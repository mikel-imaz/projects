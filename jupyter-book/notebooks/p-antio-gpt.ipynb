{
 "cells": [
  {
   "cell_type": "markdown",
   "id": "7bf43d99-cd44-4a14-9aac-f13ca021e003",
   "metadata": {
    "editable": true,
    "slideshow": {
     "slide_type": ""
    },
    "tags": []
   },
   "source": [
    "# **Sentiment analysis with OpenAI embeddings**"
   ]
  },
  {
   "attachments": {},
   "cell_type": "markdown",
   "id": "a326065b-dd9e-4eb6-8e21-e9503c3fb8f9",
   "metadata": {
    "editable": true,
    "slideshow": {
     "slide_type": ""
    },
    "tags": []
   },
   "source": [
    "![antio-ai.jpg](img/antio-ai.jpg)\n",
    "\n",
    "$^{1}$Photo by Eduard X (Dec 2022) taken from [Bidebide](https://www.google.com/maps/place/Bar-Restaurante+Bidebide+-+Zumarraga/@43.0916521,-2.3038457,15z/data=!4m6!3m5!1s0xd502df21409c619:0xbbdffd835d70d9e4!8m2!3d43.0916521!4d-2.3038457!16s%2Fg%2F11c4xc6ms1?entry=ttu) restaurant in Google Maps."
   ]
  },
  {
   "cell_type": "markdown",
   "id": "e077ce9c-5c51-4dba-beda-682f42cd4a0c",
   "metadata": {
    "editable": true,
    "slideshow": {
     "slide_type": ""
    },
    "tags": []
   },
   "source": [
    "Feb, 2024\n",
    "> *OpenAI API, Sentiment Analysis*"
   ]
  },
  {
   "cell_type": "markdown",
   "id": "c3c0a761-f216-499b-bde9-351e556b2931",
   "metadata": {},
   "source": [
    "## Background\n",
    "Last year, I worked on a [project](https://mikel-imaz.github.io/projects/notebooks/antio.html) where I scraped reviews of a restaurant from Google Maps to analyze the sentiments expressed in those reviews. In the project, I employed the basic Natural Language Processing technique of encoding words into numerical values and then used a basic machine learning model (logistic regression) to classify reviews as positive or negative. Now, seizing the opportunity provided by OpenAI to utilize its word vectorization model, I aim to revisit the same project to compare the results obtained with this new approach."
   ]
  },
  {
   "cell_type": "code",
   "execution_count": 16,
   "id": "b7ac82ef-8739-4560-8223-c0d44d16d78d",
   "metadata": {
    "editable": true,
    "slideshow": {
     "slide_type": ""
    },
    "tags": [
     "hide-input"
    ]
   },
   "outputs": [],
   "source": [
    "# Import basic packages\n",
    "import numpy as np\n",
    "import pandas as pd\n",
    "import matplotlib.pyplot as plt\n",
    "import seaborn as sns\n",
    "\n",
    "# Import other packages\n",
    "from openai import OpenAI\n",
    "from sklearn.manifold import TSNE\n",
    "from sklearn.metrics import confusion_matrix, classification_report\n",
    "from scipy.spatial import distance\n",
    "\n",
    "# Assign API key\n",
    "api_key = \"my-secret-key\"\n",
    "\n",
    "# OpenAI model\n",
    "model = \"text-embedding-ada-002\""
   ]
  },
  {
   "cell_type": "markdown",
   "id": "8e60d1ac-e717-420c-8713-841314ecbcb3",
   "metadata": {},
   "source": [
    "## The data\n",
    "I retrieve the data from the reviews that I saved in a CSV file."
   ]
  },
  {
   "cell_type": "code",
   "execution_count": 2,
   "id": "6910cf83-8a29-4bcd-98af-0d10b7335a2b",
   "metadata": {
    "editable": true,
    "slideshow": {
     "slide_type": ""
    },
    "tags": [
     "hide-input"
    ]
   },
   "outputs": [
    {
     "data": {
      "text/html": [
       "<div>\n",
       "<style scoped>\n",
       "    .dataframe tbody tr th:only-of-type {\n",
       "        vertical-align: middle;\n",
       "    }\n",
       "\n",
       "    .dataframe tbody tr th {\n",
       "        vertical-align: top;\n",
       "    }\n",
       "\n",
       "    .dataframe thead th {\n",
       "        text-align: right;\n",
       "    }\n",
       "</style>\n",
       "<table border=\"1\" class=\"dataframe\">\n",
       "  <thead>\n",
       "    <tr style=\"text-align: right;\">\n",
       "      <th></th>\n",
       "      <th>stars</th>\n",
       "      <th>text</th>\n",
       "    </tr>\n",
       "  </thead>\n",
       "  <tbody>\n",
       "    <tr>\n",
       "      <th>0</th>\n",
       "      <td>4 estrellas</td>\n",
       "      <td>Excelente trato y buena relación precio-calida...</td>\n",
       "    </tr>\n",
       "    <tr>\n",
       "      <th>1</th>\n",
       "      <td>5 estrellas</td>\n",
       "      <td>Muy buen menú con mucha variedad y buen produc...</td>\n",
       "    </tr>\n",
       "    <tr>\n",
       "      <th>2</th>\n",
       "      <td>4 estrellas</td>\n",
       "      <td>Comida buenísima y buena atención, vistas mara...</td>\n",
       "    </tr>\n",
       "    <tr>\n",
       "      <th>3</th>\n",
       "      <td>5 estrellas</td>\n",
       "      <td>He comido el menú del día por 13 euros, y tien...</td>\n",
       "    </tr>\n",
       "    <tr>\n",
       "      <th>4</th>\n",
       "      <td>4 estrellas</td>\n",
       "      <td>Restaurante grande con unos menús muy ricos y ...</td>\n",
       "    </tr>\n",
       "  </tbody>\n",
       "</table>\n",
       "</div>"
      ],
      "text/plain": [
       "           stars                                               text\n",
       "0   4 estrellas   Excelente trato y buena relación precio-calida...\n",
       "1   5 estrellas   Muy buen menú con mucha variedad y buen produc...\n",
       "2   4 estrellas   Comida buenísima y buena atención, vistas mara...\n",
       "3   5 estrellas   He comido el menú del día por 13 euros, y tien...\n",
       "4   4 estrellas   Restaurante grande con unos menús muy ricos y ..."
      ]
     },
     "execution_count": 2,
     "metadata": {},
     "output_type": "execute_result"
    }
   ],
   "source": [
    "# Read csv into a dataframe dropping rows with missing values\n",
    "antio = pd.read_csv('data/antio-reviews.csv', usecols=['stars', 'text']).dropna()\n",
    "antio.head()"
   ]
  },
  {
   "cell_type": "markdown",
   "id": "a102e8e7-f5f0-4d37-aa67-5b0465051444",
   "metadata": {},
   "source": [
    "## Data processing\n",
    "The string type stars column needs to be converted into integer values."
   ]
  },
  {
   "cell_type": "code",
   "execution_count": 3,
   "id": "546dfd43-209f-4e21-800a-0177d79df272",
   "metadata": {
    "editable": true,
    "slideshow": {
     "slide_type": ""
    },
    "tags": [
     "hide-input"
    ]
   },
   "outputs": [
    {
     "name": "stdout",
     "output_type": "stream",
     "text": [
      "<class 'pandas.core.frame.DataFrame'>\n",
      "Index: 193 entries, 0 to 202\n",
      "Data columns (total 2 columns):\n",
      " #   Column  Non-Null Count  Dtype \n",
      "---  ------  --------------  ----- \n",
      " 0   stars   193 non-null    int32 \n",
      " 1   text    193 non-null    object\n",
      "dtypes: int32(1), object(1)\n",
      "memory usage: 3.8+ KB\n",
      "None\n"
     ]
    }
   ],
   "source": [
    "# Convert stars column from string to number\n",
    "antio[\"stars_n\"] = [stars[1] for stars in antio[\"stars\"]]\n",
    "antio[\"stars_n\"] = antio[\"stars_n\"].astype(str).astype(int)\n",
    "\n",
    "# Rearrange dataframe with columns stars, text\n",
    "antio = antio.iloc[:, [2, 1]]\n",
    "antio = antio.rename(columns={\"stars_n\": \"stars\"})\n",
    "\n",
    "# Show dataframe info\n",
    "print(antio.info())"
   ]
  },
  {
   "cell_type": "markdown",
   "id": "e9dc4e3a-8d93-4e89-93a3-f61b000d1a63",
   "metadata": {},
   "source": [
    "## Create review texts' embeddings\n",
    "I define a function that creates embeddings from a list of texts and use it for the reviews."
   ]
  },
  {
   "cell_type": "code",
   "execution_count": 4,
   "id": "35fa56d1-4283-44b0-806e-c63beaf6c31e",
   "metadata": {
    "editable": true,
    "slideshow": {
     "slide_type": ""
    },
    "tags": [
     "hide-input"
    ]
   },
   "outputs": [],
   "source": [
    "# Set API key\n",
    "client = OpenAI(api_key=api_key)\n",
    "\n",
    "# Define a create_embeddings function\n",
    "def create_embeddings(texts):\n",
    "    response = client.embeddings.create(\n",
    "        model=model,\n",
    "        input=texts\n",
    "    )\n",
    "    response_dict = response.model_dump()\n",
    "    return [data['embedding'] for data in response_dict['data']]\n",
    "\n",
    "# Create a list of review texts\n",
    "review_texts = antio['text'].tolist()\n",
    "\n",
    "# Create embeddings for those texts\n",
    "review_embeddings = create_embeddings(review_texts)"
   ]
  },
  {
   "cell_type": "markdown",
   "id": "4a7075ef-62c8-4954-91f0-4bfd2634e335",
   "metadata": {},
   "source": [
    "## Sentiment analysis: stars (5 categories)\n",
    "At first, I classify the reviews into 5 different categories corresponding to the ratings that customers give by assigning stars. This way, I'll be able to directly compare the results obtained by OpenAI's semantic model with the ratings given by customers."
   ]
  },
  {
   "cell_type": "code",
   "execution_count": 5,
   "id": "2fb80b08-b771-4ec2-8b4b-d4782b2ceebc",
   "metadata": {
    "editable": true,
    "slideshow": {
     "slide_type": ""
    },
    "tags": [
     "hide-input"
    ]
   },
   "outputs": [
    {
     "data": {
      "text/html": [
       "<div>\n",
       "<style scoped>\n",
       "    .dataframe tbody tr th:only-of-type {\n",
       "        vertical-align: middle;\n",
       "    }\n",
       "\n",
       "    .dataframe tbody tr th {\n",
       "        vertical-align: top;\n",
       "    }\n",
       "\n",
       "    .dataframe thead th {\n",
       "        text-align: right;\n",
       "    }\n",
       "</style>\n",
       "<table border=\"1\" class=\"dataframe\">\n",
       "  <thead>\n",
       "    <tr style=\"text-align: right;\">\n",
       "      <th></th>\n",
       "      <th>stars</th>\n",
       "      <th>text</th>\n",
       "      <th>label</th>\n",
       "      <th>mismatch</th>\n",
       "    </tr>\n",
       "  </thead>\n",
       "  <tbody>\n",
       "    <tr>\n",
       "      <th>0</th>\n",
       "      <td>4</td>\n",
       "      <td>Excelente trato y buena relación precio-calida...</td>\n",
       "      <td>5</td>\n",
       "      <td>1</td>\n",
       "    </tr>\n",
       "    <tr>\n",
       "      <th>1</th>\n",
       "      <td>5</td>\n",
       "      <td>Muy buen menú con mucha variedad y buen produc...</td>\n",
       "      <td>5</td>\n",
       "      <td>0</td>\n",
       "    </tr>\n",
       "    <tr>\n",
       "      <th>2</th>\n",
       "      <td>4</td>\n",
       "      <td>Comida buenísima y buena atención, vistas mara...</td>\n",
       "      <td>5</td>\n",
       "      <td>1</td>\n",
       "    </tr>\n",
       "    <tr>\n",
       "      <th>3</th>\n",
       "      <td>5</td>\n",
       "      <td>He comido el menú del día por 13 euros, y tien...</td>\n",
       "      <td>5</td>\n",
       "      <td>0</td>\n",
       "    </tr>\n",
       "    <tr>\n",
       "      <th>4</th>\n",
       "      <td>4</td>\n",
       "      <td>Restaurante grande con unos menús muy ricos y ...</td>\n",
       "      <td>5</td>\n",
       "      <td>1</td>\n",
       "    </tr>\n",
       "    <tr>\n",
       "      <th>...</th>\n",
       "      <td>...</td>\n",
       "      <td>...</td>\n",
       "      <td>...</td>\n",
       "      <td>...</td>\n",
       "    </tr>\n",
       "    <tr>\n",
       "      <th>188</th>\n",
       "      <td>5</td>\n",
       "      <td>(Traducido por Google) Gran lugar\\r\\n\\r\\n(Orig...</td>\n",
       "      <td>5</td>\n",
       "      <td>0</td>\n",
       "    </tr>\n",
       "    <tr>\n",
       "      <th>189</th>\n",
       "      <td>5</td>\n",
       "      <td>(Traducido por Google) Increíble vista\\r\\n\\r\\n...</td>\n",
       "      <td>5</td>\n",
       "      <td>0</td>\n",
       "    </tr>\n",
       "    <tr>\n",
       "      <th>190</th>\n",
       "      <td>4</td>\n",
       "      <td>(Traducido por Google) Hermoso menú y temperat...</td>\n",
       "      <td>5</td>\n",
       "      <td>1</td>\n",
       "    </tr>\n",
       "    <tr>\n",
       "      <th>193</th>\n",
       "      <td>5</td>\n",
       "      <td>(Traducido por Google) Gran lugar\\r\\n\\r\\n(Orig...</td>\n",
       "      <td>5</td>\n",
       "      <td>0</td>\n",
       "    </tr>\n",
       "    <tr>\n",
       "      <th>202</th>\n",
       "      <td>3</td>\n",
       "      <td>(Traducido por Google) El restaurante\\r\\n\\r\\n(...</td>\n",
       "      <td>5</td>\n",
       "      <td>2</td>\n",
       "    </tr>\n",
       "  </tbody>\n",
       "</table>\n",
       "<p>193 rows × 4 columns</p>\n",
       "</div>"
      ],
      "text/plain": [
       "     stars                                               text  label  mismatch\n",
       "0        4  Excelente trato y buena relación precio-calida...      5         1\n",
       "1        5  Muy buen menú con mucha variedad y buen produc...      5         0\n",
       "2        4  Comida buenísima y buena atención, vistas mara...      5         1\n",
       "3        5  He comido el menú del día por 13 euros, y tien...      5         0\n",
       "4        4  Restaurante grande con unos menús muy ricos y ...      5         1\n",
       "..     ...                                                ...    ...       ...\n",
       "188      5  (Traducido por Google) Gran lugar\\r\\n\\r\\n(Orig...      5         0\n",
       "189      5  (Traducido por Google) Increíble vista\\r\\n\\r\\n...      5         0\n",
       "190      4  (Traducido por Google) Hermoso menú y temperat...      5         1\n",
       "193      5  (Traducido por Google) Gran lugar\\r\\n\\r\\n(Orig...      5         0\n",
       "202      3  (Traducido por Google) El restaurante\\r\\n\\r\\n(...      5         2\n",
       "\n",
       "[193 rows x 4 columns]"
      ]
     },
     "execution_count": 5,
     "metadata": {},
     "output_type": "execute_result"
    }
   ],
   "source": [
    "# Define sentiments\n",
    "sentiments = [{'label': 1, 'description': 'A very negative restaurant review'},\n",
    "              {'label': 2, 'description': 'A negative restaurant review'},\n",
    "              {'label': 3, 'description': 'A neutral restaurant review'},\n",
    "              {'label': 4, 'description': 'A positive restaurant review'},\n",
    "              {'label': 5, 'description': 'A very positive restaurant review'}]\n",
    "\n",
    "# Create a list of class descriptions from the sentiment descriptions\n",
    "class_descriptions = [sentiment['description'] for sentiment in sentiments]\n",
    "\n",
    "# Create embeddings for class_descriptions\n",
    "class_embeddings = create_embeddings(class_descriptions)\n",
    "\n",
    "# Define a function to return the minimum distance and its index\n",
    "def find_closest(query_vector, embeddings):\n",
    "    distances = []\n",
    "    for index, embedding in enumerate(embeddings):\n",
    "        dist = distance.cosine(query_vector, embedding)\n",
    "        distances.append({\"distance\": dist, \"index\": index})\n",
    "    return min(distances, key=lambda x: x[\"distance\"])\n",
    "\n",
    "# Find closest distance\n",
    "labels = []\n",
    "for index, review in enumerate(review_texts):\n",
    "    # Find the closest distance and its index using find_closest()\n",
    "    closest = find_closest(review_embeddings[index], class_embeddings)\n",
    "    # Subset sentiment label using the index from closest\n",
    "    label = sentiments[closest['index']]['label']\n",
    "    # Append to list\n",
    "    labels.append(label)\n",
    "\n",
    "# Make a copy of the dataframe\n",
    "antio5 = antio.copy()\n",
    "\n",
    "# Create column with closest label\n",
    "antio5['label'] = labels\n",
    "\n",
    "# Create column mismatch between stars and label\n",
    "antio5.loc[:, 'mismatch'] = abs(antio5['label'] - antio5['stars'])\n",
    "antio5"
   ]
  },
  {
   "cell_type": "code",
   "execution_count": 30,
   "id": "713c1b2c-f51a-42ea-af7e-a2baa3dbde74",
   "metadata": {
    "editable": true,
    "slideshow": {
     "slide_type": ""
    },
    "tags": [
     "hide-input"
    ]
   },
   "outputs": [
    {
     "name": "stdout",
     "output_type": "stream",
     "text": [
      "mismatch\n",
      "0    88\n",
      "1    70\n",
      "2    23\n",
      "3     6\n",
      "4     6\n",
      "Name: count, dtype: int64\n",
      "\n",
      "Accuracy rate -> 0.46\n"
     ]
    }
   ],
   "source": [
    "# Compute mismatches\n",
    "mismatches = antio5['mismatch'].value_counts()\n",
    "print(mismatches)\n",
    "\n",
    "# Print accuracy rate\n",
    "print(f'\\nAccuracy rate -> {(mismatches[0] / len(antio5)):.2f}')"
   ]
  },
  {
   "cell_type": "markdown",
   "id": "73e908db-ff52-4ebc-8cbf-4459b79fe1ef",
   "metadata": {},
   "source": [
    "The results indicate that the model only matched the stars assigned by customers in 88 out of 193 reviews, providing an accuracy rate of 46%.\n",
    "\n",
    "Out of curiosity, let's take a look at the 6 reviews that deviated the most, to check why this might have happened."
   ]
  },
  {
   "cell_type": "code",
   "execution_count": 31,
   "id": "1ccac01e-a3e0-4189-ae8e-a51a51123115",
   "metadata": {
    "editable": true,
    "slideshow": {
     "slide_type": ""
    },
    "tags": [
     "hide-input"
    ]
   },
   "outputs": [
    {
     "data": {
      "text/html": [
       "<div>\n",
       "<style scoped>\n",
       "    .dataframe tbody tr th:only-of-type {\n",
       "        vertical-align: middle;\n",
       "    }\n",
       "\n",
       "    .dataframe tbody tr th {\n",
       "        vertical-align: top;\n",
       "    }\n",
       "\n",
       "    .dataframe thead th {\n",
       "        text-align: right;\n",
       "    }\n",
       "</style>\n",
       "<table border=\"1\" class=\"dataframe\">\n",
       "  <thead>\n",
       "    <tr style=\"text-align: right;\">\n",
       "      <th></th>\n",
       "      <th>stars</th>\n",
       "      <th>text</th>\n",
       "      <th>label</th>\n",
       "      <th>mismatch</th>\n",
       "    </tr>\n",
       "  </thead>\n",
       "  <tbody>\n",
       "    <tr>\n",
       "      <th>41</th>\n",
       "      <td>1</td>\n",
       "      <td>El sitio es espectacular. El servicio es inesi...</td>\n",
       "      <td>5</td>\n",
       "      <td>4</td>\n",
       "    </tr>\n",
       "    <tr>\n",
       "      <th>60</th>\n",
       "      <td>1</td>\n",
       "      <td>El precio un poco excesivo para todo su conjun...</td>\n",
       "      <td>5</td>\n",
       "      <td>4</td>\n",
       "    </tr>\n",
       "    <tr>\n",
       "      <th>106</th>\n",
       "      <td>1</td>\n",
       "      <td>El sitio esta de lujo, pero deja mucho que des...</td>\n",
       "      <td>5</td>\n",
       "      <td>4</td>\n",
       "    </tr>\n",
       "    <tr>\n",
       "      <th>146</th>\n",
       "      <td>1</td>\n",
       "      <td>Me gusta mucho</td>\n",
       "      <td>5</td>\n",
       "      <td>4</td>\n",
       "    </tr>\n",
       "    <tr>\n",
       "      <th>157</th>\n",
       "      <td>1</td>\n",
       "      <td>Cerveza caliente y camareros bordes, la combin...</td>\n",
       "      <td>5</td>\n",
       "      <td>4</td>\n",
       "    </tr>\n",
       "    <tr>\n",
       "      <th>187</th>\n",
       "      <td>1</td>\n",
       "      <td>(Traducido por Google) Nos sentamos a la mesa ...</td>\n",
       "      <td>5</td>\n",
       "      <td>4</td>\n",
       "    </tr>\n",
       "  </tbody>\n",
       "</table>\n",
       "</div>"
      ],
      "text/plain": [
       "     stars                                               text  label  mismatch\n",
       "41       1  El sitio es espectacular. El servicio es inesi...      5         4\n",
       "60       1  El precio un poco excesivo para todo su conjun...      5         4\n",
       "106      1  El sitio esta de lujo, pero deja mucho que des...      5         4\n",
       "146      1                                     Me gusta mucho      5         4\n",
       "157      1  Cerveza caliente y camareros bordes, la combin...      5         4\n",
       "187      1  (Traducido por Google) Nos sentamos a la mesa ...      5         4"
      ]
     },
     "execution_count": 31,
     "metadata": {},
     "output_type": "execute_result"
    }
   ],
   "source": [
    "# Select rows with maximum mismatch of 4 stars\n",
    "antio5_mis4 = antio5.loc[antio5['mismatch'] == 4, :]\n",
    "antio5_mis4"
   ]
  },
  {
   "cell_type": "code",
   "execution_count": 40,
   "id": "093d020d-defe-4001-b280-7cfcde2ab94d",
   "metadata": {
    "editable": true,
    "slideshow": {
     "slide_type": ""
    },
    "tags": [
     "hide-input"
    ]
   },
   "outputs": [
    {
     "name": "stdout",
     "output_type": "stream",
     "text": [
      "1 --> {'stars': 1, 'text': 'El sitio es espectacular. El servicio es inesistente desde qué te toman la comanda, asta qué llega él pri. plato puedes hecharte una siesta y ya no te digo nada para él seg. plato etc.... Lo que no entiendo como sigue teniendo el mismo dueño la explotación en fin un autentico desastre. Y llevo 35 años comiendo fuera de casa, así que algo de esperiencia tendré.', 'label': 5, 'mismatch': 4}\n",
      "\n",
      "2 --> {'stars': 1, 'text': 'El precio un poco excesivo para todo su conjunto, teniendo en cuenta sobre todo el trato del personal. La comida está buena, pero no tanto como para pagar 26€ por un menú que, a primera vista llamaba mucho la atención, pero después dejó mucho que desear.', 'label': 5, 'mismatch': 4}\n",
      "\n",
      "3 --> {'stars': 1, 'text': 'El sitio esta de lujo, pero deja mucho que desear.\\r\\nCroquetas congeladas, bacalao sin acabar de frerir, la carrillera de la carta es redondo de ternera, ...\\r\\nSolo lo salvan las camareras, que estan atentas a todo y pidiendo disculpas.\\r\\nPara tomar una caña y un pintxo despues del monte vale, pero no para mas.', 'label': 5, 'mismatch': 4}\n",
      "\n",
      "4 --> {'stars': 1, 'text': 'Me gusta mucho', 'label': 5, 'mismatch': 4}\n",
      "\n",
      "5 --> {'stars': 1, 'text': 'Cerveza caliente y camareros bordes, la combinación perfecta para no volver', 'label': 5, 'mismatch': 4}\n",
      "\n",
      "6 --> {'stars': 1, 'text': '(Traducido por Google) Nos sentamos a la mesa durante una hora y media hasta que trajeron la comida.\\r\\nHabíamos hecho una reserva el día anterior.\\r\\n\\r\\n(Original)\\r\\nOrdu ta erdi mahaian eserita zai egon ginen janaria ekarri arte.\\r\\nBezperan erreserba eginda genuen.', 'label': 5, 'mismatch': 4}\n",
      "\n"
     ]
    }
   ],
   "source": [
    "# Transform dataframe into list of dictionary to show full text when printed\n",
    "reviews = [antio5_mis4.iloc[row, :].to_dict() for row in range(len(antio5_mis4))]\n",
    "\n",
    "# Print\n",
    "for i in range(len(antio5_mis4)):\n",
    "    print(f'{i + 1} --> {reviews[i]}\\n')"
   ]
  },
  {
   "cell_type": "markdown",
   "id": "c2f6faa4-3eca-4790-8a7a-c197f46e0c0c",
   "metadata": {},
   "source": [
    "In the review number 4 on this list, the issue arises from the inconsistency of the customer, who assigned only one star when the corresponding text they wrote indicated satisfaction, and therefore the model correctly deduced that it deserved 5 stars.\n",
    "\n",
    "In the rest of the reviews, the model misinterpreted the text, probably due to reasons such as: The use of positive words in a context that actually indicated dissatisfaction; Poor writing style that hinders comprehension; Texts in languages other than English."
   ]
  },
  {
   "cell_type": "markdown",
   "id": "feded60d-e056-4daa-ac34-e0dd7b9d0a42",
   "metadata": {},
   "source": [
    "## Sentiment analysis: good/bad (2 categories)\n",
    "To better compare the results of this model with those I obtained in the original project, I tried asking it to classify the texts in a binary manner, that is, into good and bad reviews. Just as I did in the original project, to simplify and not have to take the trouble of assigning it myself by reading each text, I considered a review to be good if it had been assigned 5 or 4 stars, while a bad one was one that had received 1, 2, or 3 stars."
   ]
  },
  {
   "cell_type": "code",
   "execution_count": 23,
   "id": "8fd97337-7a16-4bf7-bc77-57804d7e7104",
   "metadata": {
    "editable": true,
    "slideshow": {
     "slide_type": ""
    },
    "tags": [
     "hide-input"
    ]
   },
   "outputs": [
    {
     "data": {
      "text/html": [
       "<div>\n",
       "<style scoped>\n",
       "    .dataframe tbody tr th:only-of-type {\n",
       "        vertical-align: middle;\n",
       "    }\n",
       "\n",
       "    .dataframe tbody tr th {\n",
       "        vertical-align: top;\n",
       "    }\n",
       "\n",
       "    .dataframe thead th {\n",
       "        text-align: right;\n",
       "    }\n",
       "</style>\n",
       "<table border=\"1\" class=\"dataframe\">\n",
       "  <thead>\n",
       "    <tr style=\"text-align: right;\">\n",
       "      <th></th>\n",
       "      <th>stars</th>\n",
       "      <th>text</th>\n",
       "      <th>label</th>\n",
       "      <th>stars_4_5</th>\n",
       "    </tr>\n",
       "  </thead>\n",
       "  <tbody>\n",
       "    <tr>\n",
       "      <th>0</th>\n",
       "      <td>4</td>\n",
       "      <td>Excelente trato y buena relación precio-calida...</td>\n",
       "      <td>1</td>\n",
       "      <td>1</td>\n",
       "    </tr>\n",
       "    <tr>\n",
       "      <th>1</th>\n",
       "      <td>5</td>\n",
       "      <td>Muy buen menú con mucha variedad y buen produc...</td>\n",
       "      <td>1</td>\n",
       "      <td>1</td>\n",
       "    </tr>\n",
       "    <tr>\n",
       "      <th>2</th>\n",
       "      <td>4</td>\n",
       "      <td>Comida buenísima y buena atención, vistas mara...</td>\n",
       "      <td>1</td>\n",
       "      <td>1</td>\n",
       "    </tr>\n",
       "    <tr>\n",
       "      <th>3</th>\n",
       "      <td>5</td>\n",
       "      <td>He comido el menú del día por 13 euros, y tien...</td>\n",
       "      <td>1</td>\n",
       "      <td>1</td>\n",
       "    </tr>\n",
       "    <tr>\n",
       "      <th>4</th>\n",
       "      <td>4</td>\n",
       "      <td>Restaurante grande con unos menús muy ricos y ...</td>\n",
       "      <td>1</td>\n",
       "      <td>1</td>\n",
       "    </tr>\n",
       "    <tr>\n",
       "      <th>...</th>\n",
       "      <td>...</td>\n",
       "      <td>...</td>\n",
       "      <td>...</td>\n",
       "      <td>...</td>\n",
       "    </tr>\n",
       "    <tr>\n",
       "      <th>188</th>\n",
       "      <td>5</td>\n",
       "      <td>(Traducido por Google) Gran lugar\\r\\n\\r\\n(Orig...</td>\n",
       "      <td>1</td>\n",
       "      <td>1</td>\n",
       "    </tr>\n",
       "    <tr>\n",
       "      <th>189</th>\n",
       "      <td>5</td>\n",
       "      <td>(Traducido por Google) Increíble vista\\r\\n\\r\\n...</td>\n",
       "      <td>1</td>\n",
       "      <td>1</td>\n",
       "    </tr>\n",
       "    <tr>\n",
       "      <th>190</th>\n",
       "      <td>4</td>\n",
       "      <td>(Traducido por Google) Hermoso menú y temperat...</td>\n",
       "      <td>1</td>\n",
       "      <td>1</td>\n",
       "    </tr>\n",
       "    <tr>\n",
       "      <th>193</th>\n",
       "      <td>5</td>\n",
       "      <td>(Traducido por Google) Gran lugar\\r\\n\\r\\n(Orig...</td>\n",
       "      <td>1</td>\n",
       "      <td>1</td>\n",
       "    </tr>\n",
       "    <tr>\n",
       "      <th>202</th>\n",
       "      <td>3</td>\n",
       "      <td>(Traducido por Google) El restaurante\\r\\n\\r\\n(...</td>\n",
       "      <td>1</td>\n",
       "      <td>0</td>\n",
       "    </tr>\n",
       "  </tbody>\n",
       "</table>\n",
       "<p>193 rows × 4 columns</p>\n",
       "</div>"
      ],
      "text/plain": [
       "     stars                                               text  label  \\\n",
       "0        4  Excelente trato y buena relación precio-calida...      1   \n",
       "1        5  Muy buen menú con mucha variedad y buen produc...      1   \n",
       "2        4  Comida buenísima y buena atención, vistas mara...      1   \n",
       "3        5  He comido el menú del día por 13 euros, y tien...      1   \n",
       "4        4  Restaurante grande con unos menús muy ricos y ...      1   \n",
       "..     ...                                                ...    ...   \n",
       "188      5  (Traducido por Google) Gran lugar\\r\\n\\r\\n(Orig...      1   \n",
       "189      5  (Traducido por Google) Increíble vista\\r\\n\\r\\n...      1   \n",
       "190      4  (Traducido por Google) Hermoso menú y temperat...      1   \n",
       "193      5  (Traducido por Google) Gran lugar\\r\\n\\r\\n(Orig...      1   \n",
       "202      3  (Traducido por Google) El restaurante\\r\\n\\r\\n(...      1   \n",
       "\n",
       "     stars_4_5  \n",
       "0            1  \n",
       "1            1  \n",
       "2            1  \n",
       "3            1  \n",
       "4            1  \n",
       "..         ...  \n",
       "188          1  \n",
       "189          1  \n",
       "190          1  \n",
       "193          1  \n",
       "202          0  \n",
       "\n",
       "[193 rows x 4 columns]"
      ]
     },
     "execution_count": 23,
     "metadata": {},
     "output_type": "execute_result"
    }
   ],
   "source": [
    "# Define sentiments\n",
    "sentiments = [{'label': 0, 'description': 'A negative restaurant review'},\n",
    "              {'label': 1, 'description': 'A positive restaurant review'}]\n",
    "\n",
    "# Create a list of class descriptions from the sentiment descriptions\n",
    "class_descriptions = [sentiment['description'] for sentiment in sentiments]\n",
    "\n",
    "# Create embeddings for class_descriptions\n",
    "class_embeddings = create_embeddings(class_descriptions)\n",
    "\n",
    "# Find closest distance\n",
    "labels = []\n",
    "for index, review in enumerate(review_texts):\n",
    "    # Find the closest distance and its index using find_closest()\n",
    "    closest = find_closest(review_embeddings[index], class_embeddings)\n",
    "    # Subset sentiment label using the index from closest\n",
    "    label = sentiments[closest['index']]['label']\n",
    "    # Append to list\n",
    "    labels.append(label)\n",
    "\n",
    "# Make a copy of the dataframe\n",
    "antio2 = antio.copy()\n",
    "\n",
    "# Include stars prediction results in dataframe\n",
    "antio2['label'] = labels\n",
    "\n",
    "# Create column representing stars values 4 or 5\n",
    "antio2['stars_4_5'] = ((antio2['stars'] == 5) | (antio2['stars'] == 4)).replace({True: 1, False: 0})\n",
    "antio2"
   ]
  },
  {
   "cell_type": "code",
   "execution_count": 41,
   "id": "b416e35d-111e-4001-b03d-c572415425f0",
   "metadata": {
    "editable": true,
    "slideshow": {
     "slide_type": ""
    },
    "tags": [
     "hide-input"
    ]
   },
   "outputs": [
    {
     "name": "stdout",
     "output_type": "stream",
     "text": [
      "Confusion matrix: \n",
      "\n",
      " [[ 29  36]\n",
      " [  2 126]]\n",
      "\n",
      "Report: \n",
      "                  precision    recall  f1-score   support\n",
      "\n",
      " bad reviews ->       0.94      0.45      0.60        65\n",
      "good reviews ->       0.78      0.98      0.87       128\n",
      "\n",
      "       accuracy                           0.80       193\n",
      "      macro avg       0.86      0.72      0.74       193\n",
      "   weighted avg       0.83      0.80      0.78       193\n",
      "\n"
     ]
    }
   ],
   "source": [
    "# Print results\n",
    "y_test = antio2['stars_4_5']\n",
    "y_predicted = antio2['label']\n",
    "\n",
    "print('Confusion matrix: \\n\\n', confusion_matrix(y_test, y_predicted))\n",
    "print('\\nReport: \\n', classification_report(y_test, y_predicted,\n",
    "                                            target_names=[\"bad reviews ->\", \"good reviews ->\"]))"
   ]
  },
  {
   "cell_type": "markdown",
   "id": "a1cef432-ab7d-4736-9467-b88693d18d6a",
   "metadata": {},
   "source": [
    "The accuracy with which it detects whether reviews are good or bad is quite high, especially for the bad ones (29 correct negative reviews and only 2 were misclassified as negative). However, if we consider that this automatic classification would be more useful if it were able to capture the maximum number of negative reviews (to provide a prompt response to all dissatisfied customers), then we see that the **sensitivity (recall) of 0.45** is quite low in this case (it captured 29 negative reviews, but missed 36 that were also negative). For this specific case, the result obtained is worse than in the original basic project I did last year, in which I obtained a recall of 0.7."
   ]
  },
  {
   "cell_type": "markdown",
   "id": "aea39756-dcd4-4e31-b615-58bb98d18fd2",
   "metadata": {},
   "source": [
    "## Visualizing\n",
    "Simply to have a visual reference of what the model is doing, I reduce the dimensionality of the vectors to 2 in order to plot their position on a plane and verify that indeed the reviews of each type are spatially clustered."
   ]
  },
  {
   "cell_type": "code",
   "execution_count": 43,
   "id": "bf88d4c4-e1ff-43c0-88c3-240354f066ff",
   "metadata": {
    "editable": true,
    "slideshow": {
     "slide_type": ""
    },
    "tags": [
     "hide-input"
    ]
   },
   "outputs": [
    {
     "data": {
      "image/png": "[encoded data removed]",
      "text/plain": [
       "<Figure size 640x480 with 1 Axes>"
      ]
     },
     "metadata": {},
     "output_type": "display_data"
    }
   ],
   "source": [
    "# Reduce the number of embeddings dimensions to two using t-SNE\n",
    "tsne = TSNE(n_components=2, perplexity=5)\n",
    "embeddings_2d = tsne.fit_transform(np.array(review_embeddings))\n",
    "\n",
    "# Create an auxiliary dataframe to plot with seaborn\n",
    "df_visu = pd.DataFrame(embeddings_2d.tolist())\n",
    "df_visu['review'] = antio2['label'].tolist()\n",
    "df_visu['review'] = df_visu['review'].replace({0: 'bad', 1: 'good'})\n",
    "\n",
    "# Plot\n",
    "sns.scatterplot(x=0, y=1, hue='review', data=df_visu, palette=['green', 'red'])\n",
    "sns.despine()\n",
    "plt.show()"
   ]
  },
  {
   "cell_type": "markdown",
   "id": "6ce41d22-3bd4-4854-87be-fb528027b0b4",
   "metadata": {},
   "source": [
    "## Conclusion"
   ]
  },
  {
   "cell_type": "markdown",
   "id": "cc86892c-7e60-458b-8def-66d56666ef3f",
   "metadata": {
    "editable": true,
    "slideshow": {
     "slide_type": ""
    },
    "tags": []
   },
   "source": [
    "Despite the ease of use and the impressive ability of OpenAI's semantic model to assign sentiment to each review, in this project, when it came to automatically detecting *all* the negative reviews, it did not give me better results than the ones I obtained last year using more basic Machine Learning techniques."
   ]
  }
 ],
 "metadata": {
  "kernelspec": {
   "display_name": "my-venv-01",
   "language": "python",
   "name": "my-venv-01"
  },
  "language_info": {
   "codemirror_mode": {
    "name": "ipython",
    "version": 3
   },
   "file_extension": ".py",
   "mimetype": "text/x-python",
   "name": "python",
   "nbconvert_exporter": "python",
   "pygments_lexer": "ipython3",
   "version": "3.12.0"
  },
  "toc": {
   "base_numbering": 0
  }
 },
 "nbformat": 4,
 "nbformat_minor": 5
}
